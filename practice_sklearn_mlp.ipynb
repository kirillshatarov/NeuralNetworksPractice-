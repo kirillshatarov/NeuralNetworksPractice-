{
  "nbformat": 4,
  "nbformat_minor": 0,
  "metadata": {
    "colab": {
      "provenance": []
    },
    "kernelspec": {
      "name": "python3",
      "display_name": "Python 3"
    },
    "language_info": {
      "name": "python"
    }
  },
  "cells": [
    {
      "cell_type": "markdown",
      "source": [
        "# Многослойный перцептрон\n",
        "\n",
        "## Лабораторная работа №4"
      ],
      "metadata": {
        "id": "HZvz0gdW76W5"
      }
    },
    {
      "cell_type": "markdown",
      "source": [
        "Присвойте строку с вашим ФИО переменной `name` и выполните ячейку. В ее выводе будет указан номер вашего варианта."
      ],
      "metadata": {
        "id": "T2Pz-P4zD5sC"
      }
    },
    {
      "cell_type": "code",
      "source": [
        "name = \"Шатаров Кирилл Александрович\"\n",
        "\n",
        "def calculate_variant(name):\n",
        "    return sum(ord(char) for char in name) % 2 + 1\n",
        "\n",
        "print(f\"Ваш вариант - №{calculate_variant(name)}\")"
      ],
      "metadata": {
        "id": "dhoU_CP8DZvg",
        "colab": {
          "base_uri": "https://localhost:8080/"
        },
        "outputId": "f3735ed5-5806-42bb-8b5b-ebfb7da79238"
      },
      "execution_count": 2,
      "outputs": [
        {
          "output_type": "stream",
          "name": "stdout",
          "text": [
            "Ваш вариант - №2\n"
          ]
        }
      ]
    },
    {
      "cell_type": "markdown",
      "source": [
        "\n",
        "---\n",
        "\n",
        "**Впишите в эту ячейку ваши ФИО, группу и вариант**.\n",
        "\n",
        "ФИО: Шатаров Кирилл Александрович\n",
        "\n",
        "Группа: 211-365\n",
        "\n",
        "Вариант: №2\n",
        "\n",
        "---\n",
        "\n",
        "Далее по ходу ноутбука вам встрется ячейки с кодом, в которых будут комментарии с заданиями, и текстовые ячейки как эта с вопросами, на которые вам необходимо письменно в ноутбуке ответить.\n",
        "\n",
        "Все ячейки необходимо запускать.\n",
        "\n",
        "Данные для вариантов лежат по ссылкам:\n",
        "\n",
        "1. http://labcolor.space/mlp-1.csv\n",
        "1. http://labcolor.space/mlp-2.csv\n",
        "\n",
        "Скопируйте ссылку для своего варианта."
      ],
      "metadata": {
        "id": "gAFVgWfvA9cu"
      }
    },
    {
      "cell_type": "markdown",
      "source": [
        "## Импорт модулей"
      ],
      "metadata": {
        "id": "hb7oukvg176R"
      }
    },
    {
      "cell_type": "code",
      "source": [
        "import numpy as np\n",
        "import matplotlib.pyplot as plt\n",
        "import pandas as pd\n",
        "import seaborn as sns\n",
        "from sklearn.model_selection import train_test_split"
      ],
      "metadata": {
        "id": "HLUv2a5i1_Qv"
      },
      "execution_count": 2,
      "outputs": []
    },
    {
      "cell_type": "markdown",
      "source": [
        "## Загрузка данных\n",
        "\n",
        "Используя уже знакомые вам функции, загрузите данные и проведите их анализ на предмет количества признаков, объектов и классов. В данных последний столбец это целевой признак, а первая строка — это порядковый номер признака начиная с 0."
      ],
      "metadata": {
        "id": "_PqyV8DO08ZR"
      }
    },
    {
      "cell_type": "code",
      "source": [
        "df = pd.read_csv(\"http://labcolor.space/mlp-2.csv\")\n",
        "df.head()"
      ],
      "metadata": {
        "id": "OXvZhd9U1S8y",
        "colab": {
          "base_uri": "https://localhost:8080/",
          "height": 255
        },
        "outputId": "77bc9b55-1f08-4580-d767-87e0eb2c45b6"
      },
      "execution_count": 3,
      "outputs": [
        {
          "output_type": "execute_result",
          "data": {
            "text/plain": [
              "           0         1         2          3         4         5          6  \\\n",
              "0  10.254155  6.456498  5.753013   7.362006 -3.275942  4.235079 -13.745790   \n",
              "1  -0.188422 -4.291450  3.208396  -2.620343  1.071647  5.776388   3.559500   \n",
              "2   6.006333  6.405122  0.215123  -0.535726 -1.816995 -2.706071  -5.393072   \n",
              "3 -14.907643 -6.559742  5.417358  15.872302  6.523179  1.375495  -3.886285   \n",
              "4   4.393847 -1.035926  0.905016  -5.079603 -3.174534 -6.252063   4.937048   \n",
              "\n",
              "          7         8         9  ...        91        92        93        94  \\\n",
              "0  9.689982 -3.533689  6.917225  ...  7.697823  7.451562 -2.842100 -6.818141   \n",
              "1  8.054400  6.300035  3.491333  ...  1.814030  2.642279  4.374068  5.808833   \n",
              "2  1.153604 -2.691906 -3.108858  ... -3.764842 -3.675805  1.504159  5.345504   \n",
              "3 -6.892180  2.041143 -7.689962  ...  0.059781 -5.889617  5.613364  2.668084   \n",
              "4  7.961506 -7.844759  7.039012  ...  0.301236  3.700054 -7.928076  5.380378   \n",
              "\n",
              "          95         96        97        98         99  100  \n",
              "0   1.837982  -4.743549 -3.434180  3.539593   3.536859    7  \n",
              "1  -5.916498   4.262621  1.516000  0.015446  13.127266    7  \n",
              "2  12.229908   9.397199  9.019515 -2.510086   3.123849    6  \n",
              "3  -0.054000   4.005976 -8.868624  9.375650  -3.635482    7  \n",
              "4   3.981723 -10.995349  1.430469 -1.562244  -1.682252    5  \n",
              "\n",
              "[5 rows x 101 columns]"
            ],
            "text/html": [
              "\n",
              "  <div id=\"df-46e9cab2-4a4f-4237-9f29-d4c7a41dcee7\" class=\"colab-df-container\">\n",
              "    <div>\n",
              "<style scoped>\n",
              "    .dataframe tbody tr th:only-of-type {\n",
              "        vertical-align: middle;\n",
              "    }\n",
              "\n",
              "    .dataframe tbody tr th {\n",
              "        vertical-align: top;\n",
              "    }\n",
              "\n",
              "    .dataframe thead th {\n",
              "        text-align: right;\n",
              "    }\n",
              "</style>\n",
              "<table border=\"1\" class=\"dataframe\">\n",
              "  <thead>\n",
              "    <tr style=\"text-align: right;\">\n",
              "      <th></th>\n",
              "      <th>0</th>\n",
              "      <th>1</th>\n",
              "      <th>2</th>\n",
              "      <th>3</th>\n",
              "      <th>4</th>\n",
              "      <th>5</th>\n",
              "      <th>6</th>\n",
              "      <th>7</th>\n",
              "      <th>8</th>\n",
              "      <th>9</th>\n",
              "      <th>...</th>\n",
              "      <th>91</th>\n",
              "      <th>92</th>\n",
              "      <th>93</th>\n",
              "      <th>94</th>\n",
              "      <th>95</th>\n",
              "      <th>96</th>\n",
              "      <th>97</th>\n",
              "      <th>98</th>\n",
              "      <th>99</th>\n",
              "      <th>100</th>\n",
              "    </tr>\n",
              "  </thead>\n",
              "  <tbody>\n",
              "    <tr>\n",
              "      <th>0</th>\n",
              "      <td>10.254155</td>\n",
              "      <td>6.456498</td>\n",
              "      <td>5.753013</td>\n",
              "      <td>7.362006</td>\n",
              "      <td>-3.275942</td>\n",
              "      <td>4.235079</td>\n",
              "      <td>-13.745790</td>\n",
              "      <td>9.689982</td>\n",
              "      <td>-3.533689</td>\n",
              "      <td>6.917225</td>\n",
              "      <td>...</td>\n",
              "      <td>7.697823</td>\n",
              "      <td>7.451562</td>\n",
              "      <td>-2.842100</td>\n",
              "      <td>-6.818141</td>\n",
              "      <td>1.837982</td>\n",
              "      <td>-4.743549</td>\n",
              "      <td>-3.434180</td>\n",
              "      <td>3.539593</td>\n",
              "      <td>3.536859</td>\n",
              "      <td>7</td>\n",
              "    </tr>\n",
              "    <tr>\n",
              "      <th>1</th>\n",
              "      <td>-0.188422</td>\n",
              "      <td>-4.291450</td>\n",
              "      <td>3.208396</td>\n",
              "      <td>-2.620343</td>\n",
              "      <td>1.071647</td>\n",
              "      <td>5.776388</td>\n",
              "      <td>3.559500</td>\n",
              "      <td>8.054400</td>\n",
              "      <td>6.300035</td>\n",
              "      <td>3.491333</td>\n",
              "      <td>...</td>\n",
              "      <td>1.814030</td>\n",
              "      <td>2.642279</td>\n",
              "      <td>4.374068</td>\n",
              "      <td>5.808833</td>\n",
              "      <td>-5.916498</td>\n",
              "      <td>4.262621</td>\n",
              "      <td>1.516000</td>\n",
              "      <td>0.015446</td>\n",
              "      <td>13.127266</td>\n",
              "      <td>7</td>\n",
              "    </tr>\n",
              "    <tr>\n",
              "      <th>2</th>\n",
              "      <td>6.006333</td>\n",
              "      <td>6.405122</td>\n",
              "      <td>0.215123</td>\n",
              "      <td>-0.535726</td>\n",
              "      <td>-1.816995</td>\n",
              "      <td>-2.706071</td>\n",
              "      <td>-5.393072</td>\n",
              "      <td>1.153604</td>\n",
              "      <td>-2.691906</td>\n",
              "      <td>-3.108858</td>\n",
              "      <td>...</td>\n",
              "      <td>-3.764842</td>\n",
              "      <td>-3.675805</td>\n",
              "      <td>1.504159</td>\n",
              "      <td>5.345504</td>\n",
              "      <td>12.229908</td>\n",
              "      <td>9.397199</td>\n",
              "      <td>9.019515</td>\n",
              "      <td>-2.510086</td>\n",
              "      <td>3.123849</td>\n",
              "      <td>6</td>\n",
              "    </tr>\n",
              "    <tr>\n",
              "      <th>3</th>\n",
              "      <td>-14.907643</td>\n",
              "      <td>-6.559742</td>\n",
              "      <td>5.417358</td>\n",
              "      <td>15.872302</td>\n",
              "      <td>6.523179</td>\n",
              "      <td>1.375495</td>\n",
              "      <td>-3.886285</td>\n",
              "      <td>-6.892180</td>\n",
              "      <td>2.041143</td>\n",
              "      <td>-7.689962</td>\n",
              "      <td>...</td>\n",
              "      <td>0.059781</td>\n",
              "      <td>-5.889617</td>\n",
              "      <td>5.613364</td>\n",
              "      <td>2.668084</td>\n",
              "      <td>-0.054000</td>\n",
              "      <td>4.005976</td>\n",
              "      <td>-8.868624</td>\n",
              "      <td>9.375650</td>\n",
              "      <td>-3.635482</td>\n",
              "      <td>7</td>\n",
              "    </tr>\n",
              "    <tr>\n",
              "      <th>4</th>\n",
              "      <td>4.393847</td>\n",
              "      <td>-1.035926</td>\n",
              "      <td>0.905016</td>\n",
              "      <td>-5.079603</td>\n",
              "      <td>-3.174534</td>\n",
              "      <td>-6.252063</td>\n",
              "      <td>4.937048</td>\n",
              "      <td>7.961506</td>\n",
              "      <td>-7.844759</td>\n",
              "      <td>7.039012</td>\n",
              "      <td>...</td>\n",
              "      <td>0.301236</td>\n",
              "      <td>3.700054</td>\n",
              "      <td>-7.928076</td>\n",
              "      <td>5.380378</td>\n",
              "      <td>3.981723</td>\n",
              "      <td>-10.995349</td>\n",
              "      <td>1.430469</td>\n",
              "      <td>-1.562244</td>\n",
              "      <td>-1.682252</td>\n",
              "      <td>5</td>\n",
              "    </tr>\n",
              "  </tbody>\n",
              "</table>\n",
              "<p>5 rows × 101 columns</p>\n",
              "</div>\n",
              "    <div class=\"colab-df-buttons\">\n",
              "\n",
              "  <div class=\"colab-df-container\">\n",
              "    <button class=\"colab-df-convert\" onclick=\"convertToInteractive('df-46e9cab2-4a4f-4237-9f29-d4c7a41dcee7')\"\n",
              "            title=\"Convert this dataframe to an interactive table.\"\n",
              "            style=\"display:none;\">\n",
              "\n",
              "  <svg xmlns=\"http://www.w3.org/2000/svg\" height=\"24px\" viewBox=\"0 -960 960 960\">\n",
              "    <path d=\"M120-120v-720h720v720H120Zm60-500h600v-160H180v160Zm220 220h160v-160H400v160Zm0 220h160v-160H400v160ZM180-400h160v-160H180v160Zm440 0h160v-160H620v160ZM180-180h160v-160H180v160Zm440 0h160v-160H620v160Z\"/>\n",
              "  </svg>\n",
              "    </button>\n",
              "\n",
              "  <style>\n",
              "    .colab-df-container {\n",
              "      display:flex;\n",
              "      gap: 12px;\n",
              "    }\n",
              "\n",
              "    .colab-df-convert {\n",
              "      background-color: #E8F0FE;\n",
              "      border: none;\n",
              "      border-radius: 50%;\n",
              "      cursor: pointer;\n",
              "      display: none;\n",
              "      fill: #1967D2;\n",
              "      height: 32px;\n",
              "      padding: 0 0 0 0;\n",
              "      width: 32px;\n",
              "    }\n",
              "\n",
              "    .colab-df-convert:hover {\n",
              "      background-color: #E2EBFA;\n",
              "      box-shadow: 0px 1px 2px rgba(60, 64, 67, 0.3), 0px 1px 3px 1px rgba(60, 64, 67, 0.15);\n",
              "      fill: #174EA6;\n",
              "    }\n",
              "\n",
              "    .colab-df-buttons div {\n",
              "      margin-bottom: 4px;\n",
              "    }\n",
              "\n",
              "    [theme=dark] .colab-df-convert {\n",
              "      background-color: #3B4455;\n",
              "      fill: #D2E3FC;\n",
              "    }\n",
              "\n",
              "    [theme=dark] .colab-df-convert:hover {\n",
              "      background-color: #434B5C;\n",
              "      box-shadow: 0px 1px 3px 1px rgba(0, 0, 0, 0.15);\n",
              "      filter: drop-shadow(0px 1px 2px rgba(0, 0, 0, 0.3));\n",
              "      fill: #FFFFFF;\n",
              "    }\n",
              "  </style>\n",
              "\n",
              "    <script>\n",
              "      const buttonEl =\n",
              "        document.querySelector('#df-46e9cab2-4a4f-4237-9f29-d4c7a41dcee7 button.colab-df-convert');\n",
              "      buttonEl.style.display =\n",
              "        google.colab.kernel.accessAllowed ? 'block' : 'none';\n",
              "\n",
              "      async function convertToInteractive(key) {\n",
              "        const element = document.querySelector('#df-46e9cab2-4a4f-4237-9f29-d4c7a41dcee7');\n",
              "        const dataTable =\n",
              "          await google.colab.kernel.invokeFunction('convertToInteractive',\n",
              "                                                    [key], {});\n",
              "        if (!dataTable) return;\n",
              "\n",
              "        const docLinkHtml = 'Like what you see? Visit the ' +\n",
              "          '<a target=\"_blank\" href=https://colab.research.google.com/notebooks/data_table.ipynb>data table notebook</a>'\n",
              "          + ' to learn more about interactive tables.';\n",
              "        element.innerHTML = '';\n",
              "        dataTable['output_type'] = 'display_data';\n",
              "        await google.colab.output.renderOutput(dataTable, element);\n",
              "        const docLink = document.createElement('div');\n",
              "        docLink.innerHTML = docLinkHtml;\n",
              "        element.appendChild(docLink);\n",
              "      }\n",
              "    </script>\n",
              "  </div>\n",
              "\n",
              "\n",
              "<div id=\"df-58831b33-b4d1-4b57-ba49-87fd77d3e90d\">\n",
              "  <button class=\"colab-df-quickchart\" onclick=\"quickchart('df-58831b33-b4d1-4b57-ba49-87fd77d3e90d')\"\n",
              "            title=\"Suggest charts\"\n",
              "            style=\"display:none;\">\n",
              "\n",
              "<svg xmlns=\"http://www.w3.org/2000/svg\" height=\"24px\"viewBox=\"0 0 24 24\"\n",
              "     width=\"24px\">\n",
              "    <g>\n",
              "        <path d=\"M19 3H5c-1.1 0-2 .9-2 2v14c0 1.1.9 2 2 2h14c1.1 0 2-.9 2-2V5c0-1.1-.9-2-2-2zM9 17H7v-7h2v7zm4 0h-2V7h2v10zm4 0h-2v-4h2v4z\"/>\n",
              "    </g>\n",
              "</svg>\n",
              "  </button>\n",
              "\n",
              "<style>\n",
              "  .colab-df-quickchart {\n",
              "      --bg-color: #E8F0FE;\n",
              "      --fill-color: #1967D2;\n",
              "      --hover-bg-color: #E2EBFA;\n",
              "      --hover-fill-color: #174EA6;\n",
              "      --disabled-fill-color: #AAA;\n",
              "      --disabled-bg-color: #DDD;\n",
              "  }\n",
              "\n",
              "  [theme=dark] .colab-df-quickchart {\n",
              "      --bg-color: #3B4455;\n",
              "      --fill-color: #D2E3FC;\n",
              "      --hover-bg-color: #434B5C;\n",
              "      --hover-fill-color: #FFFFFF;\n",
              "      --disabled-bg-color: #3B4455;\n",
              "      --disabled-fill-color: #666;\n",
              "  }\n",
              "\n",
              "  .colab-df-quickchart {\n",
              "    background-color: var(--bg-color);\n",
              "    border: none;\n",
              "    border-radius: 50%;\n",
              "    cursor: pointer;\n",
              "    display: none;\n",
              "    fill: var(--fill-color);\n",
              "    height: 32px;\n",
              "    padding: 0;\n",
              "    width: 32px;\n",
              "  }\n",
              "\n",
              "  .colab-df-quickchart:hover {\n",
              "    background-color: var(--hover-bg-color);\n",
              "    box-shadow: 0 1px 2px rgba(60, 64, 67, 0.3), 0 1px 3px 1px rgba(60, 64, 67, 0.15);\n",
              "    fill: var(--button-hover-fill-color);\n",
              "  }\n",
              "\n",
              "  .colab-df-quickchart-complete:disabled,\n",
              "  .colab-df-quickchart-complete:disabled:hover {\n",
              "    background-color: var(--disabled-bg-color);\n",
              "    fill: var(--disabled-fill-color);\n",
              "    box-shadow: none;\n",
              "  }\n",
              "\n",
              "  .colab-df-spinner {\n",
              "    border: 2px solid var(--fill-color);\n",
              "    border-color: transparent;\n",
              "    border-bottom-color: var(--fill-color);\n",
              "    animation:\n",
              "      spin 1s steps(1) infinite;\n",
              "  }\n",
              "\n",
              "  @keyframes spin {\n",
              "    0% {\n",
              "      border-color: transparent;\n",
              "      border-bottom-color: var(--fill-color);\n",
              "      border-left-color: var(--fill-color);\n",
              "    }\n",
              "    20% {\n",
              "      border-color: transparent;\n",
              "      border-left-color: var(--fill-color);\n",
              "      border-top-color: var(--fill-color);\n",
              "    }\n",
              "    30% {\n",
              "      border-color: transparent;\n",
              "      border-left-color: var(--fill-color);\n",
              "      border-top-color: var(--fill-color);\n",
              "      border-right-color: var(--fill-color);\n",
              "    }\n",
              "    40% {\n",
              "      border-color: transparent;\n",
              "      border-right-color: var(--fill-color);\n",
              "      border-top-color: var(--fill-color);\n",
              "    }\n",
              "    60% {\n",
              "      border-color: transparent;\n",
              "      border-right-color: var(--fill-color);\n",
              "    }\n",
              "    80% {\n",
              "      border-color: transparent;\n",
              "      border-right-color: var(--fill-color);\n",
              "      border-bottom-color: var(--fill-color);\n",
              "    }\n",
              "    90% {\n",
              "      border-color: transparent;\n",
              "      border-bottom-color: var(--fill-color);\n",
              "    }\n",
              "  }\n",
              "</style>\n",
              "\n",
              "  <script>\n",
              "    async function quickchart(key) {\n",
              "      const quickchartButtonEl =\n",
              "        document.querySelector('#' + key + ' button');\n",
              "      quickchartButtonEl.disabled = true;  // To prevent multiple clicks.\n",
              "      quickchartButtonEl.classList.add('colab-df-spinner');\n",
              "      try {\n",
              "        const charts = await google.colab.kernel.invokeFunction(\n",
              "            'suggestCharts', [key], {});\n",
              "      } catch (error) {\n",
              "        console.error('Error during call to suggestCharts:', error);\n",
              "      }\n",
              "      quickchartButtonEl.classList.remove('colab-df-spinner');\n",
              "      quickchartButtonEl.classList.add('colab-df-quickchart-complete');\n",
              "    }\n",
              "    (() => {\n",
              "      let quickchartButtonEl =\n",
              "        document.querySelector('#df-58831b33-b4d1-4b57-ba49-87fd77d3e90d button');\n",
              "      quickchartButtonEl.style.display =\n",
              "        google.colab.kernel.accessAllowed ? 'block' : 'none';\n",
              "    })();\n",
              "  </script>\n",
              "</div>\n",
              "    </div>\n",
              "  </div>\n"
            ]
          },
          "metadata": {},
          "execution_count": 3
        }
      ]
    },
    {
      "cell_type": "code",
      "source": [
        "df.shape"
      ],
      "metadata": {
        "colab": {
          "base_uri": "https://localhost:8080/"
        },
        "id": "dDdtOOvycN5e",
        "outputId": "01d8cf7a-bbb2-4838-f0be-2910e8319202"
      },
      "execution_count": 4,
      "outputs": [
        {
          "output_type": "execute_result",
          "data": {
            "text/plain": [
              "(4000, 101)"
            ]
          },
          "metadata": {},
          "execution_count": 4
        }
      ]
    },
    {
      "cell_type": "code",
      "source": [
        "df.describe()"
      ],
      "metadata": {
        "colab": {
          "base_uri": "https://localhost:8080/",
          "height": 349
        },
        "id": "VegdusdacT43",
        "outputId": "d7184730-d517-4ac7-b7cc-681724e5ab1c"
      },
      "execution_count": 5,
      "outputs": [
        {
          "output_type": "execute_result",
          "data": {
            "text/plain": [
              "                 0            1            2            3            4  \\\n",
              "count  3999.000000  3999.000000  4000.000000  4000.000000  4000.000000   \n",
              "mean      0.024746     0.500394    -0.051431     0.195077    -0.173320   \n",
              "std       5.676004     5.550694     5.662355     5.450803     5.517875   \n",
              "min     -19.405287   -22.652231   -19.667265   -21.881980   -19.741271   \n",
              "25%      -3.728930    -3.353507    -3.786081    -3.441829    -3.843433   \n",
              "50%       0.006111     0.509518    -0.077131     0.240650    -0.101706   \n",
              "75%       3.865709     4.257142     3.685468     3.886383     3.578177   \n",
              "max      21.501254    20.473739    21.172589    22.534479    18.682272   \n",
              "\n",
              "                 5            6            7            8            9  ...  \\\n",
              "count  3999.000000  3999.000000  4000.000000  3999.000000  4000.000000  ...   \n",
              "mean     -0.008179     0.266138    -0.376966     0.026357    -0.101055  ...   \n",
              "std       5.566616     5.654875     5.511465     5.535498     5.348943  ...   \n",
              "min     -19.654484   -18.533880   -19.623795   -20.089030   -18.279167  ...   \n",
              "25%      -3.745855    -3.529528    -4.005876    -3.610773    -3.823280  ...   \n",
              "50%       0.058320     0.323044    -0.339816    -0.033490    -0.101047  ...   \n",
              "75%       3.787004     4.056428     3.318970     3.743444     3.433963  ...   \n",
              "max      19.899053    21.004332    18.777280    20.167018    18.108598  ...   \n",
              "\n",
              "                91           92           93           94           95  \\\n",
              "count  3999.000000  4000.000000  4000.000000  4000.000000  4000.000000   \n",
              "mean     -0.404663     0.158582     0.383045     0.165495    -0.503738   \n",
              "std       5.582902     5.519649     5.603523     5.685317     5.525141   \n",
              "min     -21.406687   -19.159398   -22.002759   -22.618761   -21.258031   \n",
              "25%      -4.030346    -3.620666    -3.403997    -3.574715    -4.216778   \n",
              "50%      -0.335830     0.060452     0.346543     0.028579    -0.517919   \n",
              "75%       3.354380     3.801935     4.256211     3.839960     3.210718   \n",
              "max      23.011847    21.531888    24.865558    19.736466    21.330885   \n",
              "\n",
              "                96           97           98           99          100  \n",
              "count  4000.000000  4000.000000  3999.000000  4000.000000  4000.000000  \n",
              "mean     -0.323991     0.105799     0.518621     0.257474     3.501000  \n",
              "std       5.618171     5.701498     5.622377     5.592407     2.291356  \n",
              "min     -21.695871   -24.238754   -19.956897   -18.751769     0.000000  \n",
              "25%      -4.049489    -3.773541    -3.259576    -3.543963     1.000000  \n",
              "50%      -0.367989     0.157999     0.578396     0.212288     3.000000  \n",
              "75%       3.448604     4.017386     4.315890     4.029235     5.000000  \n",
              "max      19.314840    17.588632    18.988684    21.919094     7.000000  \n",
              "\n",
              "[8 rows x 101 columns]"
            ],
            "text/html": [
              "\n",
              "  <div id=\"df-ead5effc-7879-4cb8-b664-530582957dcc\" class=\"colab-df-container\">\n",
              "    <div>\n",
              "<style scoped>\n",
              "    .dataframe tbody tr th:only-of-type {\n",
              "        vertical-align: middle;\n",
              "    }\n",
              "\n",
              "    .dataframe tbody tr th {\n",
              "        vertical-align: top;\n",
              "    }\n",
              "\n",
              "    .dataframe thead th {\n",
              "        text-align: right;\n",
              "    }\n",
              "</style>\n",
              "<table border=\"1\" class=\"dataframe\">\n",
              "  <thead>\n",
              "    <tr style=\"text-align: right;\">\n",
              "      <th></th>\n",
              "      <th>0</th>\n",
              "      <th>1</th>\n",
              "      <th>2</th>\n",
              "      <th>3</th>\n",
              "      <th>4</th>\n",
              "      <th>5</th>\n",
              "      <th>6</th>\n",
              "      <th>7</th>\n",
              "      <th>8</th>\n",
              "      <th>9</th>\n",
              "      <th>...</th>\n",
              "      <th>91</th>\n",
              "      <th>92</th>\n",
              "      <th>93</th>\n",
              "      <th>94</th>\n",
              "      <th>95</th>\n",
              "      <th>96</th>\n",
              "      <th>97</th>\n",
              "      <th>98</th>\n",
              "      <th>99</th>\n",
              "      <th>100</th>\n",
              "    </tr>\n",
              "  </thead>\n",
              "  <tbody>\n",
              "    <tr>\n",
              "      <th>count</th>\n",
              "      <td>3999.000000</td>\n",
              "      <td>3999.000000</td>\n",
              "      <td>4000.000000</td>\n",
              "      <td>4000.000000</td>\n",
              "      <td>4000.000000</td>\n",
              "      <td>3999.000000</td>\n",
              "      <td>3999.000000</td>\n",
              "      <td>4000.000000</td>\n",
              "      <td>3999.000000</td>\n",
              "      <td>4000.000000</td>\n",
              "      <td>...</td>\n",
              "      <td>3999.000000</td>\n",
              "      <td>4000.000000</td>\n",
              "      <td>4000.000000</td>\n",
              "      <td>4000.000000</td>\n",
              "      <td>4000.000000</td>\n",
              "      <td>4000.000000</td>\n",
              "      <td>4000.000000</td>\n",
              "      <td>3999.000000</td>\n",
              "      <td>4000.000000</td>\n",
              "      <td>4000.000000</td>\n",
              "    </tr>\n",
              "    <tr>\n",
              "      <th>mean</th>\n",
              "      <td>0.024746</td>\n",
              "      <td>0.500394</td>\n",
              "      <td>-0.051431</td>\n",
              "      <td>0.195077</td>\n",
              "      <td>-0.173320</td>\n",
              "      <td>-0.008179</td>\n",
              "      <td>0.266138</td>\n",
              "      <td>-0.376966</td>\n",
              "      <td>0.026357</td>\n",
              "      <td>-0.101055</td>\n",
              "      <td>...</td>\n",
              "      <td>-0.404663</td>\n",
              "      <td>0.158582</td>\n",
              "      <td>0.383045</td>\n",
              "      <td>0.165495</td>\n",
              "      <td>-0.503738</td>\n",
              "      <td>-0.323991</td>\n",
              "      <td>0.105799</td>\n",
              "      <td>0.518621</td>\n",
              "      <td>0.257474</td>\n",
              "      <td>3.501000</td>\n",
              "    </tr>\n",
              "    <tr>\n",
              "      <th>std</th>\n",
              "      <td>5.676004</td>\n",
              "      <td>5.550694</td>\n",
              "      <td>5.662355</td>\n",
              "      <td>5.450803</td>\n",
              "      <td>5.517875</td>\n",
              "      <td>5.566616</td>\n",
              "      <td>5.654875</td>\n",
              "      <td>5.511465</td>\n",
              "      <td>5.535498</td>\n",
              "      <td>5.348943</td>\n",
              "      <td>...</td>\n",
              "      <td>5.582902</td>\n",
              "      <td>5.519649</td>\n",
              "      <td>5.603523</td>\n",
              "      <td>5.685317</td>\n",
              "      <td>5.525141</td>\n",
              "      <td>5.618171</td>\n",
              "      <td>5.701498</td>\n",
              "      <td>5.622377</td>\n",
              "      <td>5.592407</td>\n",
              "      <td>2.291356</td>\n",
              "    </tr>\n",
              "    <tr>\n",
              "      <th>min</th>\n",
              "      <td>-19.405287</td>\n",
              "      <td>-22.652231</td>\n",
              "      <td>-19.667265</td>\n",
              "      <td>-21.881980</td>\n",
              "      <td>-19.741271</td>\n",
              "      <td>-19.654484</td>\n",
              "      <td>-18.533880</td>\n",
              "      <td>-19.623795</td>\n",
              "      <td>-20.089030</td>\n",
              "      <td>-18.279167</td>\n",
              "      <td>...</td>\n",
              "      <td>-21.406687</td>\n",
              "      <td>-19.159398</td>\n",
              "      <td>-22.002759</td>\n",
              "      <td>-22.618761</td>\n",
              "      <td>-21.258031</td>\n",
              "      <td>-21.695871</td>\n",
              "      <td>-24.238754</td>\n",
              "      <td>-19.956897</td>\n",
              "      <td>-18.751769</td>\n",
              "      <td>0.000000</td>\n",
              "    </tr>\n",
              "    <tr>\n",
              "      <th>25%</th>\n",
              "      <td>-3.728930</td>\n",
              "      <td>-3.353507</td>\n",
              "      <td>-3.786081</td>\n",
              "      <td>-3.441829</td>\n",
              "      <td>-3.843433</td>\n",
              "      <td>-3.745855</td>\n",
              "      <td>-3.529528</td>\n",
              "      <td>-4.005876</td>\n",
              "      <td>-3.610773</td>\n",
              "      <td>-3.823280</td>\n",
              "      <td>...</td>\n",
              "      <td>-4.030346</td>\n",
              "      <td>-3.620666</td>\n",
              "      <td>-3.403997</td>\n",
              "      <td>-3.574715</td>\n",
              "      <td>-4.216778</td>\n",
              "      <td>-4.049489</td>\n",
              "      <td>-3.773541</td>\n",
              "      <td>-3.259576</td>\n",
              "      <td>-3.543963</td>\n",
              "      <td>1.000000</td>\n",
              "    </tr>\n",
              "    <tr>\n",
              "      <th>50%</th>\n",
              "      <td>0.006111</td>\n",
              "      <td>0.509518</td>\n",
              "      <td>-0.077131</td>\n",
              "      <td>0.240650</td>\n",
              "      <td>-0.101706</td>\n",
              "      <td>0.058320</td>\n",
              "      <td>0.323044</td>\n",
              "      <td>-0.339816</td>\n",
              "      <td>-0.033490</td>\n",
              "      <td>-0.101047</td>\n",
              "      <td>...</td>\n",
              "      <td>-0.335830</td>\n",
              "      <td>0.060452</td>\n",
              "      <td>0.346543</td>\n",
              "      <td>0.028579</td>\n",
              "      <td>-0.517919</td>\n",
              "      <td>-0.367989</td>\n",
              "      <td>0.157999</td>\n",
              "      <td>0.578396</td>\n",
              "      <td>0.212288</td>\n",
              "      <td>3.000000</td>\n",
              "    </tr>\n",
              "    <tr>\n",
              "      <th>75%</th>\n",
              "      <td>3.865709</td>\n",
              "      <td>4.257142</td>\n",
              "      <td>3.685468</td>\n",
              "      <td>3.886383</td>\n",
              "      <td>3.578177</td>\n",
              "      <td>3.787004</td>\n",
              "      <td>4.056428</td>\n",
              "      <td>3.318970</td>\n",
              "      <td>3.743444</td>\n",
              "      <td>3.433963</td>\n",
              "      <td>...</td>\n",
              "      <td>3.354380</td>\n",
              "      <td>3.801935</td>\n",
              "      <td>4.256211</td>\n",
              "      <td>3.839960</td>\n",
              "      <td>3.210718</td>\n",
              "      <td>3.448604</td>\n",
              "      <td>4.017386</td>\n",
              "      <td>4.315890</td>\n",
              "      <td>4.029235</td>\n",
              "      <td>5.000000</td>\n",
              "    </tr>\n",
              "    <tr>\n",
              "      <th>max</th>\n",
              "      <td>21.501254</td>\n",
              "      <td>20.473739</td>\n",
              "      <td>21.172589</td>\n",
              "      <td>22.534479</td>\n",
              "      <td>18.682272</td>\n",
              "      <td>19.899053</td>\n",
              "      <td>21.004332</td>\n",
              "      <td>18.777280</td>\n",
              "      <td>20.167018</td>\n",
              "      <td>18.108598</td>\n",
              "      <td>...</td>\n",
              "      <td>23.011847</td>\n",
              "      <td>21.531888</td>\n",
              "      <td>24.865558</td>\n",
              "      <td>19.736466</td>\n",
              "      <td>21.330885</td>\n",
              "      <td>19.314840</td>\n",
              "      <td>17.588632</td>\n",
              "      <td>18.988684</td>\n",
              "      <td>21.919094</td>\n",
              "      <td>7.000000</td>\n",
              "    </tr>\n",
              "  </tbody>\n",
              "</table>\n",
              "<p>8 rows × 101 columns</p>\n",
              "</div>\n",
              "    <div class=\"colab-df-buttons\">\n",
              "\n",
              "  <div class=\"colab-df-container\">\n",
              "    <button class=\"colab-df-convert\" onclick=\"convertToInteractive('df-ead5effc-7879-4cb8-b664-530582957dcc')\"\n",
              "            title=\"Convert this dataframe to an interactive table.\"\n",
              "            style=\"display:none;\">\n",
              "\n",
              "  <svg xmlns=\"http://www.w3.org/2000/svg\" height=\"24px\" viewBox=\"0 -960 960 960\">\n",
              "    <path d=\"M120-120v-720h720v720H120Zm60-500h600v-160H180v160Zm220 220h160v-160H400v160Zm0 220h160v-160H400v160ZM180-400h160v-160H180v160Zm440 0h160v-160H620v160ZM180-180h160v-160H180v160Zm440 0h160v-160H620v160Z\"/>\n",
              "  </svg>\n",
              "    </button>\n",
              "\n",
              "  <style>\n",
              "    .colab-df-container {\n",
              "      display:flex;\n",
              "      gap: 12px;\n",
              "    }\n",
              "\n",
              "    .colab-df-convert {\n",
              "      background-color: #E8F0FE;\n",
              "      border: none;\n",
              "      border-radius: 50%;\n",
              "      cursor: pointer;\n",
              "      display: none;\n",
              "      fill: #1967D2;\n",
              "      height: 32px;\n",
              "      padding: 0 0 0 0;\n",
              "      width: 32px;\n",
              "    }\n",
              "\n",
              "    .colab-df-convert:hover {\n",
              "      background-color: #E2EBFA;\n",
              "      box-shadow: 0px 1px 2px rgba(60, 64, 67, 0.3), 0px 1px 3px 1px rgba(60, 64, 67, 0.15);\n",
              "      fill: #174EA6;\n",
              "    }\n",
              "\n",
              "    .colab-df-buttons div {\n",
              "      margin-bottom: 4px;\n",
              "    }\n",
              "\n",
              "    [theme=dark] .colab-df-convert {\n",
              "      background-color: #3B4455;\n",
              "      fill: #D2E3FC;\n",
              "    }\n",
              "\n",
              "    [theme=dark] .colab-df-convert:hover {\n",
              "      background-color: #434B5C;\n",
              "      box-shadow: 0px 1px 3px 1px rgba(0, 0, 0, 0.15);\n",
              "      filter: drop-shadow(0px 1px 2px rgba(0, 0, 0, 0.3));\n",
              "      fill: #FFFFFF;\n",
              "    }\n",
              "  </style>\n",
              "\n",
              "    <script>\n",
              "      const buttonEl =\n",
              "        document.querySelector('#df-ead5effc-7879-4cb8-b664-530582957dcc button.colab-df-convert');\n",
              "      buttonEl.style.display =\n",
              "        google.colab.kernel.accessAllowed ? 'block' : 'none';\n",
              "\n",
              "      async function convertToInteractive(key) {\n",
              "        const element = document.querySelector('#df-ead5effc-7879-4cb8-b664-530582957dcc');\n",
              "        const dataTable =\n",
              "          await google.colab.kernel.invokeFunction('convertToInteractive',\n",
              "                                                    [key], {});\n",
              "        if (!dataTable) return;\n",
              "\n",
              "        const docLinkHtml = 'Like what you see? Visit the ' +\n",
              "          '<a target=\"_blank\" href=https://colab.research.google.com/notebooks/data_table.ipynb>data table notebook</a>'\n",
              "          + ' to learn more about interactive tables.';\n",
              "        element.innerHTML = '';\n",
              "        dataTable['output_type'] = 'display_data';\n",
              "        await google.colab.output.renderOutput(dataTable, element);\n",
              "        const docLink = document.createElement('div');\n",
              "        docLink.innerHTML = docLinkHtml;\n",
              "        element.appendChild(docLink);\n",
              "      }\n",
              "    </script>\n",
              "  </div>\n",
              "\n",
              "\n",
              "<div id=\"df-a7268151-cd7a-4048-a144-2b879532c7c6\">\n",
              "  <button class=\"colab-df-quickchart\" onclick=\"quickchart('df-a7268151-cd7a-4048-a144-2b879532c7c6')\"\n",
              "            title=\"Suggest charts\"\n",
              "            style=\"display:none;\">\n",
              "\n",
              "<svg xmlns=\"http://www.w3.org/2000/svg\" height=\"24px\"viewBox=\"0 0 24 24\"\n",
              "     width=\"24px\">\n",
              "    <g>\n",
              "        <path d=\"M19 3H5c-1.1 0-2 .9-2 2v14c0 1.1.9 2 2 2h14c1.1 0 2-.9 2-2V5c0-1.1-.9-2-2-2zM9 17H7v-7h2v7zm4 0h-2V7h2v10zm4 0h-2v-4h2v4z\"/>\n",
              "    </g>\n",
              "</svg>\n",
              "  </button>\n",
              "\n",
              "<style>\n",
              "  .colab-df-quickchart {\n",
              "      --bg-color: #E8F0FE;\n",
              "      --fill-color: #1967D2;\n",
              "      --hover-bg-color: #E2EBFA;\n",
              "      --hover-fill-color: #174EA6;\n",
              "      --disabled-fill-color: #AAA;\n",
              "      --disabled-bg-color: #DDD;\n",
              "  }\n",
              "\n",
              "  [theme=dark] .colab-df-quickchart {\n",
              "      --bg-color: #3B4455;\n",
              "      --fill-color: #D2E3FC;\n",
              "      --hover-bg-color: #434B5C;\n",
              "      --hover-fill-color: #FFFFFF;\n",
              "      --disabled-bg-color: #3B4455;\n",
              "      --disabled-fill-color: #666;\n",
              "  }\n",
              "\n",
              "  .colab-df-quickchart {\n",
              "    background-color: var(--bg-color);\n",
              "    border: none;\n",
              "    border-radius: 50%;\n",
              "    cursor: pointer;\n",
              "    display: none;\n",
              "    fill: var(--fill-color);\n",
              "    height: 32px;\n",
              "    padding: 0;\n",
              "    width: 32px;\n",
              "  }\n",
              "\n",
              "  .colab-df-quickchart:hover {\n",
              "    background-color: var(--hover-bg-color);\n",
              "    box-shadow: 0 1px 2px rgba(60, 64, 67, 0.3), 0 1px 3px 1px rgba(60, 64, 67, 0.15);\n",
              "    fill: var(--button-hover-fill-color);\n",
              "  }\n",
              "\n",
              "  .colab-df-quickchart-complete:disabled,\n",
              "  .colab-df-quickchart-complete:disabled:hover {\n",
              "    background-color: var(--disabled-bg-color);\n",
              "    fill: var(--disabled-fill-color);\n",
              "    box-shadow: none;\n",
              "  }\n",
              "\n",
              "  .colab-df-spinner {\n",
              "    border: 2px solid var(--fill-color);\n",
              "    border-color: transparent;\n",
              "    border-bottom-color: var(--fill-color);\n",
              "    animation:\n",
              "      spin 1s steps(1) infinite;\n",
              "  }\n",
              "\n",
              "  @keyframes spin {\n",
              "    0% {\n",
              "      border-color: transparent;\n",
              "      border-bottom-color: var(--fill-color);\n",
              "      border-left-color: var(--fill-color);\n",
              "    }\n",
              "    20% {\n",
              "      border-color: transparent;\n",
              "      border-left-color: var(--fill-color);\n",
              "      border-top-color: var(--fill-color);\n",
              "    }\n",
              "    30% {\n",
              "      border-color: transparent;\n",
              "      border-left-color: var(--fill-color);\n",
              "      border-top-color: var(--fill-color);\n",
              "      border-right-color: var(--fill-color);\n",
              "    }\n",
              "    40% {\n",
              "      border-color: transparent;\n",
              "      border-right-color: var(--fill-color);\n",
              "      border-top-color: var(--fill-color);\n",
              "    }\n",
              "    60% {\n",
              "      border-color: transparent;\n",
              "      border-right-color: var(--fill-color);\n",
              "    }\n",
              "    80% {\n",
              "      border-color: transparent;\n",
              "      border-right-color: var(--fill-color);\n",
              "      border-bottom-color: var(--fill-color);\n",
              "    }\n",
              "    90% {\n",
              "      border-color: transparent;\n",
              "      border-bottom-color: var(--fill-color);\n",
              "    }\n",
              "  }\n",
              "</style>\n",
              "\n",
              "  <script>\n",
              "    async function quickchart(key) {\n",
              "      const quickchartButtonEl =\n",
              "        document.querySelector('#' + key + ' button');\n",
              "      quickchartButtonEl.disabled = true;  // To prevent multiple clicks.\n",
              "      quickchartButtonEl.classList.add('colab-df-spinner');\n",
              "      try {\n",
              "        const charts = await google.colab.kernel.invokeFunction(\n",
              "            'suggestCharts', [key], {});\n",
              "      } catch (error) {\n",
              "        console.error('Error during call to suggestCharts:', error);\n",
              "      }\n",
              "      quickchartButtonEl.classList.remove('colab-df-spinner');\n",
              "      quickchartButtonEl.classList.add('colab-df-quickchart-complete');\n",
              "    }\n",
              "    (() => {\n",
              "      let quickchartButtonEl =\n",
              "        document.querySelector('#df-a7268151-cd7a-4048-a144-2b879532c7c6 button');\n",
              "      quickchartButtonEl.style.display =\n",
              "        google.colab.kernel.accessAllowed ? 'block' : 'none';\n",
              "    })();\n",
              "  </script>\n",
              "</div>\n",
              "    </div>\n",
              "  </div>\n"
            ]
          },
          "metadata": {},
          "execution_count": 5
        }
      ]
    },
    {
      "cell_type": "code",
      "source": [
        "df.info()"
      ],
      "metadata": {
        "colab": {
          "base_uri": "https://localhost:8080/"
        },
        "id": "tqICUWLWcX7e",
        "outputId": "7964e9a0-3fe4-4252-83bb-420981e0b9e2"
      },
      "execution_count": 6,
      "outputs": [
        {
          "output_type": "stream",
          "name": "stdout",
          "text": [
            "<class 'pandas.core.frame.DataFrame'>\n",
            "RangeIndex: 4000 entries, 0 to 3999\n",
            "Columns: 101 entries, 0 to 100\n",
            "dtypes: float64(100), int64(1)\n",
            "memory usage: 3.1 MB\n"
          ]
        }
      ]
    },
    {
      "cell_type": "code",
      "source": [
        "df['100'].value_counts()"
      ],
      "metadata": {
        "colab": {
          "base_uri": "https://localhost:8080/"
        },
        "id": "KhDAlW14c4SI",
        "outputId": "4cfc4619-4567-4d93-86a1-77c87dcfe1b2"
      },
      "execution_count": 7,
      "outputs": [
        {
          "output_type": "execute_result",
          "data": {
            "text/plain": [
              "5    506\n",
              "1    506\n",
              "7    504\n",
              "2    501\n",
              "3    500\n",
              "0    495\n",
              "4    495\n",
              "6    493\n",
              "Name: 100, dtype: int64"
            ]
          },
          "metadata": {},
          "execution_count": 7
        }
      ]
    },
    {
      "cell_type": "code",
      "source": [
        "labels, counts = np.unique(df['100'], return_counts=True)\n",
        "fig, axs = plt.subplots(ncols=1)\n",
        "sns.barplot(x=[str(label) for label in labels], y=counts, ax=axs).set_title(\"Распределение по классам\")\n",
        "plt.show()"
      ],
      "metadata": {
        "colab": {
          "base_uri": "https://localhost:8080/",
          "height": 452
        },
        "id": "USF9F01Ifalv",
        "outputId": "ce336080-ec7a-492f-c08e-601214418b4b"
      },
      "execution_count": 8,
      "outputs": [
        {
          "output_type": "display_data",
          "data": {
            "text/plain": [
              "<Figure size 640x480 with 1 Axes>"
            ],
            "image/png": "[encoded data removed]"
          },
          "metadata": {}
        }
      ]
    },
    {
      "cell_type": "markdown",
      "source": [
        "**Описание данных**\n",
        "\n",
        "Ваш ответ:\n",
        "\n",
        "Число объектов: **4000**\n",
        "\n",
        "Число признаков: **100 факторных и 1 целевой**\n",
        "\n",
        "Число классов целевого признака: **8**"
      ],
      "metadata": {
        "id": "m9m0a_sb1UvO"
      }
    },
    {
      "cell_type": "markdown",
      "source": [
        "## Подготовка данных\n",
        "\n",
        "Убедитесь что в данных нет отсутствующих значений, если они есть, удалите их или заполните средними значениями - `df.isnull()`."
      ],
      "metadata": {
        "id": "1m7Zs2RS1krd"
      }
    },
    {
      "cell_type": "code",
      "source": [
        "df.isnull().sum()"
      ],
      "metadata": {
        "id": "njpVm4861w4p",
        "colab": {
          "base_uri": "https://localhost:8080/"
        },
        "outputId": "e496e853-09ab-408c-d546-25ffd3bfb48f"
      },
      "execution_count": 9,
      "outputs": [
        {
          "output_type": "execute_result",
          "data": {
            "text/plain": [
              "0      1\n",
              "1      1\n",
              "2      0\n",
              "3      0\n",
              "4      0\n",
              "      ..\n",
              "96     0\n",
              "97     0\n",
              "98     1\n",
              "99     0\n",
              "100    0\n",
              "Length: 101, dtype: int64"
            ]
          },
          "metadata": {},
          "execution_count": 9
        }
      ]
    },
    {
      "cell_type": "code",
      "source": [
        "cols_with_missing_values = df.columns[df.isnull().any()]\n",
        "print(cols_with_missing_values)"
      ],
      "metadata": {
        "colab": {
          "base_uri": "https://localhost:8080/"
        },
        "id": "XYvSqBrpr8VY",
        "outputId": "345c1cc8-0c4d-4049-83c5-f7c83e9b8ab0"
      },
      "execution_count": 10,
      "outputs": [
        {
          "output_type": "stream",
          "name": "stdout",
          "text": [
            "Index(['0', '1', '5', '6', '8', '10', '14', '20', '24', '26', '29', '39', '44',\n",
            "       '49', '55', '57', '73', '80', '91', '98'],\n",
            "      dtype='object')\n"
          ]
        }
      ]
    },
    {
      "cell_type": "code",
      "source": [
        "df = df.fillna(df.mean()) # заполнение средним значением"
      ],
      "metadata": {
        "id": "IMywsr_0ss9g"
      },
      "execution_count": 11,
      "outputs": []
    },
    {
      "cell_type": "code",
      "source": [
        "df.isnull().sum()"
      ],
      "metadata": {
        "colab": {
          "base_uri": "https://localhost:8080/"
        },
        "id": "bAK0i7Muswbh",
        "outputId": "ab97f1d9-13b4-44c5-ec3a-abf988765a86"
      },
      "execution_count": 12,
      "outputs": [
        {
          "output_type": "execute_result",
          "data": {
            "text/plain": [
              "0      0\n",
              "1      0\n",
              "2      0\n",
              "3      0\n",
              "4      0\n",
              "      ..\n",
              "96     0\n",
              "97     0\n",
              "98     0\n",
              "99     0\n",
              "100    0\n",
              "Length: 101, dtype: int64"
            ]
          },
          "metadata": {},
          "execution_count": 12
        }
      ]
    },
    {
      "cell_type": "markdown",
      "source": [
        "**Были ли отсутствующие значения и что вы с ними сделали?**\n",
        "\n",
        "Ваш ответ: Были отсутствующие значения в столбцах ['0', '1', '5', '6', '8', '10', '14', '20', '24', '26', '29', '39', '44',\n",
        "       '49', '55', '57', '73', '80', '91', '98'], они были заполнены средним значением по столбцу."
      ],
      "metadata": {
        "id": "ReT7oB2f1xOL"
      }
    },
    {
      "cell_type": "code",
      "source": [
        "y = df.pop('100')\n",
        "X = df"
      ],
      "metadata": {
        "id": "c2QlHMhvLT3V"
      },
      "execution_count": 13,
      "outputs": []
    },
    {
      "cell_type": "markdown",
      "source": [
        "С помощью `train_test_split` разделите данные на обучающие и тестовые (15-20%). Не забудьте про `random_state`."
      ],
      "metadata": {
        "id": "3wIj3aO58Mpx"
      }
    },
    {
      "cell_type": "code",
      "source": [
        "X_train, X_test, y_train, y_test = train_test_split(X, y, random_state=42, test_size=0.15)"
      ],
      "metadata": {
        "id": "OnVBVqiQ8bCl"
      },
      "execution_count": 14,
      "outputs": []
    },
    {
      "cell_type": "markdown",
      "source": [
        "Масштабируйте признаки. Для этого импортируйте соответствующий класс, создайте его экземпляр, выполните его \"подгонку\" и примените его к признакам."
      ],
      "metadata": {
        "id": "0A50H4999EEf"
      }
    },
    {
      "cell_type": "code",
      "source": [
        "from sklearn.preprocessing import StandardScaler\n",
        "\n",
        "scaler = StandardScaler()"
      ],
      "metadata": {
        "id": "viG4aI_I9EWo"
      },
      "execution_count": 15,
      "outputs": []
    },
    {
      "cell_type": "code",
      "source": [
        "scaler.fit(X_train)\n",
        "X_train_scaled = scaler.transform(X_train)"
      ],
      "metadata": {
        "id": "aDPCDi8wMbS1"
      },
      "execution_count": 16,
      "outputs": []
    },
    {
      "cell_type": "code",
      "source": [
        "scaler.fit(X_train)\n",
        "X_test_scaled = scaler.transform(X_test)"
      ],
      "metadata": {
        "id": "lxWbaySjMbyE"
      },
      "execution_count": 17,
      "outputs": []
    },
    {
      "cell_type": "markdown",
      "source": [
        "## Обучение модели и подборка гиперпараметров\n",
        "\n",
        "Гиперпараметры и их значения задаются в виде словаря и затем вместе с экземпляром модели в качестве аргументов передаются в конструктор класса `GridSearchCV`, который будет создавать разные варианты модели и обучать их, используя кросс валидацию, сохраняя промежуточные результаты.\n",
        "\n",
        "Попробуйте разные варианты:\n",
        "* количества нейронов в скрытых слоях (hidden_layer_sizes),\n",
        "* функций активации (activation),\n",
        "* скорости обучения (learning_rate_init)."
      ],
      "metadata": {
        "id": "p0LFn0mC9_RX"
      }
    },
    {
      "cell_type": "markdown",
      "source": [
        "**Что такое гиперпараметры для модели?**\n",
        "\n",
        "Ваш ответ: Гиперпараметры — это настраиваемые параметры, позволяющие управлять процессом обучения модели, задаются до начала процесса обучения и остаются постоянными в течение всего обучения.\n",
        "\n",
        "**Опишите суть кросс валидации.**\n",
        "\n",
        "Ваш ответ: Кросс-валидация - это метод оценки производительности модели машинного обучения, который позволяет оценить её способность обобщения на независимых данных. Суть кросс-валидации заключается в разделении доступного набора данных на несколько частей (фолдов) и последовательном использовании части данных для обучения модели и другой части для её тестирования.\n",
        "\n",
        "**В чем заключается идея поиска по сетке (grid search)?**\n",
        "\n",
        "Ваш ответ: Идея поиска по сетке (grid search) заключается в систематическом переборе различных комбинаций гиперпараметров модели с целью нахождения наилучших параметров, обеспечивающих оптимальную производительность модели."
      ],
      "metadata": {
        "id": "Bqa2xa6U_H-m"
      }
    },
    {
      "cell_type": "code",
      "source": [
        "param_grid = {\n",
        "    'hidden_layer_sizes' : [400, 500, 600, 700],\n",
        "}\n",
        "#'activation' : ['logistic', 'tanh', 'relu'],\n",
        "#'learning_rate_init' : [0.0004, 0.0005, 0.0007, 0.0009, 0.0015]"
      ],
      "metadata": {
        "id": "utuYQLEr-IRy"
      },
      "execution_count": 18,
      "outputs": []
    },
    {
      "cell_type": "markdown",
      "source": [
        "**Сколько вариантов модели будет в итоге обучено?**\n",
        "\n",
        "Ваш ответ: Будет обучено 60 вариантов модели (4 * 3 * 5 = 60)."
      ],
      "metadata": {
        "id": "cxLLtdP6CIv-"
      }
    },
    {
      "cell_type": "code",
      "source": [
        "from sklearn.model_selection import GridSearchCV\n",
        "from sklearn.neural_network import MLPClassifier"
      ],
      "metadata": {
        "id": "sQNECXh_AS0N"
      },
      "execution_count": 19,
      "outputs": []
    },
    {
      "cell_type": "code",
      "source": [
        "mlp = MLPClassifier(random_state=42, max_iter=2000, learning_rate='adaptive', solver='sgd', learning_rate_init=0.0005, activation='relu')\n",
        "\n",
        "grid_search = GridSearchCV(mlp, param_grid, cv=3, scoring='accuracy')\n",
        "grid_search.fit(X_train_scaled, y_train)"
      ],
      "metadata": {
        "id": "o0Gpl5_9APoB",
        "colab": {
          "base_uri": "https://localhost:8080/",
          "height": 267
        },
        "outputId": "12c8ae33-d996-45da-8f6e-c25fad733449"
      },
      "execution_count": 20,
      "outputs": [
        {
          "output_type": "execute_result",
          "data": {
            "text/plain": [
              "GridSearchCV(cv=3,\n",
              "             estimator=MLPClassifier(learning_rate='adaptive',\n",
              "                                     learning_rate_init=0.0005, max_iter=2000,\n",
              "                                     random_state=42, solver='sgd'),\n",
              "             param_grid={'hidden_layer_sizes': [400, 500, 600, 700]},\n",
              "             scoring='accuracy')"
            ],
            "text/html": [
              "<style>#sk-container-id-1 {color: black;background-color: white;}#sk-container-id-1 pre{padding: 0;}#sk-container-id-1 div.sk-toggleable {background-color: white;}#sk-container-id-1 label.sk-toggleable__label {cursor: pointer;display: block;width: 100%;margin-bottom: 0;padding: 0.3em;box-sizing: border-box;text-align: center;}#sk-container-id-1 label.sk-toggleable__label-arrow:before {content: \"▸\";float: left;margin-right: 0.25em;color: #696969;}#sk-container-id-1 label.sk-toggleable__label-arrow:hover:before {color: black;}#sk-container-id-1 div.sk-estimator:hover label.sk-toggleable__label-arrow:before {color: black;}#sk-container-id-1 div.sk-toggleable__content {max-height: 0;max-width: 0;overflow: hidden;text-align: left;background-color: #f0f8ff;}#sk-container-id-1 div.sk-toggleable__content pre {margin: 0.2em;color: black;border-radius: 0.25em;background-color: #f0f8ff;}#sk-container-id-1 input.sk-toggleable__control:checked~div.sk-toggleable__content {max-height: 200px;max-width: 100%;overflow: auto;}#sk-container-id-1 input.sk-toggleable__control:checked~label.sk-toggleable__label-arrow:before {content: \"▾\";}#sk-container-id-1 div.sk-estimator input.sk-toggleable__control:checked~label.sk-toggleable__label {background-color: #d4ebff;}#sk-container-id-1 div.sk-label input.sk-toggleable__control:checked~label.sk-toggleable__label {background-color: #d4ebff;}#sk-container-id-1 input.sk-hidden--visually {border: 0;clip: rect(1px 1px 1px 1px);clip: rect(1px, 1px, 1px, 1px);height: 1px;margin: -1px;overflow: hidden;padding: 0;position: absolute;width: 1px;}#sk-container-id-1 div.sk-estimator {font-family: monospace;background-color: #f0f8ff;border: 1px dotted black;border-radius: 0.25em;box-sizing: border-box;margin-bottom: 0.5em;}#sk-container-id-1 div.sk-estimator:hover {background-color: #d4ebff;}#sk-container-id-1 div.sk-parallel-item::after {content: \"\";width: 100%;border-bottom: 1px solid gray;flex-grow: 1;}#sk-container-id-1 div.sk-label:hover label.sk-toggleable__label {background-color: #d4ebff;}#sk-container-id-1 div.sk-serial::before {content: \"\";position: absolute;border-left: 1px solid gray;box-sizing: border-box;top: 0;bottom: 0;left: 50%;z-index: 0;}#sk-container-id-1 div.sk-serial {display: flex;flex-direction: column;align-items: center;background-color: white;padding-right: 0.2em;padding-left: 0.2em;position: relative;}#sk-container-id-1 div.sk-item {position: relative;z-index: 1;}#sk-container-id-1 div.sk-parallel {display: flex;align-items: stretch;justify-content: center;background-color: white;position: relative;}#sk-container-id-1 div.sk-item::before, #sk-container-id-1 div.sk-parallel-item::before {content: \"\";position: absolute;border-left: 1px solid gray;box-sizing: border-box;top: 0;bottom: 0;left: 50%;z-index: -1;}#sk-container-id-1 div.sk-parallel-item {display: flex;flex-direction: column;z-index: 1;position: relative;background-color: white;}#sk-container-id-1 div.sk-parallel-item:first-child::after {align-self: flex-end;width: 50%;}#sk-container-id-1 div.sk-parallel-item:last-child::after {align-self: flex-start;width: 50%;}#sk-container-id-1 div.sk-parallel-item:only-child::after {width: 0;}#sk-container-id-1 div.sk-dashed-wrapped {border: 1px dashed gray;margin: 0 0.4em 0.5em 0.4em;box-sizing: border-box;padding-bottom: 0.4em;background-color: white;}#sk-container-id-1 div.sk-label label {font-family: monospace;font-weight: bold;display: inline-block;line-height: 1.2em;}#sk-container-id-1 div.sk-label-container {text-align: center;}#sk-container-id-1 div.sk-container {/* jupyter's `normalize.less` sets `[hidden] { display: none; }` but bootstrap.min.css set `[hidden] { display: none !important; }` so we also need the `!important` here to be able to override the default hidden behavior on the sphinx rendered scikit-learn.org. See: https://github.com/scikit-learn/scikit-learn/issues/21755 */display: inline-block !important;position: relative;}#sk-container-id-1 div.sk-text-repr-fallback {display: none;}</style><div id=\"sk-container-id-1\" class=\"sk-top-container\"><div class=\"sk-text-repr-fallback\"><pre>GridSearchCV(cv=3,\n",
              "             estimator=MLPClassifier(learning_rate=&#x27;adaptive&#x27;,\n",
              "                                     learning_rate_init=0.0005, max_iter=2000,\n",
              "                                     random_state=42, solver=&#x27;sgd&#x27;),\n",
              "             param_grid={&#x27;hidden_layer_sizes&#x27;: [400, 500, 600, 700]},\n",
              "             scoring=&#x27;accuracy&#x27;)</pre><b>In a Jupyter environment, please rerun this cell to show the HTML representation or trust the notebook. <br />On GitHub, the HTML representation is unable to render, please try loading this page with nbviewer.org.</b></div><div class=\"sk-container\" hidden><div class=\"sk-item sk-dashed-wrapped\"><div class=\"sk-label-container\"><div class=\"sk-label sk-toggleable\"><input class=\"sk-toggleable__control sk-hidden--visually\" id=\"sk-estimator-id-1\" type=\"checkbox\" ><label for=\"sk-estimator-id-1\" class=\"sk-toggleable__label sk-toggleable__label-arrow\">GridSearchCV</label><div class=\"sk-toggleable__content\"><pre>GridSearchCV(cv=3,\n",
              "             estimator=MLPClassifier(learning_rate=&#x27;adaptive&#x27;,\n",
              "                                     learning_rate_init=0.0005, max_iter=2000,\n",
              "                                     random_state=42, solver=&#x27;sgd&#x27;),\n",
              "             param_grid={&#x27;hidden_layer_sizes&#x27;: [400, 500, 600, 700]},\n",
              "             scoring=&#x27;accuracy&#x27;)</pre></div></div></div><div class=\"sk-parallel\"><div class=\"sk-parallel-item\"><div class=\"sk-item\"><div class=\"sk-label-container\"><div class=\"sk-label sk-toggleable\"><input class=\"sk-toggleable__control sk-hidden--visually\" id=\"sk-estimator-id-2\" type=\"checkbox\" ><label for=\"sk-estimator-id-2\" class=\"sk-toggleable__label sk-toggleable__label-arrow\">estimator: MLPClassifier</label><div class=\"sk-toggleable__content\"><pre>MLPClassifier(learning_rate=&#x27;adaptive&#x27;, learning_rate_init=0.0005,\n",
              "              max_iter=2000, random_state=42, solver=&#x27;sgd&#x27;)</pre></div></div></div><div class=\"sk-serial\"><div class=\"sk-item\"><div class=\"sk-estimator sk-toggleable\"><input class=\"sk-toggleable__control sk-hidden--visually\" id=\"sk-estimator-id-3\" type=\"checkbox\" ><label for=\"sk-estimator-id-3\" class=\"sk-toggleable__label sk-toggleable__label-arrow\">MLPClassifier</label><div class=\"sk-toggleable__content\"><pre>MLPClassifier(learning_rate=&#x27;adaptive&#x27;, learning_rate_init=0.0005,\n",
              "              max_iter=2000, random_state=42, solver=&#x27;sgd&#x27;)</pre></div></div></div></div></div></div></div></div></div></div>"
            ]
          },
          "metadata": {},
          "execution_count": 20
        }
      ]
    },
    {
      "cell_type": "markdown",
      "source": [
        "**Что значит cv=3 для GridSearchCV?**\n",
        "\n",
        "Ваш ответ: Параметр cv=3 для GridSearchCV означает, что процесс кросс-валидации будет выполняться с использованием 3 фолдов (разбиений) данных. То есть данные будут разделены на 3 части, и модель будет обучаться и тестироваться 3 раза, каждый раз используя разные комбинации частей данных в качестве обучающего и тестового наборов."
      ],
      "metadata": {
        "id": "W6Y5jQacCVF1"
      }
    },
    {
      "cell_type": "code",
      "source": [
        "print(f\"Гиперпараметры модели с лучшим результатом: {grid_search.best_params_}\")\n",
        "print(f\"Лучшая точность при кросс валидации: {grid_search.best_score_:.2f}\")"
      ],
      "metadata": {
        "id": "e9UUYEoPAvtg",
        "colab": {
          "base_uri": "https://localhost:8080/"
        },
        "outputId": "67f72302-8e58-4db7-ea05-3b90044f9a29"
      },
      "execution_count": 21,
      "outputs": [
        {
          "output_type": "stream",
          "name": "stdout",
          "text": [
            "Гиперпараметры модели с лучшим результатом: {'hidden_layer_sizes': 600}\n",
            "Лучшая точность при кросс валидации: 0.68\n"
          ]
        }
      ]
    },
    {
      "cell_type": "markdown",
      "source": [
        "## Тест наилучшей модели"
      ],
      "metadata": {
        "id": "YO7BbXzdCcgB"
      }
    },
    {
      "cell_type": "code",
      "source": [
        "test_accuracy = grid_search.score(X_test_scaled, y_test) # Подставьте данные тестовой выборки\n",
        "print(f\"Точность на тестовой выборке: {test_accuracy:.2f}\")"
      ],
      "metadata": {
        "id": "Wk3d147YAwZE",
        "colab": {
          "base_uri": "https://localhost:8080/"
        },
        "outputId": "a5ecb915-027f-4d6c-b550-e3646640df0a"
      },
      "execution_count": 22,
      "outputs": [
        {
          "output_type": "stream",
          "name": "stdout",
          "text": [
            "Точность на тестовой выборке: 0.76\n"
          ]
        }
      ]
    },
    {
      "cell_type": "code",
      "source": [
        "# Если понадобится сохранить лучший вариант, то он находится в атрибуте best_estimator_\n",
        "# Все данные по кросс валидации находятся в атрибуте cv_results_\n",
        "\n",
        "best_model = grid_search.best_estimator_\n",
        "best_model"
      ],
      "metadata": {
        "id": "K9vJahQNDKUf",
        "colab": {
          "base_uri": "https://localhost:8080/",
          "height": 109
        },
        "outputId": "1659de2b-b064-4c82-942c-3f4112b3257b"
      },
      "execution_count": 23,
      "outputs": [
        {
          "output_type": "execute_result",
          "data": {
            "text/plain": [
              "MLPClassifier(hidden_layer_sizes=600, learning_rate='adaptive',\n",
              "              learning_rate_init=0.0005, max_iter=2000, random_state=42,\n",
              "              solver='sgd')"
            ],
            "text/html": [
              "<style>#sk-container-id-2 {color: black;background-color: white;}#sk-container-id-2 pre{padding: 0;}#sk-container-id-2 div.sk-toggleable {background-color: white;}#sk-container-id-2 label.sk-toggleable__label {cursor: pointer;display: block;width: 100%;margin-bottom: 0;padding: 0.3em;box-sizing: border-box;text-align: center;}#sk-container-id-2 label.sk-toggleable__label-arrow:before {content: \"▸\";float: left;margin-right: 0.25em;color: #696969;}#sk-container-id-2 label.sk-toggleable__label-arrow:hover:before {color: black;}#sk-container-id-2 div.sk-estimator:hover label.sk-toggleable__label-arrow:before {color: black;}#sk-container-id-2 div.sk-toggleable__content {max-height: 0;max-width: 0;overflow: hidden;text-align: left;background-color: #f0f8ff;}#sk-container-id-2 div.sk-toggleable__content pre {margin: 0.2em;color: black;border-radius: 0.25em;background-color: #f0f8ff;}#sk-container-id-2 input.sk-toggleable__control:checked~div.sk-toggleable__content {max-height: 200px;max-width: 100%;overflow: auto;}#sk-container-id-2 input.sk-toggleable__control:checked~label.sk-toggleable__label-arrow:before {content: \"▾\";}#sk-container-id-2 div.sk-estimator input.sk-toggleable__control:checked~label.sk-toggleable__label {background-color: #d4ebff;}#sk-container-id-2 div.sk-label input.sk-toggleable__control:checked~label.sk-toggleable__label {background-color: #d4ebff;}#sk-container-id-2 input.sk-hidden--visually {border: 0;clip: rect(1px 1px 1px 1px);clip: rect(1px, 1px, 1px, 1px);height: 1px;margin: -1px;overflow: hidden;padding: 0;position: absolute;width: 1px;}#sk-container-id-2 div.sk-estimator {font-family: monospace;background-color: #f0f8ff;border: 1px dotted black;border-radius: 0.25em;box-sizing: border-box;margin-bottom: 0.5em;}#sk-container-id-2 div.sk-estimator:hover {background-color: #d4ebff;}#sk-container-id-2 div.sk-parallel-item::after {content: \"\";width: 100%;border-bottom: 1px solid gray;flex-grow: 1;}#sk-container-id-2 div.sk-label:hover label.sk-toggleable__label {background-color: #d4ebff;}#sk-container-id-2 div.sk-serial::before {content: \"\";position: absolute;border-left: 1px solid gray;box-sizing: border-box;top: 0;bottom: 0;left: 50%;z-index: 0;}#sk-container-id-2 div.sk-serial {display: flex;flex-direction: column;align-items: center;background-color: white;padding-right: 0.2em;padding-left: 0.2em;position: relative;}#sk-container-id-2 div.sk-item {position: relative;z-index: 1;}#sk-container-id-2 div.sk-parallel {display: flex;align-items: stretch;justify-content: center;background-color: white;position: relative;}#sk-container-id-2 div.sk-item::before, #sk-container-id-2 div.sk-parallel-item::before {content: \"\";position: absolute;border-left: 1px solid gray;box-sizing: border-box;top: 0;bottom: 0;left: 50%;z-index: -1;}#sk-container-id-2 div.sk-parallel-item {display: flex;flex-direction: column;z-index: 1;position: relative;background-color: white;}#sk-container-id-2 div.sk-parallel-item:first-child::after {align-self: flex-end;width: 50%;}#sk-container-id-2 div.sk-parallel-item:last-child::after {align-self: flex-start;width: 50%;}#sk-container-id-2 div.sk-parallel-item:only-child::after {width: 0;}#sk-container-id-2 div.sk-dashed-wrapped {border: 1px dashed gray;margin: 0 0.4em 0.5em 0.4em;box-sizing: border-box;padding-bottom: 0.4em;background-color: white;}#sk-container-id-2 div.sk-label label {font-family: monospace;font-weight: bold;display: inline-block;line-height: 1.2em;}#sk-container-id-2 div.sk-label-container {text-align: center;}#sk-container-id-2 div.sk-container {/* jupyter's `normalize.less` sets `[hidden] { display: none; }` but bootstrap.min.css set `[hidden] { display: none !important; }` so we also need the `!important` here to be able to override the default hidden behavior on the sphinx rendered scikit-learn.org. See: https://github.com/scikit-learn/scikit-learn/issues/21755 */display: inline-block !important;position: relative;}#sk-container-id-2 div.sk-text-repr-fallback {display: none;}</style><div id=\"sk-container-id-2\" class=\"sk-top-container\"><div class=\"sk-text-repr-fallback\"><pre>MLPClassifier(hidden_layer_sizes=600, learning_rate=&#x27;adaptive&#x27;,\n",
              "              learning_rate_init=0.0005, max_iter=2000, random_state=42,\n",
              "              solver=&#x27;sgd&#x27;)</pre><b>In a Jupyter environment, please rerun this cell to show the HTML representation or trust the notebook. <br />On GitHub, the HTML representation is unable to render, please try loading this page with nbviewer.org.</b></div><div class=\"sk-container\" hidden><div class=\"sk-item\"><div class=\"sk-estimator sk-toggleable\"><input class=\"sk-toggleable__control sk-hidden--visually\" id=\"sk-estimator-id-4\" type=\"checkbox\" checked><label for=\"sk-estimator-id-4\" class=\"sk-toggleable__label sk-toggleable__label-arrow\">MLPClassifier</label><div class=\"sk-toggleable__content\"><pre>MLPClassifier(hidden_layer_sizes=600, learning_rate=&#x27;adaptive&#x27;,\n",
              "              learning_rate_init=0.0005, max_iter=2000, random_state=42,\n",
              "              solver=&#x27;sgd&#x27;)</pre></div></div></div></div></div>"
            ]
          },
          "metadata": {},
          "execution_count": 23
        }
      ]
    },
    {
      "cell_type": "code",
      "source": [
        "n_features = 100 # количество признаков в вашем наборе данных\n",
        "m_hidden = 30  # hidden_layer_sizes\n",
        "L_hidden = 1   # один скрытый слой\n",
        "K = 8 # количество классов\n",
        "\n",
        "# Рассчитаем количество параметров\n",
        "params_between_input_and_hidden = n_features * m_hidden + m_hidden\n",
        "params_between_hidden_layers = L_hidden * (m_hidden * m_hidden + m_hidden)\n",
        "params_between_hidden_and_output = m_hidden * K + K\n",
        "\n",
        "# Общее количество параметров\n",
        "total_params = (params_between_input_and_hidden +\n",
        "                params_between_hidden_layers +\n",
        "                params_between_hidden_and_output)\n",
        "\n",
        "# Учитываем параметры для биасов\n",
        "total_params_with_biases = total_params + m_hidden + K  # m_hidden - для каждого слоя, K - для выходного слоя\n",
        "\n",
        "print(\"Общее количество параметров в модели:\", total_params_with_biases)"
      ],
      "metadata": {
        "colab": {
          "base_uri": "https://localhost:8080/"
        },
        "id": "fppX3Q1HTkAq",
        "outputId": "f894f358-f3e7-4fc1-c284-c0ddf649630e"
      },
      "execution_count": 31,
      "outputs": [
        {
          "output_type": "stream",
          "name": "stdout",
          "text": [
            "Общее количество параметров в модели: 4246\n"
          ]
        }
      ]
    },
    {
      "cell_type": "markdown",
      "source": [
        "**Что такое эпоха (epoch) при обучении модели?**\n",
        "\n",
        "Ваш ответ: Эпоха (epoch) при обучении модели в машинном обучении представляет собой один проход через весь тренировочный набор данных. В процессе обучения модели данные разделяются на батчи (подмножества), и каждый батч используется для обновления весов модели. Когда все батчи проходят через модель один раз, считается, что завершилась одна эпоха обучения.\n",
        "\n",
        "**Сколько эпох задается изначально при создании MLPClassifier?**\n",
        "\n",
        "Ваш ответ: При создании объекта MLPClassifier по умолчанию параметр max_iter устанавливается в 200, т.е. 200 эпох. В данном случае было задано 2000 эпох.\n",
        "\n",
        "**Для чего требуется регуляризация L2 или L1?**\n",
        "\n",
        "Ваш ответ: Регуляризация (L1 или L2) в машинном обучении добавляет штраф к функции потерь, который зависит от величины параметров модели. Это помогает предотвратить переобучение и улучшить обобщающую способность модели. Обе формы регуляризации добавляют штрафы на веса модели, но они делают это по-разному.   \n",
        "У L1 штраф пропорционален сумме абсолютных значений весов.   \n",
        "У L2 штраф пропорционален сумме квадратов весов.   \n",
        "\n",
        "**Сколько параметров в вашей лучшей модели?**\n",
        "\n",
        "Ваш ответ: Общее количество параметров в модели - 4246."
      ],
      "metadata": {
        "id": "EthloiEIJi3v"
      }
    }
  ]
}