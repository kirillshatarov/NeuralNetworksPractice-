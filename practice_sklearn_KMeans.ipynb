{
  "nbformat": 4,
  "nbformat_minor": 0,
  "metadata": {
    "colab": {
      "provenance": []
    },
    "kernelspec": {
      "name": "python3",
      "display_name": "Python 3"
    },
    "language_info": {
      "name": "python"
    }
  },
  "cells": [
    {
      "cell_type": "markdown",
      "source": [
        "# KMeans\n",
        "\n",
        "## Лабораторная работа №3"
      ],
      "metadata": {
        "id": "y00mUuEkA5u7"
      }
    },
    {
      "cell_type": "markdown",
      "source": [
        "Присвойте строку с вашим ФИО переменной `name` и выполните ячейку. В ее выводе будет указан номер вашего варианта."
      ],
      "metadata": {
        "id": "T2Pz-P4zD5sC"
      }
    },
    {
      "cell_type": "code",
      "source": [
        "name = \"Шатаров Кирилл Александрович\"\n",
        "\n",
        "def calculate_variant(name):\n",
        "    return sum(ord(char) for char in name) % 2 + 1\n",
        "\n",
        "print(f\"Ваш вариант - №{calculate_variant(name)}\")\n"
      ],
      "metadata": {
        "id": "dhoU_CP8DZvg",
        "colab": {
          "base_uri": "https://localhost:8080/"
        },
        "outputId": "930f3e6f-c754-4b4a-e1b7-918d86b2bd18"
      },
      "execution_count": 1,
      "outputs": [
        {
          "output_type": "stream",
          "name": "stdout",
          "text": [
            "Ваш вариант - №2\n"
          ]
        }
      ]
    },
    {
      "cell_type": "markdown",
      "source": [
        "\n",
        "---\n",
        "\n",
        "**Впишите в эту ячейку ваши ФИО, группу и вариант**.\n",
        "\n",
        "ФИО: Шатаров Кирилл Александрович\n",
        "\n",
        "Группа: 211-365\n",
        "\n",
        "Вариант: №2\n",
        "\n",
        "---\n",
        "\n",
        "Далее по ходу ноутбука вам встрется ячейки с кодом, в которых будут комментарии с заданиями, и текстовые ячейки как эта с вопросами, на которые вам необходимо письменно в ноутбуке ответить.\n",
        "\n",
        "Все ячейки необходимо запускать.\n",
        "\n",
        "Данные для вариантов лежат по ссылкам:\n",
        "\n",
        "1. http://labcolor.space/kmeans-1.csv\n",
        "1. http://labcolor.space/kmeans-2.csv\n",
        "\n",
        "Скопируйте ссылку для своего варианта."
      ],
      "metadata": {
        "id": "gAFVgWfvA9cu"
      }
    },
    {
      "cell_type": "code",
      "source": [
        "import numpy as np\n",
        "import pandas as pd\n",
        "import matplotlib.pyplot as plt\n",
        "\n",
        "%matplotlib inline\n",
        "%config InlineBackend.figure_format = 'svg'\n",
        "from matplotlib.pyplot import rcParams\n",
        "rcParams['figure.figsize'] = 12, 5"
      ],
      "metadata": {
        "id": "0wUj_k6TJFJ6"
      },
      "execution_count": 2,
      "outputs": []
    },
    {
      "cell_type": "markdown",
      "source": [
        "## Чтение данных\n",
        "\n",
        "Используя уже знакомый метод из библиотеки Pandas, считайте данные в формате csv по ссылке из вашего варианта в датафрейм.\n",
        "\n",
        "Изучите ваш датасет: сколько в нем объектов, сколько признаков, в каких диапазонах изменяются признаки, есть ли в данных целевой признак."
      ],
      "metadata": {
        "id": "Pc45po_jJZet"
      }
    },
    {
      "cell_type": "code",
      "source": [
        "df = pd.read_csv('http://labcolor.space/kmeans-2.csv')"
      ],
      "metadata": {
        "id": "lg-SIu4GJV69"
      },
      "execution_count": 3,
      "outputs": []
    },
    {
      "cell_type": "code",
      "source": [
        "df.head()"
      ],
      "metadata": {
        "colab": {
          "base_uri": "https://localhost:8080/",
          "height": 255
        },
        "id": "UhS6_apm6GS-",
        "outputId": "ea0c87d0-ba77-4081-bea3-01ca4950d4ca"
      },
      "execution_count": 5,
      "outputs": [
        {
          "output_type": "execute_result",
          "data": {
            "text/plain": [
              "      370.0  372.4161073825503  374.8322147651007  377.248322147651  \\\n",
              "0  1.643832           1.653974           1.664258          1.675012   \n",
              "1  1.737076           1.744759           1.752590          1.761497   \n",
              "2  1.636177           1.633219           1.631048          1.631170   \n",
              "3  1.666198           1.682622           1.698907          1.715742   \n",
              "4  1.654927           1.653515           1.652116          1.651377   \n",
              "\n",
              "   379.66442953020135  382.08053691275165  384.496644295302  \\\n",
              "0            1.685943            1.696479          1.708183   \n",
              "1            1.770919            1.781013          1.791797   \n",
              "2            1.632342            1.635748          1.641488   \n",
              "3            1.732075            1.748684          1.764595   \n",
              "4            1.650935            1.650776          1.652101   \n",
              "\n",
              "   386.9127516778523  389.3288590604027  391.744966442953  ...  \\\n",
              "0           1.719613           1.731656          1.731949  ...   \n",
              "1           1.802723           1.814381          1.813813  ...   \n",
              "2           1.648256           1.657382          1.656845  ...   \n",
              "3           1.780162           1.795426          1.797943  ...   \n",
              "4           1.653049           1.655286          1.647188  ...   \n",
              "\n",
              "   708.255033557047  710.6711409395973  713.0872483221476  715.5033557046979  \\\n",
              "0          0.229817           0.246031           0.260585           0.273004   \n",
              "1          0.328683           0.326381           0.322892           0.318671   \n",
              "2          0.291181           0.291451           0.290297           0.287757   \n",
              "3          0.377852           0.375992           0.372284           0.366987   \n",
              "4          0.261426           0.260837           0.258872           0.254642   \n",
              "\n",
              "   717.9194630872483  720.3355704697987  722.7516778523491  725.1677852348994  \\\n",
              "0           0.286049           0.309913           0.330690           0.348017   \n",
              "1           0.315746           0.325096           0.333038           0.339213   \n",
              "2           0.286022           0.296141           0.304621           0.310407   \n",
              "3           0.361945           0.368278           0.373567           0.375289   \n",
              "4           0.251743           0.260160           0.267018           0.271899   \n",
              "\n",
              "   727.5838926174497     730.0  \n",
              "0           0.363368  0.377831  \n",
              "1           0.344198  0.349475  \n",
              "2           0.315660  0.320008  \n",
              "3           0.376614  0.376420  \n",
              "4           0.276467  0.280374  \n",
              "\n",
              "[5 rows x 150 columns]"
            ],
            "text/html": [
              "\n",
              "  <div id=\"df-676ad201-a3cd-487e-8413-01f27e5b9a29\" class=\"colab-df-container\">\n",
              "    <div>\n",
              "<style scoped>\n",
              "    .dataframe tbody tr th:only-of-type {\n",
              "        vertical-align: middle;\n",
              "    }\n",
              "\n",
              "    .dataframe tbody tr th {\n",
              "        vertical-align: top;\n",
              "    }\n",
              "\n",
              "    .dataframe thead th {\n",
              "        text-align: right;\n",
              "    }\n",
              "</style>\n",
              "<table border=\"1\" class=\"dataframe\">\n",
              "  <thead>\n",
              "    <tr style=\"text-align: right;\">\n",
              "      <th></th>\n",
              "      <th>370.0</th>\n",
              "      <th>372.4161073825503</th>\n",
              "      <th>374.8322147651007</th>\n",
              "      <th>377.248322147651</th>\n",
              "      <th>379.66442953020135</th>\n",
              "      <th>382.08053691275165</th>\n",
              "      <th>384.496644295302</th>\n",
              "      <th>386.9127516778523</th>\n",
              "      <th>389.3288590604027</th>\n",
              "      <th>391.744966442953</th>\n",
              "      <th>...</th>\n",
              "      <th>708.255033557047</th>\n",
              "      <th>710.6711409395973</th>\n",
              "      <th>713.0872483221476</th>\n",
              "      <th>715.5033557046979</th>\n",
              "      <th>717.9194630872483</th>\n",
              "      <th>720.3355704697987</th>\n",
              "      <th>722.7516778523491</th>\n",
              "      <th>725.1677852348994</th>\n",
              "      <th>727.5838926174497</th>\n",
              "      <th>730.0</th>\n",
              "    </tr>\n",
              "  </thead>\n",
              "  <tbody>\n",
              "    <tr>\n",
              "      <th>0</th>\n",
              "      <td>1.643832</td>\n",
              "      <td>1.653974</td>\n",
              "      <td>1.664258</td>\n",
              "      <td>1.675012</td>\n",
              "      <td>1.685943</td>\n",
              "      <td>1.696479</td>\n",
              "      <td>1.708183</td>\n",
              "      <td>1.719613</td>\n",
              "      <td>1.731656</td>\n",
              "      <td>1.731949</td>\n",
              "      <td>...</td>\n",
              "      <td>0.229817</td>\n",
              "      <td>0.246031</td>\n",
              "      <td>0.260585</td>\n",
              "      <td>0.273004</td>\n",
              "      <td>0.286049</td>\n",
              "      <td>0.309913</td>\n",
              "      <td>0.330690</td>\n",
              "      <td>0.348017</td>\n",
              "      <td>0.363368</td>\n",
              "      <td>0.377831</td>\n",
              "    </tr>\n",
              "    <tr>\n",
              "      <th>1</th>\n",
              "      <td>1.737076</td>\n",
              "      <td>1.744759</td>\n",
              "      <td>1.752590</td>\n",
              "      <td>1.761497</td>\n",
              "      <td>1.770919</td>\n",
              "      <td>1.781013</td>\n",
              "      <td>1.791797</td>\n",
              "      <td>1.802723</td>\n",
              "      <td>1.814381</td>\n",
              "      <td>1.813813</td>\n",
              "      <td>...</td>\n",
              "      <td>0.328683</td>\n",
              "      <td>0.326381</td>\n",
              "      <td>0.322892</td>\n",
              "      <td>0.318671</td>\n",
              "      <td>0.315746</td>\n",
              "      <td>0.325096</td>\n",
              "      <td>0.333038</td>\n",
              "      <td>0.339213</td>\n",
              "      <td>0.344198</td>\n",
              "      <td>0.349475</td>\n",
              "    </tr>\n",
              "    <tr>\n",
              "      <th>2</th>\n",
              "      <td>1.636177</td>\n",
              "      <td>1.633219</td>\n",
              "      <td>1.631048</td>\n",
              "      <td>1.631170</td>\n",
              "      <td>1.632342</td>\n",
              "      <td>1.635748</td>\n",
              "      <td>1.641488</td>\n",
              "      <td>1.648256</td>\n",
              "      <td>1.657382</td>\n",
              "      <td>1.656845</td>\n",
              "      <td>...</td>\n",
              "      <td>0.291181</td>\n",
              "      <td>0.291451</td>\n",
              "      <td>0.290297</td>\n",
              "      <td>0.287757</td>\n",
              "      <td>0.286022</td>\n",
              "      <td>0.296141</td>\n",
              "      <td>0.304621</td>\n",
              "      <td>0.310407</td>\n",
              "      <td>0.315660</td>\n",
              "      <td>0.320008</td>\n",
              "    </tr>\n",
              "    <tr>\n",
              "      <th>3</th>\n",
              "      <td>1.666198</td>\n",
              "      <td>1.682622</td>\n",
              "      <td>1.698907</td>\n",
              "      <td>1.715742</td>\n",
              "      <td>1.732075</td>\n",
              "      <td>1.748684</td>\n",
              "      <td>1.764595</td>\n",
              "      <td>1.780162</td>\n",
              "      <td>1.795426</td>\n",
              "      <td>1.797943</td>\n",
              "      <td>...</td>\n",
              "      <td>0.377852</td>\n",
              "      <td>0.375992</td>\n",
              "      <td>0.372284</td>\n",
              "      <td>0.366987</td>\n",
              "      <td>0.361945</td>\n",
              "      <td>0.368278</td>\n",
              "      <td>0.373567</td>\n",
              "      <td>0.375289</td>\n",
              "      <td>0.376614</td>\n",
              "      <td>0.376420</td>\n",
              "    </tr>\n",
              "    <tr>\n",
              "      <th>4</th>\n",
              "      <td>1.654927</td>\n",
              "      <td>1.653515</td>\n",
              "      <td>1.652116</td>\n",
              "      <td>1.651377</td>\n",
              "      <td>1.650935</td>\n",
              "      <td>1.650776</td>\n",
              "      <td>1.652101</td>\n",
              "      <td>1.653049</td>\n",
              "      <td>1.655286</td>\n",
              "      <td>1.647188</td>\n",
              "      <td>...</td>\n",
              "      <td>0.261426</td>\n",
              "      <td>0.260837</td>\n",
              "      <td>0.258872</td>\n",
              "      <td>0.254642</td>\n",
              "      <td>0.251743</td>\n",
              "      <td>0.260160</td>\n",
              "      <td>0.267018</td>\n",
              "      <td>0.271899</td>\n",
              "      <td>0.276467</td>\n",
              "      <td>0.280374</td>\n",
              "    </tr>\n",
              "  </tbody>\n",
              "</table>\n",
              "<p>5 rows × 150 columns</p>\n",
              "</div>\n",
              "    <div class=\"colab-df-buttons\">\n",
              "\n",
              "  <div class=\"colab-df-container\">\n",
              "    <button class=\"colab-df-convert\" onclick=\"convertToInteractive('df-676ad201-a3cd-487e-8413-01f27e5b9a29')\"\n",
              "            title=\"Convert this dataframe to an interactive table.\"\n",
              "            style=\"display:none;\">\n",
              "\n",
              "  <svg xmlns=\"http://www.w3.org/2000/svg\" height=\"24px\" viewBox=\"0 -960 960 960\">\n",
              "    <path d=\"M120-120v-720h720v720H120Zm60-500h600v-160H180v160Zm220 220h160v-160H400v160Zm0 220h160v-160H400v160ZM180-400h160v-160H180v160Zm440 0h160v-160H620v160ZM180-180h160v-160H180v160Zm440 0h160v-160H620v160Z\"/>\n",
              "  </svg>\n",
              "    </button>\n",
              "\n",
              "  <style>\n",
              "    .colab-df-container {\n",
              "      display:flex;\n",
              "      gap: 12px;\n",
              "    }\n",
              "\n",
              "    .colab-df-convert {\n",
              "      background-color: #E8F0FE;\n",
              "      border: none;\n",
              "      border-radius: 50%;\n",
              "      cursor: pointer;\n",
              "      display: none;\n",
              "      fill: #1967D2;\n",
              "      height: 32px;\n",
              "      padding: 0 0 0 0;\n",
              "      width: 32px;\n",
              "    }\n",
              "\n",
              "    .colab-df-convert:hover {\n",
              "      background-color: #E2EBFA;\n",
              "      box-shadow: 0px 1px 2px rgba(60, 64, 67, 0.3), 0px 1px 3px 1px rgba(60, 64, 67, 0.15);\n",
              "      fill: #174EA6;\n",
              "    }\n",
              "\n",
              "    .colab-df-buttons div {\n",
              "      margin-bottom: 4px;\n",
              "    }\n",
              "\n",
              "    [theme=dark] .colab-df-convert {\n",
              "      background-color: #3B4455;\n",
              "      fill: #D2E3FC;\n",
              "    }\n",
              "\n",
              "    [theme=dark] .colab-df-convert:hover {\n",
              "      background-color: #434B5C;\n",
              "      box-shadow: 0px 1px 3px 1px rgba(0, 0, 0, 0.15);\n",
              "      filter: drop-shadow(0px 1px 2px rgba(0, 0, 0, 0.3));\n",
              "      fill: #FFFFFF;\n",
              "    }\n",
              "  </style>\n",
              "\n",
              "    <script>\n",
              "      const buttonEl =\n",
              "        document.querySelector('#df-676ad201-a3cd-487e-8413-01f27e5b9a29 button.colab-df-convert');\n",
              "      buttonEl.style.display =\n",
              "        google.colab.kernel.accessAllowed ? 'block' : 'none';\n",
              "\n",
              "      async function convertToInteractive(key) {\n",
              "        const element = document.querySelector('#df-676ad201-a3cd-487e-8413-01f27e5b9a29');\n",
              "        const dataTable =\n",
              "          await google.colab.kernel.invokeFunction('convertToInteractive',\n",
              "                                                    [key], {});\n",
              "        if (!dataTable) return;\n",
              "\n",
              "        const docLinkHtml = 'Like what you see? Visit the ' +\n",
              "          '<a target=\"_blank\" href=https://colab.research.google.com/notebooks/data_table.ipynb>data table notebook</a>'\n",
              "          + ' to learn more about interactive tables.';\n",
              "        element.innerHTML = '';\n",
              "        dataTable['output_type'] = 'display_data';\n",
              "        await google.colab.output.renderOutput(dataTable, element);\n",
              "        const docLink = document.createElement('div');\n",
              "        docLink.innerHTML = docLinkHtml;\n",
              "        element.appendChild(docLink);\n",
              "      }\n",
              "    </script>\n",
              "  </div>\n",
              "\n",
              "\n",
              "<div id=\"df-2217b814-1eab-4aee-84cd-a12eb5b7a016\">\n",
              "  <button class=\"colab-df-quickchart\" onclick=\"quickchart('df-2217b814-1eab-4aee-84cd-a12eb5b7a016')\"\n",
              "            title=\"Suggest charts\"\n",
              "            style=\"display:none;\">\n",
              "\n",
              "<svg xmlns=\"http://www.w3.org/2000/svg\" height=\"24px\"viewBox=\"0 0 24 24\"\n",
              "     width=\"24px\">\n",
              "    <g>\n",
              "        <path d=\"M19 3H5c-1.1 0-2 .9-2 2v14c0 1.1.9 2 2 2h14c1.1 0 2-.9 2-2V5c0-1.1-.9-2-2-2zM9 17H7v-7h2v7zm4 0h-2V7h2v10zm4 0h-2v-4h2v4z\"/>\n",
              "    </g>\n",
              "</svg>\n",
              "  </button>\n",
              "\n",
              "<style>\n",
              "  .colab-df-quickchart {\n",
              "      --bg-color: #E8F0FE;\n",
              "      --fill-color: #1967D2;\n",
              "      --hover-bg-color: #E2EBFA;\n",
              "      --hover-fill-color: #174EA6;\n",
              "      --disabled-fill-color: #AAA;\n",
              "      --disabled-bg-color: #DDD;\n",
              "  }\n",
              "\n",
              "  [theme=dark] .colab-df-quickchart {\n",
              "      --bg-color: #3B4455;\n",
              "      --fill-color: #D2E3FC;\n",
              "      --hover-bg-color: #434B5C;\n",
              "      --hover-fill-color: #FFFFFF;\n",
              "      --disabled-bg-color: #3B4455;\n",
              "      --disabled-fill-color: #666;\n",
              "  }\n",
              "\n",
              "  .colab-df-quickchart {\n",
              "    background-color: var(--bg-color);\n",
              "    border: none;\n",
              "    border-radius: 50%;\n",
              "    cursor: pointer;\n",
              "    display: none;\n",
              "    fill: var(--fill-color);\n",
              "    height: 32px;\n",
              "    padding: 0;\n",
              "    width: 32px;\n",
              "  }\n",
              "\n",
              "  .colab-df-quickchart:hover {\n",
              "    background-color: var(--hover-bg-color);\n",
              "    box-shadow: 0 1px 2px rgba(60, 64, 67, 0.3), 0 1px 3px 1px rgba(60, 64, 67, 0.15);\n",
              "    fill: var(--button-hover-fill-color);\n",
              "  }\n",
              "\n",
              "  .colab-df-quickchart-complete:disabled,\n",
              "  .colab-df-quickchart-complete:disabled:hover {\n",
              "    background-color: var(--disabled-bg-color);\n",
              "    fill: var(--disabled-fill-color);\n",
              "    box-shadow: none;\n",
              "  }\n",
              "\n",
              "  .colab-df-spinner {\n",
              "    border: 2px solid var(--fill-color);\n",
              "    border-color: transparent;\n",
              "    border-bottom-color: var(--fill-color);\n",
              "    animation:\n",
              "      spin 1s steps(1) infinite;\n",
              "  }\n",
              "\n",
              "  @keyframes spin {\n",
              "    0% {\n",
              "      border-color: transparent;\n",
              "      border-bottom-color: var(--fill-color);\n",
              "      border-left-color: var(--fill-color);\n",
              "    }\n",
              "    20% {\n",
              "      border-color: transparent;\n",
              "      border-left-color: var(--fill-color);\n",
              "      border-top-color: var(--fill-color);\n",
              "    }\n",
              "    30% {\n",
              "      border-color: transparent;\n",
              "      border-left-color: var(--fill-color);\n",
              "      border-top-color: var(--fill-color);\n",
              "      border-right-color: var(--fill-color);\n",
              "    }\n",
              "    40% {\n",
              "      border-color: transparent;\n",
              "      border-right-color: var(--fill-color);\n",
              "      border-top-color: var(--fill-color);\n",
              "    }\n",
              "    60% {\n",
              "      border-color: transparent;\n",
              "      border-right-color: var(--fill-color);\n",
              "    }\n",
              "    80% {\n",
              "      border-color: transparent;\n",
              "      border-right-color: var(--fill-color);\n",
              "      border-bottom-color: var(--fill-color);\n",
              "    }\n",
              "    90% {\n",
              "      border-color: transparent;\n",
              "      border-bottom-color: var(--fill-color);\n",
              "    }\n",
              "  }\n",
              "</style>\n",
              "\n",
              "  <script>\n",
              "    async function quickchart(key) {\n",
              "      const quickchartButtonEl =\n",
              "        document.querySelector('#' + key + ' button');\n",
              "      quickchartButtonEl.disabled = true;  // To prevent multiple clicks.\n",
              "      quickchartButtonEl.classList.add('colab-df-spinner');\n",
              "      try {\n",
              "        const charts = await google.colab.kernel.invokeFunction(\n",
              "            'suggestCharts', [key], {});\n",
              "      } catch (error) {\n",
              "        console.error('Error during call to suggestCharts:', error);\n",
              "      }\n",
              "      quickchartButtonEl.classList.remove('colab-df-spinner');\n",
              "      quickchartButtonEl.classList.add('colab-df-quickchart-complete');\n",
              "    }\n",
              "    (() => {\n",
              "      let quickchartButtonEl =\n",
              "        document.querySelector('#df-2217b814-1eab-4aee-84cd-a12eb5b7a016 button');\n",
              "      quickchartButtonEl.style.display =\n",
              "        google.colab.kernel.accessAllowed ? 'block' : 'none';\n",
              "    })();\n",
              "  </script>\n",
              "</div>\n",
              "    </div>\n",
              "  </div>\n"
            ]
          },
          "metadata": {},
          "execution_count": 5
        }
      ]
    },
    {
      "cell_type": "code",
      "source": [
        "df.shape"
      ],
      "metadata": {
        "colab": {
          "base_uri": "https://localhost:8080/"
        },
        "id": "0qGf5gdt5_ze",
        "outputId": "e6d99cae-a18a-46d5-ad34-2b0012acd5a7"
      },
      "execution_count": 4,
      "outputs": [
        {
          "output_type": "execute_result",
          "data": {
            "text/plain": [
              "(80, 150)"
            ]
          },
          "metadata": {},
          "execution_count": 4
        }
      ]
    },
    {
      "cell_type": "code",
      "source": [
        "df.describe()"
      ],
      "metadata": {
        "colab": {
          "base_uri": "https://localhost:8080/",
          "height": 349
        },
        "id": "YfNGpt0i6FuN",
        "outputId": "f6b71a44-efcd-42d8-8459-e233b6974b0f"
      },
      "execution_count": 6,
      "outputs": [
        {
          "output_type": "execute_result",
          "data": {
            "text/plain": [
              "           370.0  372.4161073825503  374.8322147651007  377.248322147651  \\\n",
              "count  80.000000          80.000000          80.000000         80.000000   \n",
              "mean    0.979670           0.981397           0.984054          0.987103   \n",
              "std     0.736172           0.737652           0.739094          0.740929   \n",
              "min     0.000000           0.000000           0.000000          0.000000   \n",
              "25%     0.244692           0.252491           0.261754          0.265595   \n",
              "50%     0.988965           0.991635           0.995020          0.998552   \n",
              "75%     1.678961           1.687208           1.699924          1.708823   \n",
              "max     2.000000           2.000000           2.000000          2.000000   \n",
              "\n",
              "       379.66442953020135  382.08053691275165  384.496644295302  \\\n",
              "count           80.000000           80.000000         80.000000   \n",
              "mean             0.990156            0.993836          0.998397   \n",
              "std              0.743104            0.745420          0.747907   \n",
              "min              0.000000            0.000000          0.000000   \n",
              "25%              0.267354            0.270092          0.275081   \n",
              "50%              1.001024            1.004065          1.007607   \n",
              "75%              1.712280            1.714856          1.724840   \n",
              "max              2.000000            2.000000          2.000000   \n",
              "\n",
              "       386.9127516778523  389.3288590604027  391.744966442953  ...  \\\n",
              "count          80.000000          80.000000         80.000000  ...   \n",
              "mean            1.003042           1.008358          1.006987  ...   \n",
              "std             0.750496           0.753590          0.751772  ...   \n",
              "min             0.000000           0.000000          0.000000  ...   \n",
              "25%             0.269697           0.272831          0.268470  ...   \n",
              "50%             1.011000           1.014308          1.010384  ...   \n",
              "75%             1.735440           1.746327          1.746842  ...   \n",
              "max             2.000000           2.000000          2.000000  ...   \n",
              "\n",
              "       708.255033557047  710.6711409395973  713.0872483221476  \\\n",
              "count         80.000000          80.000000          80.000000   \n",
              "mean           1.001307           0.998017           0.994112   \n",
              "std            0.788050           0.788410           0.789719   \n",
              "min            0.000000           0.000000           0.000000   \n",
              "25%            0.264574           0.263102           0.260936   \n",
              "50%            0.401366           0.399032           0.394822   \n",
              "75%            1.811257           1.806093           1.806899   \n",
              "max            2.000000           2.000000           2.000000   \n",
              "\n",
              "       715.5033557046979  717.9194630872483  720.3355704697987  \\\n",
              "count          80.000000          80.000000          80.000000   \n",
              "mean            0.989741           0.986050           0.989658   \n",
              "std             0.792078           0.794061           0.790729   \n",
              "min             0.000000           0.000000           0.000000   \n",
              "25%             0.256628           0.254779           0.263538   \n",
              "50%             0.383237           0.371835           0.375681   \n",
              "75%             1.801259           1.794684           1.790806   \n",
              "max             2.000000           2.000000           2.000000   \n",
              "\n",
              "       722.7516778523491  725.1677852348994  727.5838926174497      730.0  \n",
              "count          80.000000          80.000000          80.000000  80.000000  \n",
              "mean            0.991478           0.989219           0.987548   0.985849  \n",
              "std             0.786894           0.780644           0.775597   0.771149  \n",
              "min             0.000000           0.000000           0.000000   0.000000  \n",
              "25%             0.269972           0.266905           0.264801   0.262116  \n",
              "50%             0.381975           0.391916           0.401895   0.411956  \n",
              "75%             1.790046           1.786441           1.782557   1.778888  \n",
              "max             2.000000           2.000000           2.000000   2.000000  \n",
              "\n",
              "[8 rows x 150 columns]"
            ],
            "text/html": [
              "\n",
              "  <div id=\"df-f4a78446-7f1c-45ae-914f-6c82a9470757\" class=\"colab-df-container\">\n",
              "    <div>\n",
              "<style scoped>\n",
              "    .dataframe tbody tr th:only-of-type {\n",
              "        vertical-align: middle;\n",
              "    }\n",
              "\n",
              "    .dataframe tbody tr th {\n",
              "        vertical-align: top;\n",
              "    }\n",
              "\n",
              "    .dataframe thead th {\n",
              "        text-align: right;\n",
              "    }\n",
              "</style>\n",
              "<table border=\"1\" class=\"dataframe\">\n",
              "  <thead>\n",
              "    <tr style=\"text-align: right;\">\n",
              "      <th></th>\n",
              "      <th>370.0</th>\n",
              "      <th>372.4161073825503</th>\n",
              "      <th>374.8322147651007</th>\n",
              "      <th>377.248322147651</th>\n",
              "      <th>379.66442953020135</th>\n",
              "      <th>382.08053691275165</th>\n",
              "      <th>384.496644295302</th>\n",
              "      <th>386.9127516778523</th>\n",
              "      <th>389.3288590604027</th>\n",
              "      <th>391.744966442953</th>\n",
              "      <th>...</th>\n",
              "      <th>708.255033557047</th>\n",
              "      <th>710.6711409395973</th>\n",
              "      <th>713.0872483221476</th>\n",
              "      <th>715.5033557046979</th>\n",
              "      <th>717.9194630872483</th>\n",
              "      <th>720.3355704697987</th>\n",
              "      <th>722.7516778523491</th>\n",
              "      <th>725.1677852348994</th>\n",
              "      <th>727.5838926174497</th>\n",
              "      <th>730.0</th>\n",
              "    </tr>\n",
              "  </thead>\n",
              "  <tbody>\n",
              "    <tr>\n",
              "      <th>count</th>\n",
              "      <td>80.000000</td>\n",
              "      <td>80.000000</td>\n",
              "      <td>80.000000</td>\n",
              "      <td>80.000000</td>\n",
              "      <td>80.000000</td>\n",
              "      <td>80.000000</td>\n",
              "      <td>80.000000</td>\n",
              "      <td>80.000000</td>\n",
              "      <td>80.000000</td>\n",
              "      <td>80.000000</td>\n",
              "      <td>...</td>\n",
              "      <td>80.000000</td>\n",
              "      <td>80.000000</td>\n",
              "      <td>80.000000</td>\n",
              "      <td>80.000000</td>\n",
              "      <td>80.000000</td>\n",
              "      <td>80.000000</td>\n",
              "      <td>80.000000</td>\n",
              "      <td>80.000000</td>\n",
              "      <td>80.000000</td>\n",
              "      <td>80.000000</td>\n",
              "    </tr>\n",
              "    <tr>\n",
              "      <th>mean</th>\n",
              "      <td>0.979670</td>\n",
              "      <td>0.981397</td>\n",
              "      <td>0.984054</td>\n",
              "      <td>0.987103</td>\n",
              "      <td>0.990156</td>\n",
              "      <td>0.993836</td>\n",
              "      <td>0.998397</td>\n",
              "      <td>1.003042</td>\n",
              "      <td>1.008358</td>\n",
              "      <td>1.006987</td>\n",
              "      <td>...</td>\n",
              "      <td>1.001307</td>\n",
              "      <td>0.998017</td>\n",
              "      <td>0.994112</td>\n",
              "      <td>0.989741</td>\n",
              "      <td>0.986050</td>\n",
              "      <td>0.989658</td>\n",
              "      <td>0.991478</td>\n",
              "      <td>0.989219</td>\n",
              "      <td>0.987548</td>\n",
              "      <td>0.985849</td>\n",
              "    </tr>\n",
              "    <tr>\n",
              "      <th>std</th>\n",
              "      <td>0.736172</td>\n",
              "      <td>0.737652</td>\n",
              "      <td>0.739094</td>\n",
              "      <td>0.740929</td>\n",
              "      <td>0.743104</td>\n",
              "      <td>0.745420</td>\n",
              "      <td>0.747907</td>\n",
              "      <td>0.750496</td>\n",
              "      <td>0.753590</td>\n",
              "      <td>0.751772</td>\n",
              "      <td>...</td>\n",
              "      <td>0.788050</td>\n",
              "      <td>0.788410</td>\n",
              "      <td>0.789719</td>\n",
              "      <td>0.792078</td>\n",
              "      <td>0.794061</td>\n",
              "      <td>0.790729</td>\n",
              "      <td>0.786894</td>\n",
              "      <td>0.780644</td>\n",
              "      <td>0.775597</td>\n",
              "      <td>0.771149</td>\n",
              "    </tr>\n",
              "    <tr>\n",
              "      <th>min</th>\n",
              "      <td>0.000000</td>\n",
              "      <td>0.000000</td>\n",
              "      <td>0.000000</td>\n",
              "      <td>0.000000</td>\n",
              "      <td>0.000000</td>\n",
              "      <td>0.000000</td>\n",
              "      <td>0.000000</td>\n",
              "      <td>0.000000</td>\n",
              "      <td>0.000000</td>\n",
              "      <td>0.000000</td>\n",
              "      <td>...</td>\n",
              "      <td>0.000000</td>\n",
              "      <td>0.000000</td>\n",
              "      <td>0.000000</td>\n",
              "      <td>0.000000</td>\n",
              "      <td>0.000000</td>\n",
              "      <td>0.000000</td>\n",
              "      <td>0.000000</td>\n",
              "      <td>0.000000</td>\n",
              "      <td>0.000000</td>\n",
              "      <td>0.000000</td>\n",
              "    </tr>\n",
              "    <tr>\n",
              "      <th>25%</th>\n",
              "      <td>0.244692</td>\n",
              "      <td>0.252491</td>\n",
              "      <td>0.261754</td>\n",
              "      <td>0.265595</td>\n",
              "      <td>0.267354</td>\n",
              "      <td>0.270092</td>\n",
              "      <td>0.275081</td>\n",
              "      <td>0.269697</td>\n",
              "      <td>0.272831</td>\n",
              "      <td>0.268470</td>\n",
              "      <td>...</td>\n",
              "      <td>0.264574</td>\n",
              "      <td>0.263102</td>\n",
              "      <td>0.260936</td>\n",
              "      <td>0.256628</td>\n",
              "      <td>0.254779</td>\n",
              "      <td>0.263538</td>\n",
              "      <td>0.269972</td>\n",
              "      <td>0.266905</td>\n",
              "      <td>0.264801</td>\n",
              "      <td>0.262116</td>\n",
              "    </tr>\n",
              "    <tr>\n",
              "      <th>50%</th>\n",
              "      <td>0.988965</td>\n",
              "      <td>0.991635</td>\n",
              "      <td>0.995020</td>\n",
              "      <td>0.998552</td>\n",
              "      <td>1.001024</td>\n",
              "      <td>1.004065</td>\n",
              "      <td>1.007607</td>\n",
              "      <td>1.011000</td>\n",
              "      <td>1.014308</td>\n",
              "      <td>1.010384</td>\n",
              "      <td>...</td>\n",
              "      <td>0.401366</td>\n",
              "      <td>0.399032</td>\n",
              "      <td>0.394822</td>\n",
              "      <td>0.383237</td>\n",
              "      <td>0.371835</td>\n",
              "      <td>0.375681</td>\n",
              "      <td>0.381975</td>\n",
              "      <td>0.391916</td>\n",
              "      <td>0.401895</td>\n",
              "      <td>0.411956</td>\n",
              "    </tr>\n",
              "    <tr>\n",
              "      <th>75%</th>\n",
              "      <td>1.678961</td>\n",
              "      <td>1.687208</td>\n",
              "      <td>1.699924</td>\n",
              "      <td>1.708823</td>\n",
              "      <td>1.712280</td>\n",
              "      <td>1.714856</td>\n",
              "      <td>1.724840</td>\n",
              "      <td>1.735440</td>\n",
              "      <td>1.746327</td>\n",
              "      <td>1.746842</td>\n",
              "      <td>...</td>\n",
              "      <td>1.811257</td>\n",
              "      <td>1.806093</td>\n",
              "      <td>1.806899</td>\n",
              "      <td>1.801259</td>\n",
              "      <td>1.794684</td>\n",
              "      <td>1.790806</td>\n",
              "      <td>1.790046</td>\n",
              "      <td>1.786441</td>\n",
              "      <td>1.782557</td>\n",
              "      <td>1.778888</td>\n",
              "    </tr>\n",
              "    <tr>\n",
              "      <th>max</th>\n",
              "      <td>2.000000</td>\n",
              "      <td>2.000000</td>\n",
              "      <td>2.000000</td>\n",
              "      <td>2.000000</td>\n",
              "      <td>2.000000</td>\n",
              "      <td>2.000000</td>\n",
              "      <td>2.000000</td>\n",
              "      <td>2.000000</td>\n",
              "      <td>2.000000</td>\n",
              "      <td>2.000000</td>\n",
              "      <td>...</td>\n",
              "      <td>2.000000</td>\n",
              "      <td>2.000000</td>\n",
              "      <td>2.000000</td>\n",
              "      <td>2.000000</td>\n",
              "      <td>2.000000</td>\n",
              "      <td>2.000000</td>\n",
              "      <td>2.000000</td>\n",
              "      <td>2.000000</td>\n",
              "      <td>2.000000</td>\n",
              "      <td>2.000000</td>\n",
              "    </tr>\n",
              "  </tbody>\n",
              "</table>\n",
              "<p>8 rows × 150 columns</p>\n",
              "</div>\n",
              "    <div class=\"colab-df-buttons\">\n",
              "\n",
              "  <div class=\"colab-df-container\">\n",
              "    <button class=\"colab-df-convert\" onclick=\"convertToInteractive('df-f4a78446-7f1c-45ae-914f-6c82a9470757')\"\n",
              "            title=\"Convert this dataframe to an interactive table.\"\n",
              "            style=\"display:none;\">\n",
              "\n",
              "  <svg xmlns=\"http://www.w3.org/2000/svg\" height=\"24px\" viewBox=\"0 -960 960 960\">\n",
              "    <path d=\"M120-120v-720h720v720H120Zm60-500h600v-160H180v160Zm220 220h160v-160H400v160Zm0 220h160v-160H400v160ZM180-400h160v-160H180v160Zm440 0h160v-160H620v160ZM180-180h160v-160H180v160Zm440 0h160v-160H620v160Z\"/>\n",
              "  </svg>\n",
              "    </button>\n",
              "\n",
              "  <style>\n",
              "    .colab-df-container {\n",
              "      display:flex;\n",
              "      gap: 12px;\n",
              "    }\n",
              "\n",
              "    .colab-df-convert {\n",
              "      background-color: #E8F0FE;\n",
              "      border: none;\n",
              "      border-radius: 50%;\n",
              "      cursor: pointer;\n",
              "      display: none;\n",
              "      fill: #1967D2;\n",
              "      height: 32px;\n",
              "      padding: 0 0 0 0;\n",
              "      width: 32px;\n",
              "    }\n",
              "\n",
              "    .colab-df-convert:hover {\n",
              "      background-color: #E2EBFA;\n",
              "      box-shadow: 0px 1px 2px rgba(60, 64, 67, 0.3), 0px 1px 3px 1px rgba(60, 64, 67, 0.15);\n",
              "      fill: #174EA6;\n",
              "    }\n",
              "\n",
              "    .colab-df-buttons div {\n",
              "      margin-bottom: 4px;\n",
              "    }\n",
              "\n",
              "    [theme=dark] .colab-df-convert {\n",
              "      background-color: #3B4455;\n",
              "      fill: #D2E3FC;\n",
              "    }\n",
              "\n",
              "    [theme=dark] .colab-df-convert:hover {\n",
              "      background-color: #434B5C;\n",
              "      box-shadow: 0px 1px 3px 1px rgba(0, 0, 0, 0.15);\n",
              "      filter: drop-shadow(0px 1px 2px rgba(0, 0, 0, 0.3));\n",
              "      fill: #FFFFFF;\n",
              "    }\n",
              "  </style>\n",
              "\n",
              "    <script>\n",
              "      const buttonEl =\n",
              "        document.querySelector('#df-f4a78446-7f1c-45ae-914f-6c82a9470757 button.colab-df-convert');\n",
              "      buttonEl.style.display =\n",
              "        google.colab.kernel.accessAllowed ? 'block' : 'none';\n",
              "\n",
              "      async function convertToInteractive(key) {\n",
              "        const element = document.querySelector('#df-f4a78446-7f1c-45ae-914f-6c82a9470757');\n",
              "        const dataTable =\n",
              "          await google.colab.kernel.invokeFunction('convertToInteractive',\n",
              "                                                    [key], {});\n",
              "        if (!dataTable) return;\n",
              "\n",
              "        const docLinkHtml = 'Like what you see? Visit the ' +\n",
              "          '<a target=\"_blank\" href=https://colab.research.google.com/notebooks/data_table.ipynb>data table notebook</a>'\n",
              "          + ' to learn more about interactive tables.';\n",
              "        element.innerHTML = '';\n",
              "        dataTable['output_type'] = 'display_data';\n",
              "        await google.colab.output.renderOutput(dataTable, element);\n",
              "        const docLink = document.createElement('div');\n",
              "        docLink.innerHTML = docLinkHtml;\n",
              "        element.appendChild(docLink);\n",
              "      }\n",
              "    </script>\n",
              "  </div>\n",
              "\n",
              "\n",
              "<div id=\"df-880213d1-09ab-43d8-b345-d5e8d9b031f0\">\n",
              "  <button class=\"colab-df-quickchart\" onclick=\"quickchart('df-880213d1-09ab-43d8-b345-d5e8d9b031f0')\"\n",
              "            title=\"Suggest charts\"\n",
              "            style=\"display:none;\">\n",
              "\n",
              "<svg xmlns=\"http://www.w3.org/2000/svg\" height=\"24px\"viewBox=\"0 0 24 24\"\n",
              "     width=\"24px\">\n",
              "    <g>\n",
              "        <path d=\"M19 3H5c-1.1 0-2 .9-2 2v14c0 1.1.9 2 2 2h14c1.1 0 2-.9 2-2V5c0-1.1-.9-2-2-2zM9 17H7v-7h2v7zm4 0h-2V7h2v10zm4 0h-2v-4h2v4z\"/>\n",
              "    </g>\n",
              "</svg>\n",
              "  </button>\n",
              "\n",
              "<style>\n",
              "  .colab-df-quickchart {\n",
              "      --bg-color: #E8F0FE;\n",
              "      --fill-color: #1967D2;\n",
              "      --hover-bg-color: #E2EBFA;\n",
              "      --hover-fill-color: #174EA6;\n",
              "      --disabled-fill-color: #AAA;\n",
              "      --disabled-bg-color: #DDD;\n",
              "  }\n",
              "\n",
              "  [theme=dark] .colab-df-quickchart {\n",
              "      --bg-color: #3B4455;\n",
              "      --fill-color: #D2E3FC;\n",
              "      --hover-bg-color: #434B5C;\n",
              "      --hover-fill-color: #FFFFFF;\n",
              "      --disabled-bg-color: #3B4455;\n",
              "      --disabled-fill-color: #666;\n",
              "  }\n",
              "\n",
              "  .colab-df-quickchart {\n",
              "    background-color: var(--bg-color);\n",
              "    border: none;\n",
              "    border-radius: 50%;\n",
              "    cursor: pointer;\n",
              "    display: none;\n",
              "    fill: var(--fill-color);\n",
              "    height: 32px;\n",
              "    padding: 0;\n",
              "    width: 32px;\n",
              "  }\n",
              "\n",
              "  .colab-df-quickchart:hover {\n",
              "    background-color: var(--hover-bg-color);\n",
              "    box-shadow: 0 1px 2px rgba(60, 64, 67, 0.3), 0 1px 3px 1px rgba(60, 64, 67, 0.15);\n",
              "    fill: var(--button-hover-fill-color);\n",
              "  }\n",
              "\n",
              "  .colab-df-quickchart-complete:disabled,\n",
              "  .colab-df-quickchart-complete:disabled:hover {\n",
              "    background-color: var(--disabled-bg-color);\n",
              "    fill: var(--disabled-fill-color);\n",
              "    box-shadow: none;\n",
              "  }\n",
              "\n",
              "  .colab-df-spinner {\n",
              "    border: 2px solid var(--fill-color);\n",
              "    border-color: transparent;\n",
              "    border-bottom-color: var(--fill-color);\n",
              "    animation:\n",
              "      spin 1s steps(1) infinite;\n",
              "  }\n",
              "\n",
              "  @keyframes spin {\n",
              "    0% {\n",
              "      border-color: transparent;\n",
              "      border-bottom-color: var(--fill-color);\n",
              "      border-left-color: var(--fill-color);\n",
              "    }\n",
              "    20% {\n",
              "      border-color: transparent;\n",
              "      border-left-color: var(--fill-color);\n",
              "      border-top-color: var(--fill-color);\n",
              "    }\n",
              "    30% {\n",
              "      border-color: transparent;\n",
              "      border-left-color: var(--fill-color);\n",
              "      border-top-color: var(--fill-color);\n",
              "      border-right-color: var(--fill-color);\n",
              "    }\n",
              "    40% {\n",
              "      border-color: transparent;\n",
              "      border-right-color: var(--fill-color);\n",
              "      border-top-color: var(--fill-color);\n",
              "    }\n",
              "    60% {\n",
              "      border-color: transparent;\n",
              "      border-right-color: var(--fill-color);\n",
              "    }\n",
              "    80% {\n",
              "      border-color: transparent;\n",
              "      border-right-color: var(--fill-color);\n",
              "      border-bottom-color: var(--fill-color);\n",
              "    }\n",
              "    90% {\n",
              "      border-color: transparent;\n",
              "      border-bottom-color: var(--fill-color);\n",
              "    }\n",
              "  }\n",
              "</style>\n",
              "\n",
              "  <script>\n",
              "    async function quickchart(key) {\n",
              "      const quickchartButtonEl =\n",
              "        document.querySelector('#' + key + ' button');\n",
              "      quickchartButtonEl.disabled = true;  // To prevent multiple clicks.\n",
              "      quickchartButtonEl.classList.add('colab-df-spinner');\n",
              "      try {\n",
              "        const charts = await google.colab.kernel.invokeFunction(\n",
              "            'suggestCharts', [key], {});\n",
              "      } catch (error) {\n",
              "        console.error('Error during call to suggestCharts:', error);\n",
              "      }\n",
              "      quickchartButtonEl.classList.remove('colab-df-spinner');\n",
              "      quickchartButtonEl.classList.add('colab-df-quickchart-complete');\n",
              "    }\n",
              "    (() => {\n",
              "      let quickchartButtonEl =\n",
              "        document.querySelector('#df-880213d1-09ab-43d8-b345-d5e8d9b031f0 button');\n",
              "      quickchartButtonEl.style.display =\n",
              "        google.colab.kernel.accessAllowed ? 'block' : 'none';\n",
              "    })();\n",
              "  </script>\n",
              "</div>\n",
              "    </div>\n",
              "  </div>\n"
            ]
          },
          "metadata": {},
          "execution_count": 6
        }
      ]
    },
    {
      "cell_type": "code",
      "source": [
        "df.columns"
      ],
      "metadata": {
        "colab": {
          "base_uri": "https://localhost:8080/"
        },
        "id": "0XH6cc4z6xi2",
        "outputId": "bd7ccb4a-4ff3-48d5-afd5-dfcc7cec4e3d"
      },
      "execution_count": 12,
      "outputs": [
        {
          "output_type": "execute_result",
          "data": {
            "text/plain": [
              "Index(['370.0', '372.4161073825503', '374.8322147651007', '377.248322147651',\n",
              "       '379.66442953020135', '382.08053691275165', '384.496644295302',\n",
              "       '386.9127516778523', '389.3288590604027', '391.744966442953',\n",
              "       ...\n",
              "       '708.255033557047', '710.6711409395973', '713.0872483221476',\n",
              "       '715.5033557046979', '717.9194630872483', '720.3355704697987',\n",
              "       '722.7516778523491', '725.1677852348994', '727.5838926174497', '730.0'],\n",
              "      dtype='object', length=150)"
            ]
          },
          "metadata": {},
          "execution_count": 12
        }
      ]
    },
    {
      "cell_type": "markdown",
      "source": [
        "**Опишите ваши данные.**\n",
        "\n",
        "Сколько в нем объектов: **80**\n",
        "\n",
        "Сколько признаков: **150**\n",
        "\n",
        "В каких диапазонах изменяются признаки: **от 0 до 2**\n",
        "\n",
        "Есть ли в данных целевой признак: **нет**"
      ],
      "metadata": {
        "id": "JTCAhT3AKPOo"
      }
    },
    {
      "cell_type": "markdown",
      "source": [
        "## Кластеризация\n",
        "\n",
        "Когда решалась задача классификации с помощью алгоритма knn в наших данных был целевой признак, по которому можно было определить количество классов. При решении задачи кластеризации мы заранее не имеем информации, по которой мы можем задать количество кластеров, поэтому пока при создании экземпляра объекта выберите количество кластеров до 20. Не забудьте задать `random_state`."
      ],
      "metadata": {
        "id": "zKEo_esKTFgt"
      }
    },
    {
      "cell_type": "code",
      "source": [
        "# Импортируйте класс из соответствующего модуля библиотеки sklearn\n",
        "from sklearn.cluster import KMeans\n",
        "\n",
        "# n_init - Сколько раз алгоритм k-средних запускается с разными начальными значениями центроида.\n",
        "kmeans = KMeans(init='k-means++',\n",
        "                n_init=10,\n",
        "                n_clusters=5,\n",
        "                max_iter=300,\n",
        "                random_state=42,\n",
        "                )\n",
        "kmeans.fit(df)"
      ],
      "metadata": {
        "id": "-yLXn0FEvqO7",
        "colab": {
          "base_uri": "https://localhost:8080/",
          "height": 74
        },
        "outputId": "b1d4c15f-7f0f-41dc-eda3-2b3ded871acd"
      },
      "execution_count": 16,
      "outputs": [
        {
          "output_type": "execute_result",
          "data": {
            "text/plain": [
              "KMeans(n_clusters=5, n_init=10, random_state=42)"
            ],
            "text/html": [
              "<style>#sk-container-id-3 {color: black;background-color: white;}#sk-container-id-3 pre{padding: 0;}#sk-container-id-3 div.sk-toggleable {background-color: white;}#sk-container-id-3 label.sk-toggleable__label {cursor: pointer;display: block;width: 100%;margin-bottom: 0;padding: 0.3em;box-sizing: border-box;text-align: center;}#sk-container-id-3 label.sk-toggleable__label-arrow:before {content: \"▸\";float: left;margin-right: 0.25em;color: #696969;}#sk-container-id-3 label.sk-toggleable__label-arrow:hover:before {color: black;}#sk-container-id-3 div.sk-estimator:hover label.sk-toggleable__label-arrow:before {color: black;}#sk-container-id-3 div.sk-toggleable__content {max-height: 0;max-width: 0;overflow: hidden;text-align: left;background-color: #f0f8ff;}#sk-container-id-3 div.sk-toggleable__content pre {margin: 0.2em;color: black;border-radius: 0.25em;background-color: #f0f8ff;}#sk-container-id-3 input.sk-toggleable__control:checked~div.sk-toggleable__content {max-height: 200px;max-width: 100%;overflow: auto;}#sk-container-id-3 input.sk-toggleable__control:checked~label.sk-toggleable__label-arrow:before {content: \"▾\";}#sk-container-id-3 div.sk-estimator input.sk-toggleable__control:checked~label.sk-toggleable__label {background-color: #d4ebff;}#sk-container-id-3 div.sk-label input.sk-toggleable__control:checked~label.sk-toggleable__label {background-color: #d4ebff;}#sk-container-id-3 input.sk-hidden--visually {border: 0;clip: rect(1px 1px 1px 1px);clip: rect(1px, 1px, 1px, 1px);height: 1px;margin: -1px;overflow: hidden;padding: 0;position: absolute;width: 1px;}#sk-container-id-3 div.sk-estimator {font-family: monospace;background-color: #f0f8ff;border: 1px dotted black;border-radius: 0.25em;box-sizing: border-box;margin-bottom: 0.5em;}#sk-container-id-3 div.sk-estimator:hover {background-color: #d4ebff;}#sk-container-id-3 div.sk-parallel-item::after {content: \"\";width: 100%;border-bottom: 1px solid gray;flex-grow: 1;}#sk-container-id-3 div.sk-label:hover label.sk-toggleable__label {background-color: #d4ebff;}#sk-container-id-3 div.sk-serial::before {content: \"\";position: absolute;border-left: 1px solid gray;box-sizing: border-box;top: 0;bottom: 0;left: 50%;z-index: 0;}#sk-container-id-3 div.sk-serial {display: flex;flex-direction: column;align-items: center;background-color: white;padding-right: 0.2em;padding-left: 0.2em;position: relative;}#sk-container-id-3 div.sk-item {position: relative;z-index: 1;}#sk-container-id-3 div.sk-parallel {display: flex;align-items: stretch;justify-content: center;background-color: white;position: relative;}#sk-container-id-3 div.sk-item::before, #sk-container-id-3 div.sk-parallel-item::before {content: \"\";position: absolute;border-left: 1px solid gray;box-sizing: border-box;top: 0;bottom: 0;left: 50%;z-index: -1;}#sk-container-id-3 div.sk-parallel-item {display: flex;flex-direction: column;z-index: 1;position: relative;background-color: white;}#sk-container-id-3 div.sk-parallel-item:first-child::after {align-self: flex-end;width: 50%;}#sk-container-id-3 div.sk-parallel-item:last-child::after {align-self: flex-start;width: 50%;}#sk-container-id-3 div.sk-parallel-item:only-child::after {width: 0;}#sk-container-id-3 div.sk-dashed-wrapped {border: 1px dashed gray;margin: 0 0.4em 0.5em 0.4em;box-sizing: border-box;padding-bottom: 0.4em;background-color: white;}#sk-container-id-3 div.sk-label label {font-family: monospace;font-weight: bold;display: inline-block;line-height: 1.2em;}#sk-container-id-3 div.sk-label-container {text-align: center;}#sk-container-id-3 div.sk-container {/* jupyter's `normalize.less` sets `[hidden] { display: none; }` but bootstrap.min.css set `[hidden] { display: none !important; }` so we also need the `!important` here to be able to override the default hidden behavior on the sphinx rendered scikit-learn.org. See: https://github.com/scikit-learn/scikit-learn/issues/21755 */display: inline-block !important;position: relative;}#sk-container-id-3 div.sk-text-repr-fallback {display: none;}</style><div id=\"sk-container-id-3\" class=\"sk-top-container\"><div class=\"sk-text-repr-fallback\"><pre>KMeans(n_clusters=5, n_init=10, random_state=42)</pre><b>In a Jupyter environment, please rerun this cell to show the HTML representation or trust the notebook. <br />On GitHub, the HTML representation is unable to render, please try loading this page with nbviewer.org.</b></div><div class=\"sk-container\" hidden><div class=\"sk-item\"><div class=\"sk-estimator sk-toggleable\"><input class=\"sk-toggleable__control sk-hidden--visually\" id=\"sk-estimator-id-3\" type=\"checkbox\" checked><label for=\"sk-estimator-id-3\" class=\"sk-toggleable__label sk-toggleable__label-arrow\">KMeans</label><div class=\"sk-toggleable__content\"><pre>KMeans(n_clusters=5, n_init=10, random_state=42)</pre></div></div></div></div></div>"
            ]
          },
          "metadata": {},
          "execution_count": 16
        }
      ]
    },
    {
      "cell_type": "markdown",
      "source": [
        "Опишите своими словами за что отвечают параметры:\n",
        "\n",
        "**n_clusters** - Число кластеров. Устанавливает k для шага кластеризации.\n",
        "\n",
        "**init** - Контролирует технику инициализации центроидов. «k-means++» инициализирует центроиды удаленными друг от друга, что, вероятно, приводит к лучшим результатам, чем случайная инициализация «random», этот метод ускоряет сходимость.\n",
        "\n",
        "**n_init** - Устанавливает количество выполняемых инициализаций, т. е. сколько раз алгоритм k-средних запускается с разными начальными значениями центроида.\n",
        "\n",
        "**max_iter** - Задает количество максимальных итераций для каждой инициализации алгоритма k-средних.\n",
        "\n",
        "**random_state** - Определяет генерацию случайных чисел для инициализации центроида."
      ],
      "metadata": {
        "id": "GcCwY1EDutnw"
      }
    },
    {
      "cell_type": "markdown",
      "source": [
        "После выполнения метода `.fit()` у экземпляра оценщика (estimator) доступны атрибуты `labels_` и `inertia_`.\n",
        "\n",
        "`labels_` - массив с указаниями индексов кластеров для всех ваших объектов.\n",
        "\n",
        "Используя `labels_`, посчитайте сколько объектов относится к каждому кластеру.\n",
        "\n",
        "**Сколько объектов относится к каждому кластеру?**   \n",
        "**Ваш ответ**:   \n",
        "0 кластер: 9 объектов   \n",
        "1 кластер: 24 объектов   \n",
        "2 кластер: 18 объектов   \n",
        "3 кластер: 16 объектов   \n",
        "4 кластер: 13 объектов   "
      ],
      "metadata": {
        "id": "X0ow84xdwgPZ"
      }
    },
    {
      "cell_type": "code",
      "source": [
        "kmeans.labels_"
      ],
      "metadata": {
        "colab": {
          "base_uri": "https://localhost:8080/"
        },
        "id": "-g8bE-a8LCXx",
        "outputId": "09ef789e-9a40-4da6-ebb5-8b09dd007e92"
      },
      "execution_count": 20,
      "outputs": [
        {
          "output_type": "execute_result",
          "data": {
            "text/plain": [
              "array([2, 2, 2, 2, 2, 2, 2, 2, 2, 2, 2, 2, 2, 2, 2, 2, 2, 2, 4, 0, 4, 4,\n",
              "       0, 4, 4, 4, 4, 0, 0, 0, 4, 0, 4, 0, 4, 0, 4, 4, 0, 4, 3, 3, 3, 3,\n",
              "       3, 3, 3, 3, 3, 3, 3, 3, 3, 3, 3, 3, 1, 1, 1, 1, 1, 1, 1, 1, 1, 1,\n",
              "       1, 1, 1, 1, 1, 1, 1, 1, 1, 1, 1, 1, 1, 1], dtype=int32)"
            ]
          },
          "metadata": {},
          "execution_count": 20
        }
      ]
    },
    {
      "cell_type": "code",
      "source": [
        "# Получаем метки кластеров\n",
        "labels = kmeans.labels_\n",
        "\n",
        "# Подсчитываем количество объектов в каждом кластере\n",
        "unique, counts = np.unique(labels, return_counts=True)\n",
        "cluster_counts = dict(zip(unique, counts))\n",
        "\n",
        "print(\"Количество объектов в каждом кластере:\", cluster_counts)"
      ],
      "metadata": {
        "id": "NolIsyNvTFN6",
        "colab": {
          "base_uri": "https://localhost:8080/"
        },
        "outputId": "9c7da888-d4c8-4729-efde-918f4f494c84"
      },
      "execution_count": 19,
      "outputs": [
        {
          "output_type": "stream",
          "name": "stdout",
          "text": [
            "Количество объектов в каждом кластере: {0: 9, 1: 24, 2: 18, 3: 16, 4: 13}\n"
          ]
        }
      ]
    },
    {
      "cell_type": "markdown",
      "source": [
        "`inertia_` для KMeans это SSD (Sum of squared distances - сумма квадратов расстояний) или по-другому это еще называют SSE (Sum of Squares Error - сумма квадратов ошибки.)\n",
        "\n",
        "Если SSD это сумма квадратов расстояний, то между чем и чем рассчитываются расстояния?\n",
        "\n",
        "**Ваш ответ**: Сумма квадратов расстояний рассчитывается от каждой точки данных до центра своего кластера."
      ],
      "metadata": {
        "id": "6NdghOmavAT9"
      }
    },
    {
      "cell_type": "code",
      "source": [
        "inertia_value = kmeans.inertia_\n",
        "\n",
        "print(\"Сумма квадратов расстояний (inertia):\", inertia_value)"
      ],
      "metadata": {
        "id": "OXhdtpWyyxZm",
        "colab": {
          "base_uri": "https://localhost:8080/"
        },
        "outputId": "3838e1d4-e435-4b26-eead-9547f41c3788"
      },
      "execution_count": 23,
      "outputs": [
        {
          "output_type": "stream",
          "name": "stdout",
          "text": [
            "Сумма квадратов расстояний (inertia): 91.7903510712222\n"
          ]
        }
      ]
    },
    {
      "cell_type": "markdown",
      "source": [
        "## Подбор количества кластеров\n",
        "\n",
        "Для подбора оптимального количества кластеров мы воспользуемся графическим методом - \"методом локтя\" (Elbow Method). Для этого мы создаем множество моделей с разным количеством кластеров, \"подгоняем\" (fit) их и оцениваем SSD.\n",
        "\n",
        "Гипотеза, которая позволяет использовать данный метод, заключается в том, что центройд является прототипом кластера, а следовательно объекты должны кучнее располагаться к нему, поэтому сумма квадратов расстояний должна быть меньше."
      ],
      "metadata": {
        "id": "jZplkwjfzHqy"
      }
    },
    {
      "cell_type": "markdown",
      "source": [
        "**А в каком случае для k средних (KMeans) оцениваемые расстояния равны 0?**\n",
        "\n",
        "**Ваш ответ:** Оцениваемые расстояния становятся равными 0 в том случае, если центры кластеров совпадают с точками данных, либо количество кластеров равно количеству объектов."
      ],
      "metadata": {
        "id": "-m-FcGqp10GP"
      }
    },
    {
      "cell_type": "markdown",
      "source": [
        "Теперь ваша задача в цикле создать n моделей и записать их критерий (сумму квадратов расстояний) в словарь (dict)."
      ],
      "metadata": {
        "id": "IwIrfhTZ2-Oa"
      }
    },
    {
      "cell_type": "code",
      "source": [
        "SSE = {}\n",
        "\n",
        "kmeans_kwargs = {\n",
        "    'init': 'k-means++',\n",
        "    'n_init': 10,\n",
        "    'max_iter': 300,\n",
        "    'random_state': 42,\n",
        "}\n",
        "\n",
        "for k in np.arange(2, 21):  # # Ваш код: в arange укажите в качестве начального значения 2, а конечного число до 20.\n",
        "  cluster = KMeans(n_clusters=k, **kmeans_kwargs)\n",
        "  cluster.fit(df)\n",
        "  SSE[k] = cluster.inertia_"
      ],
      "metadata": {
        "id": "DokyYVLu3V15"
      },
      "execution_count": 43,
      "outputs": []
    },
    {
      "cell_type": "markdown",
      "source": [
        "Построим график для оценки, где по оси абсцисс указано количество кластеров, а по оси ординат указано значение, которое описывает сумму квадратов расстояний."
      ],
      "metadata": {
        "id": "LE1kJen_4nH7"
      }
    },
    {
      "cell_type": "code",
      "source": [
        "plt.figure(figsize=(9, 5))\n",
        "\n",
        "lists = SSE.items()\n",
        "x, y = zip(*lists)\n",
        "plt.plot(x, y)\n",
        "\n",
        "plt.xticks(range(2, 21))\n",
        "plt.xlabel(\"Number of Clusters\")\n",
        "plt.ylabel(\"SSE\")\n",
        "plt.show()"
      ],
      "metadata": {
        "id": "1p1fIui34gvg",
        "colab": {
          "base_uri": "https://localhost:8080/",
          "height": 479
        },
        "outputId": "b13e7592-922b-43be-f982-b9e1fe43fce9"
      },
      "execution_count": 44,
      "outputs": [
        {
          "output_type": "display_data",
          "data": {
            "text/plain": [
              "<Figure size 900x500 with 1 Axes>"
            ],
            "image/svg+xml": "<?xml version=\"1.0\" encoding=\"utf-8\" standalone=\"no\"?>\n<!DOCTYPE svg PUBLIC \"-//W3C//DTD SVG 1.1//EN\"\n  \"http://www.w3.org/Graphics/SVG/1.1/DTD/svg11.dtd\">\n<svg xmlns:xlink=\"http://www.w3.org/1999/xlink\" width=\"637.54925pt\" height=\"343.308625pt\" viewBox=\"0 0 637.54925 343.308625\" xmlns=\"http://www.w3.org/2000/svg\" version=\"1.1\">\n <metadata>\n  <rdf:RDF xmlns:dc=\"http://purl.org/dc/elements/1.1/\" xmlns:cc=\"http://creativecommons.org/ns#\" xmlns:rdf=\"http://www.w3.org/1999/02/22-rdf-syntax-ns#\">\n   <cc:Work>\n    <dc:type rdf:resource=\"http://purl.org/dc/dcmitype/StillImage\"/>\n    <dc:date>2023-11-20T15:20:05.770166</dc:date>\n    <dc:format>image/svg+xml</dc:format>\n    <dc:creator>\n     <cc:Agent>\n      <dc:title>Matplotlib v3.7.1, https://matplotlib.org/</dc:title>\n     </cc:Agent>\n    </dc:creator>\n   </cc:Work>\n  </rdf:RDF>\n </metadata>\n <defs>\n  <style type=\"text/css\">*{stroke-linejoin: round; stroke-linecap: butt}</style>\n </defs>\n <g id=\"figure_1\">\n  <g id=\"patch_1\">\n   <path d=\"M 0 343.308625 \nL 637.54925 343.308625 \nL 637.54925 0 \nL 0 0 \nz\n\" style=\"fill: #f0f0f0\"/>\n  </g>\n  <g id=\"axes_1\">\n   <g id=\"patch_2\">\n    <path d=\"M 66.58925 298.8 \nL 630.34925 298.8 \nL 630.34925 7.2 \nL 66.58925 7.2 \nz\n\" style=\"fill: #f0f0f0\"/>\n   </g>\n   <g id=\"matplotlib.axis_1\">\n    <g id=\"xtick_1\">\n     <g id=\"line2d_1\">\n      <path d=\"M 92.214705 298.8 \nL 92.214705 7.2 \n\" clip-path=\"url(#pe927f06def)\" style=\"fill: none; stroke: #cbcbcb\"/>\n     </g>\n     <g id=\"line2d_2\"/>\n     <g id=\"text_1\">\n      <!-- 2 -->\n      <g transform=\"translate(87.760955 312.937813) scale(0.14 -0.14)\">\n       <defs>\n        <path id=\"DejaVuSans-32\" d=\"M 1228 531 \nL 3431 531 \nL 3431 0 \nL 469 0 \nL 469 531 \nQ 828 903 1448 1529 \nQ 2069 2156 2228 2338 \nQ 2531 2678 2651 2914 \nQ 2772 3150 2772 3378 \nQ 2772 3750 2511 3984 \nQ 2250 4219 1831 4219 \nQ 1534 4219 1204 4116 \nQ 875 4013 500 3803 \nL 500 4441 \nQ 881 4594 1212 4672 \nQ 1544 4750 1819 4750 \nQ 2544 4750 2975 4387 \nQ 3406 4025 3406 3419 \nQ 3406 3131 3298 2873 \nQ 3191 2616 2906 2266 \nQ 2828 2175 2409 1742 \nQ 1991 1309 1228 531 \nz\n\" transform=\"scale(0.015625)\"/>\n       </defs>\n       <use xlink:href=\"#DejaVuSans-32\"/>\n      </g>\n     </g>\n    </g>\n    <g id=\"xtick_2\">\n     <g id=\"line2d_3\">\n      <path d=\"M 120.687432 298.8 \nL 120.687432 7.2 \n\" clip-path=\"url(#pe927f06def)\" style=\"fill: none; stroke: #cbcbcb\"/>\n     </g>\n     <g id=\"line2d_4\"/>\n     <g id=\"text_2\">\n      <!-- 3 -->\n      <g transform=\"translate(116.233682 312.937813) scale(0.14 -0.14)\">\n       <defs>\n        <path id=\"DejaVuSans-33\" d=\"M 2597 2516 \nQ 3050 2419 3304 2112 \nQ 3559 1806 3559 1356 \nQ 3559 666 3084 287 \nQ 2609 -91 1734 -91 \nQ 1441 -91 1130 -33 \nQ 819 25 488 141 \nL 488 750 \nQ 750 597 1062 519 \nQ 1375 441 1716 441 \nQ 2309 441 2620 675 \nQ 2931 909 2931 1356 \nQ 2931 1769 2642 2001 \nQ 2353 2234 1838 2234 \nL 1294 2234 \nL 1294 2753 \nL 1863 2753 \nQ 2328 2753 2575 2939 \nQ 2822 3125 2822 3475 \nQ 2822 3834 2567 4026 \nQ 2313 4219 1838 4219 \nQ 1578 4219 1281 4162 \nQ 984 4106 628 3988 \nL 628 4550 \nQ 988 4650 1302 4700 \nQ 1616 4750 1894 4750 \nQ 2613 4750 3031 4423 \nQ 3450 4097 3450 3541 \nQ 3450 3153 3228 2886 \nQ 3006 2619 2597 2516 \nz\n\" transform=\"scale(0.015625)\"/>\n       </defs>\n       <use xlink:href=\"#DejaVuSans-33\"/>\n      </g>\n     </g>\n    </g>\n    <g id=\"xtick_3\">\n     <g id=\"line2d_5\">\n      <path d=\"M 149.160159 298.8 \nL 149.160159 7.2 \n\" clip-path=\"url(#pe927f06def)\" style=\"fill: none; stroke: #cbcbcb\"/>\n     </g>\n     <g id=\"line2d_6\"/>\n     <g id=\"text_3\">\n      <!-- 4 -->\n      <g transform=\"translate(144.706409 312.937813) scale(0.14 -0.14)\">\n       <defs>\n        <path id=\"DejaVuSans-34\" d=\"M 2419 4116 \nL 825 1625 \nL 2419 1625 \nL 2419 4116 \nz\nM 2253 4666 \nL 3047 4666 \nL 3047 1625 \nL 3713 1625 \nL 3713 1100 \nL 3047 1100 \nL 3047 0 \nL 2419 0 \nL 2419 1100 \nL 313 1100 \nL 313 1709 \nL 2253 4666 \nz\n\" transform=\"scale(0.015625)\"/>\n       </defs>\n       <use xlink:href=\"#DejaVuSans-34\"/>\n      </g>\n     </g>\n    </g>\n    <g id=\"xtick_4\">\n     <g id=\"line2d_7\">\n      <path d=\"M 177.632886 298.8 \nL 177.632886 7.2 \n\" clip-path=\"url(#pe927f06def)\" style=\"fill: none; stroke: #cbcbcb\"/>\n     </g>\n     <g id=\"line2d_8\"/>\n     <g id=\"text_4\">\n      <!-- 5 -->\n      <g transform=\"translate(173.179136 312.937813) scale(0.14 -0.14)\">\n       <defs>\n        <path id=\"DejaVuSans-35\" d=\"M 691 4666 \nL 3169 4666 \nL 3169 4134 \nL 1269 4134 \nL 1269 2991 \nQ 1406 3038 1543 3061 \nQ 1681 3084 1819 3084 \nQ 2600 3084 3056 2656 \nQ 3513 2228 3513 1497 \nQ 3513 744 3044 326 \nQ 2575 -91 1722 -91 \nQ 1428 -91 1123 -41 \nQ 819 9 494 109 \nL 494 744 \nQ 775 591 1075 516 \nQ 1375 441 1709 441 \nQ 2250 441 2565 725 \nQ 2881 1009 2881 1497 \nQ 2881 1984 2565 2268 \nQ 2250 2553 1709 2553 \nQ 1456 2553 1204 2497 \nQ 953 2441 691 2322 \nL 691 4666 \nz\n\" transform=\"scale(0.015625)\"/>\n       </defs>\n       <use xlink:href=\"#DejaVuSans-35\"/>\n      </g>\n     </g>\n    </g>\n    <g id=\"xtick_5\">\n     <g id=\"line2d_9\">\n      <path d=\"M 206.105614 298.8 \nL 206.105614 7.2 \n\" clip-path=\"url(#pe927f06def)\" style=\"fill: none; stroke: #cbcbcb\"/>\n     </g>\n     <g id=\"line2d_10\"/>\n     <g id=\"text_5\">\n      <!-- 6 -->\n      <g transform=\"translate(201.651864 312.937813) scale(0.14 -0.14)\">\n       <defs>\n        <path id=\"DejaVuSans-36\" d=\"M 2113 2584 \nQ 1688 2584 1439 2293 \nQ 1191 2003 1191 1497 \nQ 1191 994 1439 701 \nQ 1688 409 2113 409 \nQ 2538 409 2786 701 \nQ 3034 994 3034 1497 \nQ 3034 2003 2786 2293 \nQ 2538 2584 2113 2584 \nz\nM 3366 4563 \nL 3366 3988 \nQ 3128 4100 2886 4159 \nQ 2644 4219 2406 4219 \nQ 1781 4219 1451 3797 \nQ 1122 3375 1075 2522 \nQ 1259 2794 1537 2939 \nQ 1816 3084 2150 3084 \nQ 2853 3084 3261 2657 \nQ 3669 2231 3669 1497 \nQ 3669 778 3244 343 \nQ 2819 -91 2113 -91 \nQ 1303 -91 875 529 \nQ 447 1150 447 2328 \nQ 447 3434 972 4092 \nQ 1497 4750 2381 4750 \nQ 2619 4750 2861 4703 \nQ 3103 4656 3366 4563 \nz\n\" transform=\"scale(0.015625)\"/>\n       </defs>\n       <use xlink:href=\"#DejaVuSans-36\"/>\n      </g>\n     </g>\n    </g>\n    <g id=\"xtick_6\">\n     <g id=\"line2d_11\">\n      <path d=\"M 234.578341 298.8 \nL 234.578341 7.2 \n\" clip-path=\"url(#pe927f06def)\" style=\"fill: none; stroke: #cbcbcb\"/>\n     </g>\n     <g id=\"line2d_12\"/>\n     <g id=\"text_6\">\n      <!-- 7 -->\n      <g transform=\"translate(230.124591 312.937813) scale(0.14 -0.14)\">\n       <defs>\n        <path id=\"DejaVuSans-37\" d=\"M 525 4666 \nL 3525 4666 \nL 3525 4397 \nL 1831 0 \nL 1172 0 \nL 2766 4134 \nL 525 4134 \nL 525 4666 \nz\n\" transform=\"scale(0.015625)\"/>\n       </defs>\n       <use xlink:href=\"#DejaVuSans-37\"/>\n      </g>\n     </g>\n    </g>\n    <g id=\"xtick_7\">\n     <g id=\"line2d_13\">\n      <path d=\"M 263.051068 298.8 \nL 263.051068 7.2 \n\" clip-path=\"url(#pe927f06def)\" style=\"fill: none; stroke: #cbcbcb\"/>\n     </g>\n     <g id=\"line2d_14\"/>\n     <g id=\"text_7\">\n      <!-- 8 -->\n      <g transform=\"translate(258.597318 312.937813) scale(0.14 -0.14)\">\n       <defs>\n        <path id=\"DejaVuSans-38\" d=\"M 2034 2216 \nQ 1584 2216 1326 1975 \nQ 1069 1734 1069 1313 \nQ 1069 891 1326 650 \nQ 1584 409 2034 409 \nQ 2484 409 2743 651 \nQ 3003 894 3003 1313 \nQ 3003 1734 2745 1975 \nQ 2488 2216 2034 2216 \nz\nM 1403 2484 \nQ 997 2584 770 2862 \nQ 544 3141 544 3541 \nQ 544 4100 942 4425 \nQ 1341 4750 2034 4750 \nQ 2731 4750 3128 4425 \nQ 3525 4100 3525 3541 \nQ 3525 3141 3298 2862 \nQ 3072 2584 2669 2484 \nQ 3125 2378 3379 2068 \nQ 3634 1759 3634 1313 \nQ 3634 634 3220 271 \nQ 2806 -91 2034 -91 \nQ 1263 -91 848 271 \nQ 434 634 434 1313 \nQ 434 1759 690 2068 \nQ 947 2378 1403 2484 \nz\nM 1172 3481 \nQ 1172 3119 1398 2916 \nQ 1625 2713 2034 2713 \nQ 2441 2713 2670 2916 \nQ 2900 3119 2900 3481 \nQ 2900 3844 2670 4047 \nQ 2441 4250 2034 4250 \nQ 1625 4250 1398 4047 \nQ 1172 3844 1172 3481 \nz\n\" transform=\"scale(0.015625)\"/>\n       </defs>\n       <use xlink:href=\"#DejaVuSans-38\"/>\n      </g>\n     </g>\n    </g>\n    <g id=\"xtick_8\">\n     <g id=\"line2d_15\">\n      <path d=\"M 291.523795 298.8 \nL 291.523795 7.2 \n\" clip-path=\"url(#pe927f06def)\" style=\"fill: none; stroke: #cbcbcb\"/>\n     </g>\n     <g id=\"line2d_16\"/>\n     <g id=\"text_8\">\n      <!-- 9 -->\n      <g transform=\"translate(287.070045 312.937813) scale(0.14 -0.14)\">\n       <defs>\n        <path id=\"DejaVuSans-39\" d=\"M 703 97 \nL 703 672 \nQ 941 559 1184 500 \nQ 1428 441 1663 441 \nQ 2288 441 2617 861 \nQ 2947 1281 2994 2138 \nQ 2813 1869 2534 1725 \nQ 2256 1581 1919 1581 \nQ 1219 1581 811 2004 \nQ 403 2428 403 3163 \nQ 403 3881 828 4315 \nQ 1253 4750 1959 4750 \nQ 2769 4750 3195 4129 \nQ 3622 3509 3622 2328 \nQ 3622 1225 3098 567 \nQ 2575 -91 1691 -91 \nQ 1453 -91 1209 -44 \nQ 966 3 703 97 \nz\nM 1959 2075 \nQ 2384 2075 2632 2365 \nQ 2881 2656 2881 3163 \nQ 2881 3666 2632 3958 \nQ 2384 4250 1959 4250 \nQ 1534 4250 1286 3958 \nQ 1038 3666 1038 3163 \nQ 1038 2656 1286 2365 \nQ 1534 2075 1959 2075 \nz\n\" transform=\"scale(0.015625)\"/>\n       </defs>\n       <use xlink:href=\"#DejaVuSans-39\"/>\n      </g>\n     </g>\n    </g>\n    <g id=\"xtick_9\">\n     <g id=\"line2d_17\">\n      <path d=\"M 319.996523 298.8 \nL 319.996523 7.2 \n\" clip-path=\"url(#pe927f06def)\" style=\"fill: none; stroke: #cbcbcb\"/>\n     </g>\n     <g id=\"line2d_18\"/>\n     <g id=\"text_9\">\n      <!-- 10 -->\n      <g transform=\"translate(311.089023 312.937813) scale(0.14 -0.14)\">\n       <defs>\n        <path id=\"DejaVuSans-31\" d=\"M 794 531 \nL 1825 531 \nL 1825 4091 \nL 703 3866 \nL 703 4441 \nL 1819 4666 \nL 2450 4666 \nL 2450 531 \nL 3481 531 \nL 3481 0 \nL 794 0 \nL 794 531 \nz\n\" transform=\"scale(0.015625)\"/>\n        <path id=\"DejaVuSans-30\" d=\"M 2034 4250 \nQ 1547 4250 1301 3770 \nQ 1056 3291 1056 2328 \nQ 1056 1369 1301 889 \nQ 1547 409 2034 409 \nQ 2525 409 2770 889 \nQ 3016 1369 3016 2328 \nQ 3016 3291 2770 3770 \nQ 2525 4250 2034 4250 \nz\nM 2034 4750 \nQ 2819 4750 3233 4129 \nQ 3647 3509 3647 2328 \nQ 3647 1150 3233 529 \nQ 2819 -91 2034 -91 \nQ 1250 -91 836 529 \nQ 422 1150 422 2328 \nQ 422 3509 836 4129 \nQ 1250 4750 2034 4750 \nz\n\" transform=\"scale(0.015625)\"/>\n       </defs>\n       <use xlink:href=\"#DejaVuSans-31\"/>\n       <use xlink:href=\"#DejaVuSans-30\" x=\"63.623047\"/>\n      </g>\n     </g>\n    </g>\n    <g id=\"xtick_10\">\n     <g id=\"line2d_19\">\n      <path d=\"M 348.46925 298.8 \nL 348.46925 7.2 \n\" clip-path=\"url(#pe927f06def)\" style=\"fill: none; stroke: #cbcbcb\"/>\n     </g>\n     <g id=\"line2d_20\"/>\n     <g id=\"text_10\">\n      <!-- 11 -->\n      <g transform=\"translate(339.56175 312.937813) scale(0.14 -0.14)\">\n       <use xlink:href=\"#DejaVuSans-31\"/>\n       <use xlink:href=\"#DejaVuSans-31\" x=\"63.623047\"/>\n      </g>\n     </g>\n    </g>\n    <g id=\"xtick_11\">\n     <g id=\"line2d_21\">\n      <path d=\"M 376.941977 298.8 \nL 376.941977 7.2 \n\" clip-path=\"url(#pe927f06def)\" style=\"fill: none; stroke: #cbcbcb\"/>\n     </g>\n     <g id=\"line2d_22\"/>\n     <g id=\"text_11\">\n      <!-- 12 -->\n      <g transform=\"translate(368.034477 312.937813) scale(0.14 -0.14)\">\n       <use xlink:href=\"#DejaVuSans-31\"/>\n       <use xlink:href=\"#DejaVuSans-32\" x=\"63.623047\"/>\n      </g>\n     </g>\n    </g>\n    <g id=\"xtick_12\">\n     <g id=\"line2d_23\">\n      <path d=\"M 405.414705 298.8 \nL 405.414705 7.2 \n\" clip-path=\"url(#pe927f06def)\" style=\"fill: none; stroke: #cbcbcb\"/>\n     </g>\n     <g id=\"line2d_24\"/>\n     <g id=\"text_12\">\n      <!-- 13 -->\n      <g transform=\"translate(396.507205 312.937813) scale(0.14 -0.14)\">\n       <use xlink:href=\"#DejaVuSans-31\"/>\n       <use xlink:href=\"#DejaVuSans-33\" x=\"63.623047\"/>\n      </g>\n     </g>\n    </g>\n    <g id=\"xtick_13\">\n     <g id=\"line2d_25\">\n      <path d=\"M 433.887432 298.8 \nL 433.887432 7.2 \n\" clip-path=\"url(#pe927f06def)\" style=\"fill: none; stroke: #cbcbcb\"/>\n     </g>\n     <g id=\"line2d_26\"/>\n     <g id=\"text_13\">\n      <!-- 14 -->\n      <g transform=\"translate(424.979932 312.937813) scale(0.14 -0.14)\">\n       <use xlink:href=\"#DejaVuSans-31\"/>\n       <use xlink:href=\"#DejaVuSans-34\" x=\"63.623047\"/>\n      </g>\n     </g>\n    </g>\n    <g id=\"xtick_14\">\n     <g id=\"line2d_27\">\n      <path d=\"M 462.360159 298.8 \nL 462.360159 7.2 \n\" clip-path=\"url(#pe927f06def)\" style=\"fill: none; stroke: #cbcbcb\"/>\n     </g>\n     <g id=\"line2d_28\"/>\n     <g id=\"text_14\">\n      <!-- 15 -->\n      <g transform=\"translate(453.452659 312.937813) scale(0.14 -0.14)\">\n       <use xlink:href=\"#DejaVuSans-31\"/>\n       <use xlink:href=\"#DejaVuSans-35\" x=\"63.623047\"/>\n      </g>\n     </g>\n    </g>\n    <g id=\"xtick_15\">\n     <g id=\"line2d_29\">\n      <path d=\"M 490.832886 298.8 \nL 490.832886 7.2 \n\" clip-path=\"url(#pe927f06def)\" style=\"fill: none; stroke: #cbcbcb\"/>\n     </g>\n     <g id=\"line2d_30\"/>\n     <g id=\"text_15\">\n      <!-- 16 -->\n      <g transform=\"translate(481.925386 312.937813) scale(0.14 -0.14)\">\n       <use xlink:href=\"#DejaVuSans-31\"/>\n       <use xlink:href=\"#DejaVuSans-36\" x=\"63.623047\"/>\n      </g>\n     </g>\n    </g>\n    <g id=\"xtick_16\">\n     <g id=\"line2d_31\">\n      <path d=\"M 519.305614 298.8 \nL 519.305614 7.2 \n\" clip-path=\"url(#pe927f06def)\" style=\"fill: none; stroke: #cbcbcb\"/>\n     </g>\n     <g id=\"line2d_32\"/>\n     <g id=\"text_16\">\n      <!-- 17 -->\n      <g transform=\"translate(510.398114 312.937813) scale(0.14 -0.14)\">\n       <use xlink:href=\"#DejaVuSans-31\"/>\n       <use xlink:href=\"#DejaVuSans-37\" x=\"63.623047\"/>\n      </g>\n     </g>\n    </g>\n    <g id=\"xtick_17\">\n     <g id=\"line2d_33\">\n      <path d=\"M 547.778341 298.8 \nL 547.778341 7.2 \n\" clip-path=\"url(#pe927f06def)\" style=\"fill: none; stroke: #cbcbcb\"/>\n     </g>\n     <g id=\"line2d_34\"/>\n     <g id=\"text_17\">\n      <!-- 18 -->\n      <g transform=\"translate(538.870841 312.937813) scale(0.14 -0.14)\">\n       <use xlink:href=\"#DejaVuSans-31\"/>\n       <use xlink:href=\"#DejaVuSans-38\" x=\"63.623047\"/>\n      </g>\n     </g>\n    </g>\n    <g id=\"xtick_18\">\n     <g id=\"line2d_35\">\n      <path d=\"M 576.251068 298.8 \nL 576.251068 7.2 \n\" clip-path=\"url(#pe927f06def)\" style=\"fill: none; stroke: #cbcbcb\"/>\n     </g>\n     <g id=\"line2d_36\"/>\n     <g id=\"text_18\">\n      <!-- 19 -->\n      <g transform=\"translate(567.343568 312.937813) scale(0.14 -0.14)\">\n       <use xlink:href=\"#DejaVuSans-31\"/>\n       <use xlink:href=\"#DejaVuSans-39\" x=\"63.623047\"/>\n      </g>\n     </g>\n    </g>\n    <g id=\"xtick_19\">\n     <g id=\"line2d_37\">\n      <path d=\"M 604.723795 298.8 \nL 604.723795 7.2 \n\" clip-path=\"url(#pe927f06def)\" style=\"fill: none; stroke: #cbcbcb\"/>\n     </g>\n     <g id=\"line2d_38\"/>\n     <g id=\"text_19\">\n      <!-- 20 -->\n      <g transform=\"translate(595.816295 312.937813) scale(0.14 -0.14)\">\n       <use xlink:href=\"#DejaVuSans-32\"/>\n       <use xlink:href=\"#DejaVuSans-30\" x=\"63.623047\"/>\n      </g>\n     </g>\n    </g>\n    <g id=\"text_20\">\n     <!-- Number of Clusters -->\n     <g transform=\"translate(267.0995 332.61475) scale(0.168 -0.168)\">\n      <defs>\n       <path id=\"DejaVuSans-4e\" d=\"M 628 4666 \nL 1478 4666 \nL 3547 763 \nL 3547 4666 \nL 4159 4666 \nL 4159 0 \nL 3309 0 \nL 1241 3903 \nL 1241 0 \nL 628 0 \nL 628 4666 \nz\n\" transform=\"scale(0.015625)\"/>\n       <path id=\"DejaVuSans-75\" d=\"M 544 1381 \nL 544 3500 \nL 1119 3500 \nL 1119 1403 \nQ 1119 906 1312 657 \nQ 1506 409 1894 409 \nQ 2359 409 2629 706 \nQ 2900 1003 2900 1516 \nL 2900 3500 \nL 3475 3500 \nL 3475 0 \nL 2900 0 \nL 2900 538 \nQ 2691 219 2414 64 \nQ 2138 -91 1772 -91 \nQ 1169 -91 856 284 \nQ 544 659 544 1381 \nz\nM 1991 3584 \nL 1991 3584 \nz\n\" transform=\"scale(0.015625)\"/>\n       <path id=\"DejaVuSans-6d\" d=\"M 3328 2828 \nQ 3544 3216 3844 3400 \nQ 4144 3584 4550 3584 \nQ 5097 3584 5394 3201 \nQ 5691 2819 5691 2113 \nL 5691 0 \nL 5113 0 \nL 5113 2094 \nQ 5113 2597 4934 2840 \nQ 4756 3084 4391 3084 \nQ 3944 3084 3684 2787 \nQ 3425 2491 3425 1978 \nL 3425 0 \nL 2847 0 \nL 2847 2094 \nQ 2847 2600 2669 2842 \nQ 2491 3084 2119 3084 \nQ 1678 3084 1418 2786 \nQ 1159 2488 1159 1978 \nL 1159 0 \nL 581 0 \nL 581 3500 \nL 1159 3500 \nL 1159 2956 \nQ 1356 3278 1631 3431 \nQ 1906 3584 2284 3584 \nQ 2666 3584 2933 3390 \nQ 3200 3197 3328 2828 \nz\n\" transform=\"scale(0.015625)\"/>\n       <path id=\"DejaVuSans-62\" d=\"M 3116 1747 \nQ 3116 2381 2855 2742 \nQ 2594 3103 2138 3103 \nQ 1681 3103 1420 2742 \nQ 1159 2381 1159 1747 \nQ 1159 1113 1420 752 \nQ 1681 391 2138 391 \nQ 2594 391 2855 752 \nQ 3116 1113 3116 1747 \nz\nM 1159 2969 \nQ 1341 3281 1617 3432 \nQ 1894 3584 2278 3584 \nQ 2916 3584 3314 3078 \nQ 3713 2572 3713 1747 \nQ 3713 922 3314 415 \nQ 2916 -91 2278 -91 \nQ 1894 -91 1617 61 \nQ 1341 213 1159 525 \nL 1159 0 \nL 581 0 \nL 581 4863 \nL 1159 4863 \nL 1159 2969 \nz\n\" transform=\"scale(0.015625)\"/>\n       <path id=\"DejaVuSans-65\" d=\"M 3597 1894 \nL 3597 1613 \nL 953 1613 \nQ 991 1019 1311 708 \nQ 1631 397 2203 397 \nQ 2534 397 2845 478 \nQ 3156 559 3463 722 \nL 3463 178 \nQ 3153 47 2828 -22 \nQ 2503 -91 2169 -91 \nQ 1331 -91 842 396 \nQ 353 884 353 1716 \nQ 353 2575 817 3079 \nQ 1281 3584 2069 3584 \nQ 2775 3584 3186 3129 \nQ 3597 2675 3597 1894 \nz\nM 3022 2063 \nQ 3016 2534 2758 2815 \nQ 2500 3097 2075 3097 \nQ 1594 3097 1305 2825 \nQ 1016 2553 972 2059 \nL 3022 2063 \nz\n\" transform=\"scale(0.015625)\"/>\n       <path id=\"DejaVuSans-72\" d=\"M 2631 2963 \nQ 2534 3019 2420 3045 \nQ 2306 3072 2169 3072 \nQ 1681 3072 1420 2755 \nQ 1159 2438 1159 1844 \nL 1159 0 \nL 581 0 \nL 581 3500 \nL 1159 3500 \nL 1159 2956 \nQ 1341 3275 1631 3429 \nQ 1922 3584 2338 3584 \nQ 2397 3584 2469 3576 \nQ 2541 3569 2628 3553 \nL 2631 2963 \nz\n\" transform=\"scale(0.015625)\"/>\n       <path id=\"DejaVuSans-20\" transform=\"scale(0.015625)\"/>\n       <path id=\"DejaVuSans-6f\" d=\"M 1959 3097 \nQ 1497 3097 1228 2736 \nQ 959 2375 959 1747 \nQ 959 1119 1226 758 \nQ 1494 397 1959 397 \nQ 2419 397 2687 759 \nQ 2956 1122 2956 1747 \nQ 2956 2369 2687 2733 \nQ 2419 3097 1959 3097 \nz\nM 1959 3584 \nQ 2709 3584 3137 3096 \nQ 3566 2609 3566 1747 \nQ 3566 888 3137 398 \nQ 2709 -91 1959 -91 \nQ 1206 -91 779 398 \nQ 353 888 353 1747 \nQ 353 2609 779 3096 \nQ 1206 3584 1959 3584 \nz\n\" transform=\"scale(0.015625)\"/>\n       <path id=\"DejaVuSans-66\" d=\"M 2375 4863 \nL 2375 4384 \nL 1825 4384 \nQ 1516 4384 1395 4259 \nQ 1275 4134 1275 3809 \nL 1275 3500 \nL 2222 3500 \nL 2222 3053 \nL 1275 3053 \nL 1275 0 \nL 697 0 \nL 697 3053 \nL 147 3053 \nL 147 3500 \nL 697 3500 \nL 697 3744 \nQ 697 4328 969 4595 \nQ 1241 4863 1831 4863 \nL 2375 4863 \nz\n\" transform=\"scale(0.015625)\"/>\n       <path id=\"DejaVuSans-43\" d=\"M 4122 4306 \nL 4122 3641 \nQ 3803 3938 3442 4084 \nQ 3081 4231 2675 4231 \nQ 1875 4231 1450 3742 \nQ 1025 3253 1025 2328 \nQ 1025 1406 1450 917 \nQ 1875 428 2675 428 \nQ 3081 428 3442 575 \nQ 3803 722 4122 1019 \nL 4122 359 \nQ 3791 134 3420 21 \nQ 3050 -91 2638 -91 \nQ 1578 -91 968 557 \nQ 359 1206 359 2328 \nQ 359 3453 968 4101 \nQ 1578 4750 2638 4750 \nQ 3056 4750 3426 4639 \nQ 3797 4528 4122 4306 \nz\n\" transform=\"scale(0.015625)\"/>\n       <path id=\"DejaVuSans-6c\" d=\"M 603 4863 \nL 1178 4863 \nL 1178 0 \nL 603 0 \nL 603 4863 \nz\n\" transform=\"scale(0.015625)\"/>\n       <path id=\"DejaVuSans-73\" d=\"M 2834 3397 \nL 2834 2853 \nQ 2591 2978 2328 3040 \nQ 2066 3103 1784 3103 \nQ 1356 3103 1142 2972 \nQ 928 2841 928 2578 \nQ 928 2378 1081 2264 \nQ 1234 2150 1697 2047 \nL 1894 2003 \nQ 2506 1872 2764 1633 \nQ 3022 1394 3022 966 \nQ 3022 478 2636 193 \nQ 2250 -91 1575 -91 \nQ 1294 -91 989 -36 \nQ 684 19 347 128 \nL 347 722 \nQ 666 556 975 473 \nQ 1284 391 1588 391 \nQ 1994 391 2212 530 \nQ 2431 669 2431 922 \nQ 2431 1156 2273 1281 \nQ 2116 1406 1581 1522 \nL 1381 1569 \nQ 847 1681 609 1914 \nQ 372 2147 372 2553 \nQ 372 3047 722 3315 \nQ 1072 3584 1716 3584 \nQ 2034 3584 2315 3537 \nQ 2597 3491 2834 3397 \nz\n\" transform=\"scale(0.015625)\"/>\n       <path id=\"DejaVuSans-74\" d=\"M 1172 4494 \nL 1172 3500 \nL 2356 3500 \nL 2356 3053 \nL 1172 3053 \nL 1172 1153 \nQ 1172 725 1289 603 \nQ 1406 481 1766 481 \nL 2356 481 \nL 2356 0 \nL 1766 0 \nQ 1100 0 847 248 \nQ 594 497 594 1153 \nL 594 3053 \nL 172 3053 \nL 172 3500 \nL 594 3500 \nL 594 4494 \nL 1172 4494 \nz\n\" transform=\"scale(0.015625)\"/>\n      </defs>\n      <use xlink:href=\"#DejaVuSans-4e\"/>\n      <use xlink:href=\"#DejaVuSans-75\" x=\"74.804688\"/>\n      <use xlink:href=\"#DejaVuSans-6d\" x=\"138.183594\"/>\n      <use xlink:href=\"#DejaVuSans-62\" x=\"235.595703\"/>\n      <use xlink:href=\"#DejaVuSans-65\" x=\"299.072266\"/>\n      <use xlink:href=\"#DejaVuSans-72\" x=\"360.595703\"/>\n      <use xlink:href=\"#DejaVuSans-20\" x=\"401.708984\"/>\n      <use xlink:href=\"#DejaVuSans-6f\" x=\"433.496094\"/>\n      <use xlink:href=\"#DejaVuSans-66\" x=\"494.677734\"/>\n      <use xlink:href=\"#DejaVuSans-20\" x=\"529.882812\"/>\n      <use xlink:href=\"#DejaVuSans-43\" x=\"561.669922\"/>\n      <use xlink:href=\"#DejaVuSans-6c\" x=\"631.494141\"/>\n      <use xlink:href=\"#DejaVuSans-75\" x=\"659.277344\"/>\n      <use xlink:href=\"#DejaVuSans-73\" x=\"722.65625\"/>\n      <use xlink:href=\"#DejaVuSans-74\" x=\"774.755859\"/>\n      <use xlink:href=\"#DejaVuSans-65\" x=\"813.964844\"/>\n      <use xlink:href=\"#DejaVuSans-72\" x=\"875.488281\"/>\n      <use xlink:href=\"#DejaVuSans-73\" x=\"916.601562\"/>\n     </g>\n    </g>\n   </g>\n   <g id=\"matplotlib.axis_2\">\n    <g id=\"ytick_1\">\n     <g id=\"line2d_39\">\n      <path d=\"M 66.58925 288.717327 \nL 630.34925 288.717327 \n\" clip-path=\"url(#pe927f06def)\" style=\"fill: none; stroke: #cbcbcb\"/>\n     </g>\n     <g id=\"line2d_40\"/>\n     <g id=\"text_21\">\n      <!-- 0 -->\n      <g transform=\"translate(54.18175 294.036233) scale(0.14 -0.14)\">\n       <use xlink:href=\"#DejaVuSans-30\"/>\n      </g>\n     </g>\n    </g>\n    <g id=\"ytick_2\">\n     <g id=\"line2d_41\">\n      <path d=\"M 66.58925 254.669228 \nL 630.34925 254.669228 \n\" clip-path=\"url(#pe927f06def)\" style=\"fill: none; stroke: #cbcbcb\"/>\n     </g>\n     <g id=\"line2d_42\"/>\n     <g id=\"text_22\">\n      <!-- 500 -->\n      <g transform=\"translate(36.36675 259.988134) scale(0.14 -0.14)\">\n       <use xlink:href=\"#DejaVuSans-35\"/>\n       <use xlink:href=\"#DejaVuSans-30\" x=\"63.623047\"/>\n       <use xlink:href=\"#DejaVuSans-30\" x=\"127.246094\"/>\n      </g>\n     </g>\n    </g>\n    <g id=\"ytick_3\">\n     <g id=\"line2d_43\">\n      <path d=\"M 66.58925 220.621129 \nL 630.34925 220.621129 \n\" clip-path=\"url(#pe927f06def)\" style=\"fill: none; stroke: #cbcbcb\"/>\n     </g>\n     <g id=\"line2d_44\"/>\n     <g id=\"text_23\">\n      <!-- 1000 -->\n      <g transform=\"translate(27.45925 225.940036) scale(0.14 -0.14)\">\n       <use xlink:href=\"#DejaVuSans-31\"/>\n       <use xlink:href=\"#DejaVuSans-30\" x=\"63.623047\"/>\n       <use xlink:href=\"#DejaVuSans-30\" x=\"127.246094\"/>\n       <use xlink:href=\"#DejaVuSans-30\" x=\"190.869141\"/>\n      </g>\n     </g>\n    </g>\n    <g id=\"ytick_4\">\n     <g id=\"line2d_45\">\n      <path d=\"M 66.58925 186.57303 \nL 630.34925 186.57303 \n\" clip-path=\"url(#pe927f06def)\" style=\"fill: none; stroke: #cbcbcb\"/>\n     </g>\n     <g id=\"line2d_46\"/>\n     <g id=\"text_24\">\n      <!-- 1500 -->\n      <g transform=\"translate(27.45925 191.891937) scale(0.14 -0.14)\">\n       <use xlink:href=\"#DejaVuSans-31\"/>\n       <use xlink:href=\"#DejaVuSans-35\" x=\"63.623047\"/>\n       <use xlink:href=\"#DejaVuSans-30\" x=\"127.246094\"/>\n       <use xlink:href=\"#DejaVuSans-30\" x=\"190.869141\"/>\n      </g>\n     </g>\n    </g>\n    <g id=\"ytick_5\">\n     <g id=\"line2d_47\">\n      <path d=\"M 66.58925 152.524932 \nL 630.34925 152.524932 \n\" clip-path=\"url(#pe927f06def)\" style=\"fill: none; stroke: #cbcbcb\"/>\n     </g>\n     <g id=\"line2d_48\"/>\n     <g id=\"text_25\">\n      <!-- 2000 -->\n      <g transform=\"translate(27.45925 157.843838) scale(0.14 -0.14)\">\n       <use xlink:href=\"#DejaVuSans-32\"/>\n       <use xlink:href=\"#DejaVuSans-30\" x=\"63.623047\"/>\n       <use xlink:href=\"#DejaVuSans-30\" x=\"127.246094\"/>\n       <use xlink:href=\"#DejaVuSans-30\" x=\"190.869141\"/>\n      </g>\n     </g>\n    </g>\n    <g id=\"ytick_6\">\n     <g id=\"line2d_49\">\n      <path d=\"M 66.58925 118.476833 \nL 630.34925 118.476833 \n\" clip-path=\"url(#pe927f06def)\" style=\"fill: none; stroke: #cbcbcb\"/>\n     </g>\n     <g id=\"line2d_50\"/>\n     <g id=\"text_26\">\n      <!-- 2500 -->\n      <g transform=\"translate(27.45925 123.795739) scale(0.14 -0.14)\">\n       <use xlink:href=\"#DejaVuSans-32\"/>\n       <use xlink:href=\"#DejaVuSans-35\" x=\"63.623047\"/>\n       <use xlink:href=\"#DejaVuSans-30\" x=\"127.246094\"/>\n       <use xlink:href=\"#DejaVuSans-30\" x=\"190.869141\"/>\n      </g>\n     </g>\n    </g>\n    <g id=\"ytick_7\">\n     <g id=\"line2d_51\">\n      <path d=\"M 66.58925 84.428734 \nL 630.34925 84.428734 \n\" clip-path=\"url(#pe927f06def)\" style=\"fill: none; stroke: #cbcbcb\"/>\n     </g>\n     <g id=\"line2d_52\"/>\n     <g id=\"text_27\">\n      <!-- 3000 -->\n      <g transform=\"translate(27.45925 89.74764) scale(0.14 -0.14)\">\n       <use xlink:href=\"#DejaVuSans-33\"/>\n       <use xlink:href=\"#DejaVuSans-30\" x=\"63.623047\"/>\n       <use xlink:href=\"#DejaVuSans-30\" x=\"127.246094\"/>\n       <use xlink:href=\"#DejaVuSans-30\" x=\"190.869141\"/>\n      </g>\n     </g>\n    </g>\n    <g id=\"ytick_8\">\n     <g id=\"line2d_53\">\n      <path d=\"M 66.58925 50.380635 \nL 630.34925 50.380635 \n\" clip-path=\"url(#pe927f06def)\" style=\"fill: none; stroke: #cbcbcb\"/>\n     </g>\n     <g id=\"line2d_54\"/>\n     <g id=\"text_28\">\n      <!-- 3500 -->\n      <g transform=\"translate(27.45925 55.699541) scale(0.14 -0.14)\">\n       <use xlink:href=\"#DejaVuSans-33\"/>\n       <use xlink:href=\"#DejaVuSans-35\" x=\"63.623047\"/>\n       <use xlink:href=\"#DejaVuSans-30\" x=\"127.246094\"/>\n       <use xlink:href=\"#DejaVuSans-30\" x=\"190.869141\"/>\n      </g>\n     </g>\n    </g>\n    <g id=\"ytick_9\">\n     <g id=\"line2d_55\">\n      <path d=\"M 66.58925 16.332536 \nL 630.34925 16.332536 \n\" clip-path=\"url(#pe927f06def)\" style=\"fill: none; stroke: #cbcbcb\"/>\n     </g>\n     <g id=\"line2d_56\"/>\n     <g id=\"text_29\">\n      <!-- 4000 -->\n      <g transform=\"translate(27.45925 21.651442) scale(0.14 -0.14)\">\n       <use xlink:href=\"#DejaVuSans-34\"/>\n       <use xlink:href=\"#DejaVuSans-30\" x=\"63.623047\"/>\n       <use xlink:href=\"#DejaVuSans-30\" x=\"127.246094\"/>\n       <use xlink:href=\"#DejaVuSans-30\" x=\"190.869141\"/>\n      </g>\n     </g>\n    </g>\n    <g id=\"text_30\">\n     <!-- SSE -->\n     <g transform=\"translate(19.965375 168.973125) rotate(-90) scale(0.168 -0.168)\">\n      <defs>\n       <path id=\"DejaVuSans-53\" d=\"M 3425 4513 \nL 3425 3897 \nQ 3066 4069 2747 4153 \nQ 2428 4238 2131 4238 \nQ 1616 4238 1336 4038 \nQ 1056 3838 1056 3469 \nQ 1056 3159 1242 3001 \nQ 1428 2844 1947 2747 \nL 2328 2669 \nQ 3034 2534 3370 2195 \nQ 3706 1856 3706 1288 \nQ 3706 609 3251 259 \nQ 2797 -91 1919 -91 \nQ 1588 -91 1214 -16 \nQ 841 59 441 206 \nL 441 856 \nQ 825 641 1194 531 \nQ 1563 422 1919 422 \nQ 2459 422 2753 634 \nQ 3047 847 3047 1241 \nQ 3047 1584 2836 1778 \nQ 2625 1972 2144 2069 \nL 1759 2144 \nQ 1053 2284 737 2584 \nQ 422 2884 422 3419 \nQ 422 4038 858 4394 \nQ 1294 4750 2059 4750 \nQ 2388 4750 2728 4690 \nQ 3069 4631 3425 4513 \nz\n\" transform=\"scale(0.015625)\"/>\n       <path id=\"DejaVuSans-45\" d=\"M 628 4666 \nL 3578 4666 \nL 3578 4134 \nL 1259 4134 \nL 1259 2753 \nL 3481 2753 \nL 3481 2222 \nL 1259 2222 \nL 1259 531 \nL 3634 531 \nL 3634 0 \nL 628 0 \nL 628 4666 \nz\n\" transform=\"scale(0.015625)\"/>\n      </defs>\n      <use xlink:href=\"#DejaVuSans-53\"/>\n      <use xlink:href=\"#DejaVuSans-53\" x=\"63.476562\"/>\n      <use xlink:href=\"#DejaVuSans-45\" x=\"126.953125\"/>\n     </g>\n    </g>\n   </g>\n   <g id=\"line2d_57\">\n    <path d=\"M 92.214705 20.454545 \nL 120.687432 153.487804 \nL 149.160159 282.008561 \nL 177.632886 282.466753 \nL 206.105614 282.857566 \nL 234.578341 283.190562 \nL 263.051068 283.472161 \nL 291.523795 283.709904 \nL 319.996523 283.90073 \nL 348.46925 284.105544 \nL 376.941977 284.509029 \nL 405.414705 284.57509 \nL 433.887432 284.726859 \nL 462.360159 284.966785 \nL 490.832886 285.163912 \nL 519.305614 285.254534 \nL 547.778341 285.358559 \nL 576.251068 285.440064 \nL 604.723795 285.545455 \n\" clip-path=\"url(#pe927f06def)\" style=\"fill: none; stroke: #008fd5; stroke-width: 4\"/>\n   </g>\n   <g id=\"patch_3\">\n    <path d=\"M 66.58925 298.8 \nL 66.58925 7.2 \n\" style=\"fill: none; stroke: #f0f0f0; stroke-width: 3; stroke-linejoin: miter; stroke-linecap: square\"/>\n   </g>\n   <g id=\"patch_4\">\n    <path d=\"M 630.34925 298.8 \nL 630.34925 7.2 \n\" style=\"fill: none; stroke: #f0f0f0; stroke-width: 3; stroke-linejoin: miter; stroke-linecap: square\"/>\n   </g>\n   <g id=\"patch_5\">\n    <path d=\"M 66.58925 298.8 \nL 630.34925 298.8 \n\" style=\"fill: none; stroke: #f0f0f0; stroke-width: 3; stroke-linejoin: miter; stroke-linecap: square\"/>\n   </g>\n   <g id=\"patch_6\">\n    <path d=\"M 66.58925 7.2 \nL 630.34925 7.2 \n\" style=\"fill: none; stroke: #f0f0f0; stroke-width: 3; stroke-linejoin: miter; stroke-linecap: square\"/>\n   </g>\n  </g>\n </g>\n <defs>\n  <clipPath id=\"pe927f06def\">\n   <rect x=\"66.58925\" y=\"7.2\" width=\"563.76\" height=\"291.6\"/>\n  </clipPath>\n </defs>\n</svg>\n"
          },
          "metadata": {}
        }
      ]
    },
    {
      "cell_type": "markdown",
      "source": [
        "Теперь по графику найдите число кластеров, начиная с которого критерий SSD снижается не так быстро.\n",
        "\n",
        "Получившееся число кластеров - **4**."
      ],
      "metadata": {
        "id": "9fvMkr9a3Wcd"
      }
    },
    {
      "cell_type": "markdown",
      "source": [
        "## Итоговая модель"
      ],
      "metadata": {
        "id": "dsRdhDy15abE"
      }
    },
    {
      "cell_type": "code",
      "source": [
        "# Создайте финальный вариант модели с подобраным количеством кластеров и обучите ее.\n",
        "\n",
        "kmeans_kwargs = {\n",
        "    'init': 'k-means++',\n",
        "    'n_init': 10,\n",
        "    'n_clusters': 4,\n",
        "    'max_iter': 300,\n",
        "    'random_state': 42,\n",
        "}\n",
        "\n",
        "final_model = KMeans(**kmeans_kwargs)\n",
        "final_model.fit(df)"
      ],
      "metadata": {
        "id": "hbsZWRAU5fSH",
        "colab": {
          "base_uri": "https://localhost:8080/",
          "height": 74
        },
        "outputId": "c74053a8-efcb-4213-b90a-fa1204aa3f59"
      },
      "execution_count": 45,
      "outputs": [
        {
          "output_type": "execute_result",
          "data": {
            "text/plain": [
              "KMeans(n_clusters=4, n_init=10, random_state=42)"
            ],
            "text/html": [
              "<style>#sk-container-id-4 {color: black;background-color: white;}#sk-container-id-4 pre{padding: 0;}#sk-container-id-4 div.sk-toggleable {background-color: white;}#sk-container-id-4 label.sk-toggleable__label {cursor: pointer;display: block;width: 100%;margin-bottom: 0;padding: 0.3em;box-sizing: border-box;text-align: center;}#sk-container-id-4 label.sk-toggleable__label-arrow:before {content: \"▸\";float: left;margin-right: 0.25em;color: #696969;}#sk-container-id-4 label.sk-toggleable__label-arrow:hover:before {color: black;}#sk-container-id-4 div.sk-estimator:hover label.sk-toggleable__label-arrow:before {color: black;}#sk-container-id-4 div.sk-toggleable__content {max-height: 0;max-width: 0;overflow: hidden;text-align: left;background-color: #f0f8ff;}#sk-container-id-4 div.sk-toggleable__content pre {margin: 0.2em;color: black;border-radius: 0.25em;background-color: #f0f8ff;}#sk-container-id-4 input.sk-toggleable__control:checked~div.sk-toggleable__content {max-height: 200px;max-width: 100%;overflow: auto;}#sk-container-id-4 input.sk-toggleable__control:checked~label.sk-toggleable__label-arrow:before {content: \"▾\";}#sk-container-id-4 div.sk-estimator input.sk-toggleable__control:checked~label.sk-toggleable__label {background-color: #d4ebff;}#sk-container-id-4 div.sk-label input.sk-toggleable__control:checked~label.sk-toggleable__label {background-color: #d4ebff;}#sk-container-id-4 input.sk-hidden--visually {border: 0;clip: rect(1px 1px 1px 1px);clip: rect(1px, 1px, 1px, 1px);height: 1px;margin: -1px;overflow: hidden;padding: 0;position: absolute;width: 1px;}#sk-container-id-4 div.sk-estimator {font-family: monospace;background-color: #f0f8ff;border: 1px dotted black;border-radius: 0.25em;box-sizing: border-box;margin-bottom: 0.5em;}#sk-container-id-4 div.sk-estimator:hover {background-color: #d4ebff;}#sk-container-id-4 div.sk-parallel-item::after {content: \"\";width: 100%;border-bottom: 1px solid gray;flex-grow: 1;}#sk-container-id-4 div.sk-label:hover label.sk-toggleable__label {background-color: #d4ebff;}#sk-container-id-4 div.sk-serial::before {content: \"\";position: absolute;border-left: 1px solid gray;box-sizing: border-box;top: 0;bottom: 0;left: 50%;z-index: 0;}#sk-container-id-4 div.sk-serial {display: flex;flex-direction: column;align-items: center;background-color: white;padding-right: 0.2em;padding-left: 0.2em;position: relative;}#sk-container-id-4 div.sk-item {position: relative;z-index: 1;}#sk-container-id-4 div.sk-parallel {display: flex;align-items: stretch;justify-content: center;background-color: white;position: relative;}#sk-container-id-4 div.sk-item::before, #sk-container-id-4 div.sk-parallel-item::before {content: \"\";position: absolute;border-left: 1px solid gray;box-sizing: border-box;top: 0;bottom: 0;left: 50%;z-index: -1;}#sk-container-id-4 div.sk-parallel-item {display: flex;flex-direction: column;z-index: 1;position: relative;background-color: white;}#sk-container-id-4 div.sk-parallel-item:first-child::after {align-self: flex-end;width: 50%;}#sk-container-id-4 div.sk-parallel-item:last-child::after {align-self: flex-start;width: 50%;}#sk-container-id-4 div.sk-parallel-item:only-child::after {width: 0;}#sk-container-id-4 div.sk-dashed-wrapped {border: 1px dashed gray;margin: 0 0.4em 0.5em 0.4em;box-sizing: border-box;padding-bottom: 0.4em;background-color: white;}#sk-container-id-4 div.sk-label label {font-family: monospace;font-weight: bold;display: inline-block;line-height: 1.2em;}#sk-container-id-4 div.sk-label-container {text-align: center;}#sk-container-id-4 div.sk-container {/* jupyter's `normalize.less` sets `[hidden] { display: none; }` but bootstrap.min.css set `[hidden] { display: none !important; }` so we also need the `!important` here to be able to override the default hidden behavior on the sphinx rendered scikit-learn.org. See: https://github.com/scikit-learn/scikit-learn/issues/21755 */display: inline-block !important;position: relative;}#sk-container-id-4 div.sk-text-repr-fallback {display: none;}</style><div id=\"sk-container-id-4\" class=\"sk-top-container\"><div class=\"sk-text-repr-fallback\"><pre>KMeans(n_clusters=4, n_init=10, random_state=42)</pre><b>In a Jupyter environment, please rerun this cell to show the HTML representation or trust the notebook. <br />On GitHub, the HTML representation is unable to render, please try loading this page with nbviewer.org.</b></div><div class=\"sk-container\" hidden><div class=\"sk-item\"><div class=\"sk-estimator sk-toggleable\"><input class=\"sk-toggleable__control sk-hidden--visually\" id=\"sk-estimator-id-4\" type=\"checkbox\" checked><label for=\"sk-estimator-id-4\" class=\"sk-toggleable__label sk-toggleable__label-arrow\">KMeans</label><div class=\"sk-toggleable__content\"><pre>KMeans(n_clusters=4, n_init=10, random_state=42)</pre></div></div></div></div></div>"
            ]
          },
          "metadata": {},
          "execution_count": 45
        }
      ]
    },
    {
      "cell_type": "code",
      "source": [
        "claster_count = 4\n",
        "\n",
        "points = list(final_model.labels_)\n",
        "for i in range(claster_count):\n",
        "  print(f\"Объектов в {i} кластере – {points.count(i)}\")"
      ],
      "metadata": {
        "colab": {
          "base_uri": "https://localhost:8080/"
        },
        "id": "YZU0_nWvt7DK",
        "outputId": "fbe9a4cb-c723-434b-c793-8205db856139"
      },
      "execution_count": 50,
      "outputs": [
        {
          "output_type": "stream",
          "name": "stdout",
          "text": [
            "Объектов в 0 кластере – 16\n",
            "Объектов в 1 кластере – 24\n",
            "Объектов в 2 кластере – 18\n",
            "Объектов в 3 кластере – 22\n"
          ]
        }
      ]
    },
    {
      "cell_type": "code",
      "source": [
        "# Получаем метки кластеров\n",
        "labels_fm = final_model.labels_\n",
        "\n",
        "# Подсчитываем количество объектов в каждом кластере\n",
        "unique, counts = np.unique(labels_fm, return_counts=True)\n",
        "cluster_counts = dict(zip(unique, counts))\n",
        "\n",
        "print(\"Количество объектов в каждом кластере:\", cluster_counts)"
      ],
      "metadata": {
        "colab": {
          "base_uri": "https://localhost:8080/"
        },
        "id": "hNcTZNjKT8Ik",
        "outputId": "b25d7797-c5d0-4423-b08a-a886501de0de"
      },
      "execution_count": 46,
      "outputs": [
        {
          "output_type": "stream",
          "name": "stdout",
          "text": [
            "Количество объектов в каждом кластере: {0: 16, 1: 24, 2: 18, 3: 22}\n"
          ]
        }
      ]
    },
    {
      "cell_type": "markdown",
      "source": [
        "Используя `labels_`, посчитайте сколько объектов относится к каждому кластеру.\n",
        "\n",
        "**Сколько объектов относится к каждому кластеру?**\n",
        "\n",
        "**Ваш ответ**:   \n",
        "0 кластер: 16 объектов   \n",
        "1 кластер: 24 объектов   \n",
        "2 кластер: 18 объектов   \n",
        "3 кластер: 22 объектов   "
      ],
      "metadata": {
        "id": "T24i66Mq5uej"
      }
    },
    {
      "cell_type": "markdown",
      "source": [
        "**Кратко опишите суть алгоритма KMeans.**\n",
        "\n",
        "**Ваш ответ:**\n",
        "\n",
        "1. Инициализация центров кластеров: Случайным образом выбираются начальные центры кластеров.\n",
        "2. Присваивание точек к ближайшим кластерам: Каждая точка данных присваивается к ближайшему центру кластера. Расстояние между точками и центрами обычно измеряется евклидовым расстоянием.\n",
        "3. Пересчет центров кластеров: Для каждого кластера пересчитывается его центр путем вычисления среднего значения всех точек, принадлежащих этому кластеру.\n",
        "4. Повторение шагов 2-3: Шаги 2 и 3 повторяются до тех пор, пока центры кластеров не стабилизируются или не достигнут критерия останова. Как только высчитанные центры кластеров совпадут с предыдущими, алгоритм будет окончен.\n",
        "5. Финальные метки кластеров: После завершения алгоритма каждой точке данных присваивается окончательная метка кластера на основе ближайшего центра."
      ],
      "metadata": {
        "id": "K5loIVkl6Kaw"
      }
    }
  ]
}