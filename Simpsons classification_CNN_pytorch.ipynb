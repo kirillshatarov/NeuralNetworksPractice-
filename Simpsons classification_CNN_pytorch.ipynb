{
  "cells": [
    {
      "cell_type": "markdown",
      "metadata": {
        "id": "wmvF4blMS-Iw"
      },
      "source": [
        "# Лабораторная работа №6\n",
        "\n",
        "**Сверточные нейронные сети**\n",
        "\n",
        "---\n",
        "\n",
        "**Впишите в эту ячейку ваши ФИО, группу**.\n",
        "\n",
        "ФИО: Шатаров Кирилл Александрович\n",
        "\n",
        "Группа: 211-365\n",
        "\n",
        "---\n"
      ]
    },
    {
      "cell_type": "markdown",
      "metadata": {
        "id": "2JW2lM4yYXio"
      },
      "source": [
        "## Загрузка данных\n",
        "\n",
        "В данной работе будет использоваться учебный датасет с изображениями персонажей из Симпсонов. Код для скачивания и распаковки приведен ниже, его требуется только выполнить и вo вкладке Files должна появиться папка `data`, а в ней папки `train` и `test`."
      ]
    },
    {
      "cell_type": "code",
      "execution_count": 2,
      "metadata": {
        "colab": {
          "base_uri": "https://localhost:8080/"
        },
        "id": "BhBI_Y2iVHqO",
        "outputId": "9b5dc213-28bc-4ff4-e92a-e876b847c256"
      },
      "outputs": [
        {
          "output_type": "stream",
          "name": "stdout",
          "text": [
            "--2024-01-25 15:27:37--  http://labcolor.space/rgb-test.zip\n",
            "Resolving labcolor.space (labcolor.space)... 31.31.196.3, 2a00:f940:2:2:1:1:0:25\n",
            "Connecting to labcolor.space (labcolor.space)|31.31.196.3|:80... connected.\n",
            "HTTP request sent, awaiting response... 200 OK\n",
            "Length: 3031569 (2.9M) [application/zip]\n",
            "Saving to: ‘rgb-test.zip’\n",
            "\n",
            "rgb-test.zip        100%[===================>]   2.89M  2.31MB/s    in 1.3s    \n",
            "\n",
            "2024-01-25 15:27:39 (2.31 MB/s) - ‘rgb-test.zip’ saved [3031569/3031569]\n",
            "\n",
            "--2024-01-25 15:27:39--  http://labcolor.space/rgb-train.zip\n",
            "Resolving labcolor.space (labcolor.space)... 31.31.196.3, 2a00:f940:2:2:1:1:0:25\n",
            "Connecting to labcolor.space (labcolor.space)|31.31.196.3|:80... connected.\n",
            "HTTP request sent, awaiting response... 200 OK\n",
            "Length: 12154147 (12M) [application/zip]\n",
            "Saving to: ‘rgb-train.zip’\n",
            "\n",
            "rgb-train.zip       100%[===================>]  11.59M  6.53MB/s    in 1.8s    \n",
            "\n",
            "2024-01-25 15:27:41 (6.53 MB/s) - ‘rgb-train.zip’ saved [12154147/12154147]\n",
            "\n",
            "CPU times: user 59.4 ms, sys: 11.3 ms, total: 70.7 ms\n",
            "Wall time: 4.94 s\n"
          ]
        }
      ],
      "source": [
        "%%time\n",
        "\n",
        "! wget -nc http://labcolor.space/rgb-test.zip\n",
        "! unzip -o -q rgb-test.zip -d data\n",
        "! wget -nc http://labcolor.space/rgb-train.zip\n",
        "! unzip -o -q rgb-train.zip -d data"
      ]
    },
    {
      "cell_type": "markdown",
      "metadata": {
        "id": "WWExBZ0FZj1E"
      },
      "source": [
        "## Создание объекта Dataset\n",
        "\n",
        "Так как изображения в датасете организованы по папкам, где имя папки является ярлыком для данных, то мы можем воспользоваться базовым классом `ImageFolder`.\n",
        "\n",
        "Одним из параметров является `transform`, для которого необходимо скомпоновать преобразования для наших изображений. В pytorch для преобразований сейчас есть два набора функций V1 и V2 и рекомендуется использовать V2, хоть напротив многих функций указано состояние beta.\n",
        "\n",
        "Для компоновки функции из модуля v2 используйте `Compose`. Вам понадобится обязательно:\n",
        "* ToImage() - преобразование в `Image` (подкласс torch.Tensor)\n",
        "* RandomVerticalFlip() - случайное отзеркаливание\n",
        "* ToDtype(torch.float32, scale=True) - преобразование из int во float\n",
        "* Normalize() - нормализация изображений по полученным средним и стандартным отклонениям.\n",
        "\n",
        "По желанию:\n",
        "* RandomRotation() - поворот на случайный угол в указанном диапазоне\n",
        "* Можете попробовать и другие варианты преобразований. [Документация API V2](https://pytorch.org/vision/stable/transforms.html#v2-api-reference-recommended)\n",
        "\n",
        "В качестве примера будет показана работа с созданием Dataset для получения статистик изображения. Вам же необходимо будет создать `transforms` для обучения и проверки. При обучении вы используете весь набор обязательных преобразований, при обучении вам требуется только преобразовать изображение к тензору с плавающей точкой и провести нормализацию."
      ]
    },
    {
      "cell_type": "markdown",
      "metadata": {
        "id": "2s7NaAvVHH6V"
      },
      "source": [
        "### Получение статистик для нормализации"
      ]
    },
    {
      "cell_type": "code",
      "execution_count": 3,
      "metadata": {
        "id": "HHN2GrMjalJy"
      },
      "outputs": [],
      "source": [
        "import torch\n",
        "from torchvision.transforms import v2\n",
        "\n",
        "transforms_stats = v2.Compose([\n",
        "    v2.ToImage(),\n",
        "    v2.ToDtype(torch.float32, scale=True),\n",
        "])"
      ]
    },
    {
      "cell_type": "code",
      "execution_count": 4,
      "metadata": {
        "id": "28mPRQLMHCnd"
      },
      "outputs": [],
      "source": [
        "from torchvision.datasets import ImageFolder\n",
        "\n",
        "stats_dataset = ImageFolder(root=\"./data/train\", transform=transforms_stats)"
      ]
    },
    {
      "cell_type": "code",
      "execution_count": 5,
      "metadata": {
        "id": "F73DC1a6HByF",
        "colab": {
          "base_uri": "https://localhost:8080/"
        },
        "outputId": "52cbf445-70d6-43e4-f389-0989de4dba2b"
      },
      "outputs": [
        {
          "output_type": "stream",
          "name": "stdout",
          "text": [
            "Means R, G, B: (0.465204, 0.40914717, 0.35447764)\n",
            "Std R, G, B: (0.2492806, 0.22941421, 0.2450912)\n"
          ]
        }
      ],
      "source": [
        "imgs = [item[0] for item in stats_dataset]\n",
        "imgs = torch.stack(imgs, dim=0).numpy()\n",
        "\n",
        "mean_r = imgs[:,0,:,:].mean()\n",
        "mean_g = imgs[:,1,:,:].mean()\n",
        "mean_b = imgs[:,2,:,:].mean()\n",
        "print(f\"Means R, G, B: {mean_r,mean_g,mean_b}\")\n",
        "\n",
        "std_r = imgs[:,0,:,:].std()\n",
        "std_g = imgs[:,1,:,:].std()\n",
        "std_b = imgs[:,2,:,:].std()\n",
        "print(f\"Std R, G, B: {std_r,std_g,std_b}\")"
      ]
    },
    {
      "cell_type": "markdown",
      "metadata": {
        "id": "6Z7YQmBiHehJ"
      },
      "source": [
        "**Почему значения средних и стандартных отклонений мы получаем только для обучающей выборки?**\n",
        "\n",
        "Ваш ответ:  Вычисление средних и стандартных отклонений на основе только обучающей выборки позволяет избежать утечки информации из тестовых данных. Использование статистики изображений из тестового набора при обучении модели, может повлиять на её производительность.\n",
        "\n",
        "\n",
        "---\n",
        "\n",
        "\n",
        "Используйте выведенные выше значения средних и стандартных отклонений в качестве аргументов функции `Normalize`."
      ]
    },
    {
      "cell_type": "code",
      "execution_count": 6,
      "metadata": {
        "id": "E9zeyUxyGcrZ",
        "colab": {
          "base_uri": "https://localhost:8080/"
        },
        "outputId": "53f1f663-9d01-413c-886e-35e839b7d2c7"
      },
      "outputs": [
        {
          "output_type": "stream",
          "name": "stderr",
          "text": [
            "/usr/local/lib/python3.10/dist-packages/torchvision/transforms/v2/_deprecated.py:43: UserWarning: The transform `ToTensor()` is deprecated and will be removed in a future release. Instead, please use `v2.Compose([v2.ToImage(), v2.ToDtype(torch.float32, scale=True)])`.\n",
            "  warnings.warn(\n"
          ]
        }
      ],
      "source": [
        "transforms_train = v2.Compose([\n",
        "# Ваш код\n",
        "v2.ToTensor(), # Преобразование изображения в тензор\n",
        "v2.Normalize(mean=[mean_r, mean_g, mean_b], std=[std_r, std_g, std_b])\n",
        "])\n",
        "\n",
        "transforms_test = v2.Compose([\n",
        "# Ваш код\n",
        "v2.ToTensor(), # Преобразование изображения в тензор\n",
        "v2.Normalize(mean=[mean_r, mean_g, mean_b], std=[std_r, std_g, std_b])\n",
        "])"
      ]
    },
    {
      "cell_type": "markdown",
      "metadata": {
        "id": "QVSanpdBlJpP"
      },
      "source": [
        "Теперь, когда есть необходимые `transforms` можно создать ImageFolder, указав в `root` путь до выборки и `transforms` в `transform`."
      ]
    },
    {
      "cell_type": "code",
      "execution_count": 7,
      "metadata": {
        "id": "jnrdWtQCZHY1"
      },
      "outputs": [],
      "source": [
        "train_dataset = ImageFolder(root=\"./data/train\", transform=transforms_train) #  Ваш код\n",
        "\n",
        "# по аналогии создайте датасет для проверочной части\n",
        "test_dataset = ImageFolder(root=\"./data/test\", transform=transforms_test) #  Ваш код"
      ]
    },
    {
      "cell_type": "code",
      "execution_count": 8,
      "metadata": {
        "id": "KIMD10uQd14C",
        "colab": {
          "base_uri": "https://localhost:8080/"
        },
        "outputId": "3f597310-d623-4887-8abb-76d97636b919"
      },
      "outputs": [
        {
          "output_type": "stream",
          "name": "stdout",
          "text": [
            "Количество изображений в обучающей выборке: 8000\n",
            "Количество изображений в тестовой выборке: 2000\n",
            "Количество классов: 10\n",
            "Количество каналов в изображении: 3\n",
            "Высота и ширина изображения: torch.Size([28, 28])\n",
            "Классы: ['bart_simpson', 'charles_montgomery_burns', 'homer_simpson', 'krusty_the_clown', 'lisa_simpson', 'marge_simpson', 'milhouse_van_houten', 'moe_szyslak', 'ned_flanders', 'principal_skinner']\n"
          ]
        }
      ],
      "source": [
        "# Выведите информацию о количестве изображений в обеих выборках и сколько классов в ваших данных.\n",
        "# Воспользуйтесь атрибутом classes для получения количества классов.\n",
        "# В объекте Dataset вы можете получить любой объект по индексу, вам будет возвращен кортеж из тензора и индекса класса.\n",
        "# shape у тензора поможет ответить на вопросы о каналах и размерах изображений.\n",
        "#\n",
        "# Ваш код\n",
        "train_samples_len = len(train_dataset)\n",
        "test_samples_len = len(test_dataset)\n",
        "classes_len = len(train_dataset.classes)\n",
        "image_channels = stats_dataset[0][0].shape[0]\n",
        "image_shape = stats_dataset[0][0].shape[1:]\n",
        "classes_labels = train_dataset.classes\n",
        "\n",
        "\n",
        "print(f'Количество изображений в обучающей выборке: {train_samples_len}')\n",
        "print(f'Количество изображений в тестовой выборке: {test_samples_len}')\n",
        "print(f'Количество классов: {classes_len}')\n",
        "print(f'Количество каналов в изображении: {image_channels}')\n",
        "print(f'Высота и ширина изображения: {image_shape}')\n",
        "print(f'Классы: {classes_labels}')"
      ]
    },
    {
      "cell_type": "markdown",
      "metadata": {
        "id": "OhGqUh4youqC"
      },
      "source": [
        "## Создание DataLoader\n",
        "\n",
        "Далее необходимо подготовить три загрузчика данных:\n",
        "\n",
        "1. Обучающий\n",
        "2. Проверочный\n",
        "3. Тестовый\n",
        "\n",
        "Тестовый загрузчик делается из тестового Dataset, а обучающий и проверочный необходимо создать, используя [SubsetRandomSampler](https://pytorch.org/docs/stable/data.html#torch.utils.data.SubsetRandomSampler), для его работы требуется массив индексов, по которым в дальнейшем загрузчик будет в случайном порядке брать изображения и лейблы."
      ]
    },
    {
      "cell_type": "code",
      "execution_count": 9,
      "metadata": {
        "id": "7_S19XDhmdhP"
      },
      "outputs": [],
      "source": [
        "import numpy as np\n",
        "from torch.utils.data.sampler import SubsetRandomSampler\n",
        "\n",
        "val_size = 0.2\n",
        "\n",
        "train_samples = len(train_dataset)\n",
        "train_indices = list(range(train_samples))\n",
        "\n",
        "split_value = int(np.floor(val_size * train_samples))\n",
        "np.random.shuffle(train_indices)\n",
        "\n",
        "train_idx, val_idx = train_indices[split_value:], train_indices[:split_value]\n",
        "\n",
        "train_sampler = SubsetRandomSampler(train_idx)\n",
        "val_sampler = SubsetRandomSampler(val_idx)"
      ]
    },
    {
      "cell_type": "markdown",
      "metadata": {
        "id": "gqeo5E_dLAD4"
      },
      "source": [
        "**Опишите своими словами, что делает каждая строчка кода в предыдущей ячейке.**\n",
        "\n",
        "Ваш ответ:\n",
        "\n",
        "1 и 2. Импорт библиотек.   \n",
        "3. Определяем размер валидационного набора данных (20% от общего размера обучающего набора - 1600 образцов).   \n",
        "4. Получаем количество образцов в обучающем наборе данных.   \n",
        "5. Создаём список индексов, представляющих образцы в обучающем наборе данных.   \n",
        "6. Вычисляем количество образцов, которые будут использоваться для валидации. np.floor округляет в меньшую сторону, чтобы получить целое число.   \n",
        "7. Перемешиваем список индексов обучающего набора случайным образом.   \n",
        "8. Разделяем перемешанные индексы на два списка: train_idx содержит индексы для обучения (с 1600), а val_idx содержит индексы для валидации (до 1600).   \n",
        "9. Создаём объект SubsetRandomSampler, который будет использоваться в PyTorch DataLoader для формирования обучающего набора данных.   \n",
        "10. Создаём объект SubsetRandomSampler, который будет использоваться в PyTorch DataLoader для формирования валидационного набора данных.   "
      ]
    },
    {
      "cell_type": "code",
      "execution_count": 31,
      "metadata": {
        "id": "Bq9fnX6ppC-V"
      },
      "outputs": [],
      "source": [
        "from torch.utils.data import DataLoader\n",
        "\n",
        "BATCH_SIZE = 64\n",
        "\n",
        "train_loader = DataLoader(train_dataset, sampler=train_sampler, batch_size=BATCH_SIZE, shuffle=False) # не забудьте использовать нужный sampler\n",
        "\n",
        "val_loader = DataLoader(train_dataset, sampler=val_sampler, batch_size=BATCH_SIZE, shuffle=False) # не забудьте использовать нужный sampler\n",
        "\n",
        "test_loader = DataLoader(test_dataset, batch_size=BATCH_SIZE, shuffle=False)"
      ]
    },
    {
      "cell_type": "markdown",
      "metadata": {
        "id": "KdbG4_QkW1Xp"
      },
      "source": [
        "**Какую задачу решает Dataloader?**\n",
        "\n",
        "Ваш ответ: Dataloader решает задачу загрузки данных во время обучения нейронных сетей, разбивает их на батчи и перемешивает.\n",
        "\n",
        "**Почему использование трех выборок (обучающей, валидационной, тестовой) считается хорошей практикой?**\n",
        "\n",
        "Ваш ответ:   \n",
        "*Обучающая выборка используется для обучения модели.   \n",
        "*Валидационная выборка используется для оценки производительности модели в процессе обучения и для настройки гиперпараметров.   \n",
        "*Тестовая выборка используется для окончательной оценки производительности модели после завершения обучения и настройки.   \n",
        "Использование трех выборок помогает избежать переобучения и обеспечивает более объективные оценки производительности модели.\n"
      ]
    },
    {
      "cell_type": "markdown",
      "metadata": {
        "id": "1diJ0WPML5WJ"
      },
      "source": [
        "## Создание модели"
      ]
    },
    {
      "cell_type": "markdown",
      "metadata": {
        "id": "ISx1-JU_NIFA"
      },
      "source": [
        "За основу можно взять модель LeNet-5, но скорее всего вам придется ее адаптировать под свою задачу, так как в большинстве случаев она написана под черно-белые изображения размером 32 на 32 пикселя.\n",
        "\n",
        "Сверточные нейронные сети состоят из двух частей:\n",
        "1. Слои свертки(функции свертки, активации, субдискретизации)\n",
        "2. Полносвязные слои (MLP)\n",
        "\n",
        "Слои можно объединить с помощью `nn.Sequential()`. А класс вашей модели должен наследоваться от `nn.Module`.\n",
        "\n",
        "`def forward()` определяет прямой ход и должна возвращать итоговый результат работы модели - в данном случае логиты."
      ]
    },
    {
      "cell_type": "code",
      "execution_count": 32,
      "metadata": {
        "id": "KW3nfcAZL8XV"
      },
      "outputs": [],
      "source": [
        "import torch.nn as nn\n",
        "\n",
        "class ConvNet(nn.Module):\n",
        "    def __init__(self, num_classes):\n",
        "        super().__init__()\n",
        "        # Два сверточных (последовательных) слоях (nn.Sequential):\n",
        "        # функция свертки (Conv2d)\n",
        "        # Функция активации\n",
        "        # Функция субдескретизации (MaxPool2d)\n",
        "        self.layer1 = nn.Sequential(\n",
        "            nn.Conv2d(3, 16, kernel_size=3, stride=1, padding=1),\n",
        "            nn.ReLU(),\n",
        "            nn.MaxPool2d(kernel_size=2, stride=2)\n",
        "        )\n",
        "        self.layer2 = nn.Sequential(\n",
        "            nn.Conv2d(16, 32, kernel_size=3, stride=1, padding=1),\n",
        "            nn.ReLU(),\n",
        "            nn.MaxPool2d(kernel_size=2, stride=2)\n",
        "        )\n",
        "\n",
        "        # Полносвязная часть\n",
        "        # Линейный слой\n",
        "        # Активация\n",
        "        # Линейный слой\n",
        "        # Активация\n",
        "        # Линейный слой - на выходе количество классов\n",
        "        self.fc1 = nn.Linear(32 * 7 * 7, 800)  # Уплощаем 7x7 изображение с 32 каналами\n",
        "        self.relu = nn.ReLU()\n",
        "        self.fc2 = nn.Linear(800, 400)\n",
        "        self.relu = nn.ReLU()\n",
        "        self.fc3 = nn.Linear(400, num_classes)\n",
        "\n",
        "    def forward(self, x):\n",
        "        # Из слоев и функций собираете прямой ход модели\n",
        "        out = self.layer1(x)\n",
        "        out = self.layer2(out)\n",
        "        # Не забудьте между сверточными слоями и полносвязными сделать уплощение\n",
        "        out = out.flatten(start_dim=1)\n",
        "        # out = out.view(out.size(0), -1)  # Уплощаем для полносвязных слоев\n",
        "        out = self.fc1(out)\n",
        "        out = self.relu(out)\n",
        "        out = self.fc2(out)\n",
        "        out = self.relu(out)\n",
        "        out = self.fc3(out)\n",
        "\n",
        "        return out"
      ]
    },
    {
      "cell_type": "markdown",
      "metadata": {
        "id": "W96DOSUzV43g"
      },
      "source": [
        "**Опишите суть операции свертки.**\n",
        "\n",
        "Ваш ответ: Операция свертки используется для извлечения признаков из входных данных, таких как изображения. Суть операции свертки заключается в применении фильтра (ядра) к различным областям входного изображения с целью выделения определенных характеристик или признаков.\n",
        "\n",
        "**Опишите суть операции субдискретизации.**\n",
        "\n",
        "Ваш ответ: Операция субдискретизации, также известная как пулинг (pooling), представляет собой процесс уменьшения размерности изображения путем выбора наиболее значимых значений в определенных областях. Это используется для уменьшения количества параметров в модели, ускорения вычислений и создания инвариантности к малым трансформациям входных данных.\n"
      ]
    },
    {
      "cell_type": "code",
      "source": [
        "num_classes = 10\n",
        "model = ConvNet(num_classes)\n",
        "print(model)"
      ],
      "metadata": {
        "colab": {
          "base_uri": "https://localhost:8080/"
        },
        "id": "P6YpIO-FnHtA",
        "outputId": "34e43dad-9263-493f-95c0-e52250671cba"
      },
      "execution_count": 33,
      "outputs": [
        {
          "output_type": "stream",
          "name": "stdout",
          "text": [
            "ConvNet(\n",
            "  (layer1): Sequential(\n",
            "    (0): Conv2d(3, 16, kernel_size=(3, 3), stride=(1, 1), padding=(1, 1))\n",
            "    (1): ReLU()\n",
            "    (2): MaxPool2d(kernel_size=2, stride=2, padding=0, dilation=1, ceil_mode=False)\n",
            "  )\n",
            "  (layer2): Sequential(\n",
            "    (0): Conv2d(16, 32, kernel_size=(3, 3), stride=(1, 1), padding=(1, 1))\n",
            "    (1): ReLU()\n",
            "    (2): MaxPool2d(kernel_size=2, stride=2, padding=0, dilation=1, ceil_mode=False)\n",
            "  )\n",
            "  (fc1): Linear(in_features=1568, out_features=800, bias=True)\n",
            "  (relu): ReLU()\n",
            "  (fc2): Linear(in_features=800, out_features=400, bias=True)\n",
            "  (fc3): Linear(in_features=400, out_features=10, bias=True)\n",
            ")\n"
          ]
        }
      ]
    },
    {
      "cell_type": "code",
      "source": [
        "for param_tensor in model.state_dict():\n",
        "    print(param_tensor, \"\\t\", model.state_dict()[param_tensor].size())"
      ],
      "metadata": {
        "colab": {
          "base_uri": "https://localhost:8080/"
        },
        "id": "Gnt2QCO0nR6I",
        "outputId": "ab480ed0-c523-400c-bba4-5e6c64d7dd47"
      },
      "execution_count": 34,
      "outputs": [
        {
          "output_type": "stream",
          "name": "stdout",
          "text": [
            "layer1.0.weight \t torch.Size([16, 3, 3, 3])\n",
            "layer1.0.bias \t torch.Size([16])\n",
            "layer2.0.weight \t torch.Size([32, 16, 3, 3])\n",
            "layer2.0.bias \t torch.Size([32])\n",
            "fc1.weight \t torch.Size([800, 1568])\n",
            "fc1.bias \t torch.Size([800])\n",
            "fc2.weight \t torch.Size([400, 800])\n",
            "fc2.bias \t torch.Size([400])\n",
            "fc3.weight \t torch.Size([10, 400])\n",
            "fc3.bias \t torch.Size([10])\n"
          ]
        }
      ]
    },
    {
      "cell_type": "markdown",
      "metadata": {
        "id": "dH1LAGLEN6T7"
      },
      "source": [
        "## Создание объекта модели, функции потерь и оптимизатора\n",
        "\n",
        "В качестве функции потерь будет использована перекрестная энтропия, в задании MLP вы фактически ее реализовали, но через набор отдельных функций.\n",
        "\n",
        "В качестве оптимизатора можете взять стохастический градиентный спуск или Adam."
      ]
    },
    {
      "cell_type": "code",
      "execution_count": 35,
      "metadata": {
        "id": "OJarp7KJN6pr"
      },
      "outputs": [],
      "source": [
        "num_classes = 10\n",
        "num_epochs = 100   # Пробуйте разные значения (10)\n",
        "learning_rate = 0.0065  # Пробуйте разные значения (0.007)\n",
        "\n",
        "model = ConvNet(num_classes)\n",
        "\n",
        "loss_fn = nn.CrossEntropyLoss()\n",
        "\n",
        "optimizer = torch.optim.SGD(\n",
        "    model.parameters(),\n",
        "    lr=learning_rate\n",
        ")"
      ]
    },
    {
      "cell_type": "markdown",
      "metadata": {
        "id": "R3d1eIAOPEiJ"
      },
      "source": [
        "## Цикл обучения\n",
        "\n",
        "Попробуйте разные гиперпараметры для вашей модели. Попробуйте улучшить результат от первой попытки.\n",
        "\n",
        "Вы можете по своему желанию добавить графики потерь и точности от эпохи."
      ]
    },
    {
      "cell_type": "code",
      "source": [
        "import matplotlib.pyplot as plt"
      ],
      "metadata": {
        "id": "UipGdtNYrEb8"
      },
      "execution_count": 15,
      "outputs": []
    },
    {
      "cell_type": "code",
      "execution_count": 36,
      "metadata": {
        "id": "dLSoxR7ePE1_",
        "colab": {
          "base_uri": "https://localhost:8080/"
        },
        "outputId": "c3163f0c-a245-44c7-ad2d-5f9ac7229baf"
      },
      "outputs": [
        {
          "output_type": "stream",
          "name": "stdout",
          "text": [
            "Epoch [1/100], Loss: 2.3035950660705566\n",
            "Точность (accuracy) 12.4375%\n",
            "Epoch [2/100], Loss: 2.295583963394165\n",
            "Точность (accuracy) 17.0625%\n",
            "Epoch [3/100], Loss: 2.2898645401000977\n",
            "Точность (accuracy) 21.875%\n",
            "Epoch [4/100], Loss: 2.2740578651428223\n",
            "Точность (accuracy) 24.0%\n",
            "Epoch [5/100], Loss: 2.2612318992614746\n",
            "Точность (accuracy) 24.6875%\n",
            "Epoch [6/100], Loss: 2.229372501373291\n",
            "Точность (accuracy) 24.5625%\n",
            "Epoch [7/100], Loss: 2.20821213722229\n",
            "Точность (accuracy) 25.25%\n",
            "Epoch [8/100], Loss: 2.1466667652130127\n",
            "Точность (accuracy) 29.4375%\n",
            "Epoch [9/100], Loss: 2.051522970199585\n",
            "Точность (accuracy) 30.5625%\n",
            "Epoch [10/100], Loss: 1.8341660499572754\n",
            "Точность (accuracy) 32.6875%\n",
            "Epoch [11/100], Loss: 1.8302356004714966\n",
            "Точность (accuracy) 37.9375%\n",
            "Epoch [12/100], Loss: 1.8180936574935913\n",
            "Точность (accuracy) 41.375%\n",
            "Epoch [13/100], Loss: 1.662097454071045\n",
            "Точность (accuracy) 42.3125%\n",
            "Epoch [14/100], Loss: 1.7514704465866089\n",
            "Точность (accuracy) 45.6875%\n",
            "Epoch [15/100], Loss: 1.5943987369537354\n",
            "Точность (accuracy) 47.25%\n",
            "Epoch [16/100], Loss: 1.530122995376587\n",
            "Точность (accuracy) 48.875%\n",
            "Epoch [17/100], Loss: 1.4286766052246094\n",
            "Точность (accuracy) 51.0625%\n",
            "Epoch [18/100], Loss: 1.3636869192123413\n",
            "Точность (accuracy) 53.1875%\n",
            "Epoch [19/100], Loss: 1.4298434257507324\n",
            "Точность (accuracy) 51.1875%\n",
            "Epoch [20/100], Loss: 1.4141322374343872\n",
            "Точность (accuracy) 54.5%\n",
            "Epoch [21/100], Loss: 1.2541229724884033\n",
            "Точность (accuracy) 56.25%\n",
            "Epoch [22/100], Loss: 1.5366605520248413\n",
            "Точность (accuracy) 56.1875%\n",
            "Epoch [23/100], Loss: 1.4871350526809692\n",
            "Точность (accuracy) 56.875%\n",
            "Epoch [24/100], Loss: 1.4952630996704102\n",
            "Точность (accuracy) 54.5%\n",
            "Epoch [25/100], Loss: 1.2756493091583252\n",
            "Точность (accuracy) 57.75%\n",
            "Epoch [26/100], Loss: 1.1788172721862793\n",
            "Точность (accuracy) 57.1875%\n",
            "Epoch [27/100], Loss: 1.2234762907028198\n",
            "Точность (accuracy) 58.3125%\n",
            "Epoch [28/100], Loss: 1.247371792793274\n",
            "Точность (accuracy) 58.4375%\n",
            "Epoch [29/100], Loss: 0.9739489555358887\n",
            "Точность (accuracy) 58.4375%\n",
            "Epoch [30/100], Loss: 1.111099362373352\n",
            "Точность (accuracy) 58.9375%\n",
            "Epoch [31/100], Loss: 1.190236210823059\n",
            "Точность (accuracy) 60.875%\n",
            "Epoch [32/100], Loss: 1.1888341903686523\n",
            "Точность (accuracy) 60.625%\n",
            "Epoch [33/100], Loss: 0.807445764541626\n",
            "Точность (accuracy) 60.8125%\n",
            "Epoch [34/100], Loss: 0.8790896534919739\n",
            "Точность (accuracy) 61.0625%\n",
            "Epoch [35/100], Loss: 1.1184636354446411\n",
            "Точность (accuracy) 60.875%\n",
            "Epoch [36/100], Loss: 1.067260503768921\n",
            "Точность (accuracy) 62.9375%\n",
            "Epoch [37/100], Loss: 0.8139700293540955\n",
            "Точность (accuracy) 62.1875%\n",
            "Epoch [38/100], Loss: 0.9623493552207947\n",
            "Точность (accuracy) 61.625%\n",
            "Epoch [39/100], Loss: 0.9106405973434448\n",
            "Точность (accuracy) 61.3125%\n",
            "Epoch [40/100], Loss: 1.1228135824203491\n",
            "Точность (accuracy) 63.25%\n",
            "Epoch [41/100], Loss: 0.7140205502510071\n",
            "Точность (accuracy) 61.8125%\n",
            "Epoch [42/100], Loss: 0.883219838142395\n",
            "Точность (accuracy) 63.8125%\n",
            "Epoch [43/100], Loss: 0.9015530347824097\n",
            "Точность (accuracy) 64.1875%\n",
            "Epoch [44/100], Loss: 0.6511698365211487\n",
            "Точность (accuracy) 65.8125%\n",
            "Epoch [45/100], Loss: 0.8613292574882507\n",
            "Точность (accuracy) 63.75%\n",
            "Epoch [46/100], Loss: 0.7068312764167786\n",
            "Точность (accuracy) 65.625%\n",
            "Epoch [47/100], Loss: 0.9250792860984802\n",
            "Точность (accuracy) 64.8125%\n",
            "Epoch [48/100], Loss: 0.7289596199989319\n",
            "Точность (accuracy) 67.1875%\n",
            "Epoch [49/100], Loss: 0.6967335939407349\n",
            "Точность (accuracy) 67.4375%\n",
            "Epoch [50/100], Loss: 0.584663987159729\n",
            "Точность (accuracy) 66.75%\n",
            "Epoch [51/100], Loss: 0.5617247819900513\n",
            "Точность (accuracy) 67.75%\n",
            "Epoch [52/100], Loss: 0.7207797169685364\n",
            "Точность (accuracy) 61.5%\n",
            "Epoch [53/100], Loss: 0.5325820446014404\n",
            "Точность (accuracy) 66.125%\n",
            "Epoch [54/100], Loss: 0.531315803527832\n",
            "Точность (accuracy) 67.25%\n",
            "Epoch [55/100], Loss: 0.7668170928955078\n",
            "Точность (accuracy) 69.3125%\n",
            "Epoch [56/100], Loss: 0.5203391313552856\n",
            "Точность (accuracy) 69.3125%\n",
            "Epoch [57/100], Loss: 0.5283662676811218\n",
            "Точность (accuracy) 67.875%\n",
            "Epoch [58/100], Loss: 0.5189483761787415\n",
            "Точность (accuracy) 68.5625%\n",
            "Epoch [59/100], Loss: 0.3836798667907715\n",
            "Точность (accuracy) 71.25%\n",
            "Epoch [60/100], Loss: 0.2485896348953247\n",
            "Точность (accuracy) 70.375%\n",
            "Epoch [61/100], Loss: 0.519896924495697\n",
            "Точность (accuracy) 69.5%\n",
            "Epoch [62/100], Loss: 0.5767709612846375\n",
            "Точность (accuracy) 66.1875%\n",
            "Epoch [63/100], Loss: 0.28636428713798523\n",
            "Точность (accuracy) 67.6875%\n",
            "Epoch [64/100], Loss: 0.38524121046066284\n",
            "Точность (accuracy) 70.5%\n",
            "Epoch [65/100], Loss: 0.3376314043998718\n",
            "Точность (accuracy) 66.5625%\n",
            "Epoch [66/100], Loss: 0.28362739086151123\n",
            "Точность (accuracy) 69.25%\n",
            "Epoch [67/100], Loss: 0.39274075627326965\n",
            "Точность (accuracy) 69.0625%\n",
            "Epoch [68/100], Loss: 0.325152188539505\n",
            "Точность (accuracy) 70.5%\n",
            "Epoch [69/100], Loss: 0.23854143917560577\n",
            "Точность (accuracy) 72.1875%\n",
            "Epoch [70/100], Loss: 0.27860692143440247\n",
            "Точность (accuracy) 66.6875%\n",
            "Epoch [71/100], Loss: 0.19183774292469025\n",
            "Точность (accuracy) 71.625%\n",
            "Epoch [72/100], Loss: 0.12184712290763855\n",
            "Точность (accuracy) 70.9375%\n",
            "Epoch [73/100], Loss: 0.20190224051475525\n",
            "Точность (accuracy) 70.9375%\n",
            "Epoch [74/100], Loss: 0.1546129584312439\n",
            "Точность (accuracy) 72.625%\n",
            "Epoch [75/100], Loss: 0.13412612676620483\n",
            "Точность (accuracy) 69.25%\n",
            "Epoch [76/100], Loss: 0.17604310810565948\n",
            "Точность (accuracy) 72.625%\n",
            "Epoch [77/100], Loss: 0.08869689702987671\n",
            "Точность (accuracy) 72.625%\n",
            "Epoch [78/100], Loss: 0.1268850862979889\n",
            "Точность (accuracy) 72.0625%\n",
            "Epoch [79/100], Loss: 0.1544116884469986\n",
            "Точность (accuracy) 70.875%\n",
            "Epoch [80/100], Loss: 0.1944156438112259\n",
            "Точность (accuracy) 68.8125%\n",
            "Epoch [81/100], Loss: 0.15919266641139984\n",
            "Точность (accuracy) 70.9375%\n",
            "Epoch [82/100], Loss: 0.12011837959289551\n",
            "Точность (accuracy) 73.5625%\n",
            "Epoch [83/100], Loss: 0.11482197791337967\n",
            "Точность (accuracy) 71.9375%\n",
            "Epoch [84/100], Loss: 0.09609764069318771\n",
            "Точность (accuracy) 73.5%\n",
            "Epoch [85/100], Loss: 0.09820733219385147\n",
            "Точность (accuracy) 73.4375%\n",
            "Epoch [86/100], Loss: 0.024403061717748642\n",
            "Точность (accuracy) 73.0625%\n",
            "Epoch [87/100], Loss: 0.03853749856352806\n",
            "Точность (accuracy) 73.125%\n",
            "Epoch [88/100], Loss: 0.04449743404984474\n",
            "Точность (accuracy) 73.0625%\n",
            "Epoch [89/100], Loss: 0.04092567041516304\n",
            "Точность (accuracy) 72.625%\n",
            "Epoch [90/100], Loss: 0.022368047386407852\n",
            "Точность (accuracy) 73.0%\n",
            "Epoch [91/100], Loss: 0.012980733998119831\n",
            "Точность (accuracy) 74.125%\n",
            "Epoch [92/100], Loss: 0.02685934118926525\n",
            "Точность (accuracy) 73.625%\n",
            "Epoch [93/100], Loss: 0.08338788151741028\n",
            "Точность (accuracy) 71.8125%\n",
            "Epoch [94/100], Loss: 0.05634128302335739\n",
            "Точность (accuracy) 74.25%\n",
            "Epoch [95/100], Loss: 0.030375463888049126\n",
            "Точность (accuracy) 73.5625%\n",
            "Epoch [96/100], Loss: 0.016819728538393974\n",
            "Точность (accuracy) 72.6875%\n",
            "Epoch [97/100], Loss: 0.01907905749976635\n",
            "Точность (accuracy) 73.75%\n",
            "Epoch [98/100], Loss: 0.03686137869954109\n",
            "Точность (accuracy) 73.0625%\n",
            "Epoch [99/100], Loss: 0.012562631629407406\n",
            "Точность (accuracy) 73.75%\n",
            "Epoch [100/100], Loss: 0.012094789184629917\n",
            "Точность (accuracy) 73.3125%\n",
            "CPU times: user 10min 45s, sys: 21.5 s, total: 11min 7s\n",
            "Wall time: 11min 15s\n"
          ]
        }
      ],
      "source": [
        "%%time\n",
        "\n",
        "best_acc = 0\n",
        "train_losses = []\n",
        "val_accuracies = []\n",
        "\n",
        "for epoch in range(num_epochs):\n",
        "    model.train()\n",
        "    running_loss = 0\n",
        "    for i, (images, labels) in enumerate(train_loader):\n",
        "        outputs = model(images)\n",
        "        loss = loss_fn(outputs, labels)\n",
        "\n",
        "        optimizer.zero_grad()\n",
        "        loss.backward()\n",
        "        optimizer.step()\n",
        "\n",
        "        running_loss += loss.item()\n",
        "\n",
        "    # Сохранение потерь для графика\n",
        "    train_losses.append(running_loss / len(train_loader))\n",
        "\n",
        "        # Forward pass\n",
        "        # Прямой ход:\n",
        "        # Расчет вывода модели\n",
        "        # Расчет потерь\n",
        "\n",
        "        # Обнуление градиентов\n",
        "        # Обратный ход\n",
        "        # Шаг оптимизатора\n",
        "\n",
        "    print (f'Epoch [{epoch+1}/{num_epochs}], Loss: {loss.item()}')\n",
        "\n",
        "    # Валидация\n",
        "    model.eval()\n",
        "    correct = 0\n",
        "    total = 0\n",
        "    with torch.no_grad():\n",
        "        for images, labels in val_loader:\n",
        "            outputs = model(images)\n",
        "            _, predicted = torch.max(outputs.data, 1)\n",
        "            total += labels.size(0)\n",
        "            correct += (predicted == labels).sum().item()\n",
        "\n",
        "    accuracy = 100 * correct / total\n",
        "    val_accuracies.append(accuracy)\n",
        "\n",
        "            # Расчет вывода модели\n",
        "            # С помощью torch.max можно получить индекс класса\n",
        "            # К total прибавляем количество данных в этом батче\n",
        "            # К correct прибавляем сумму совпадений между предсказанными классами и истинными\n",
        "\n",
        "    print(f'Точность (accuracy) {accuracy}%')\n",
        "    if accuracy > best_acc:\n",
        "        best_acc = accuracy\n",
        "        torch.save({\n",
        "                'epoch': epoch,\n",
        "                'model_state_dict': model.state_dict(),\n",
        "                }, \"best_model_params.pth\")"
      ]
    },
    {
      "cell_type": "code",
      "source": [
        "# Графики\n",
        "plt.figure(figsize=(12, 4))\n",
        "plt.subplot(1, 2, 1)\n",
        "plt.plot(train_losses, label='Training Loss')\n",
        "plt.title('Training Loss')\n",
        "plt.xlabel('Epoch')\n",
        "plt.ylabel('Loss')\n",
        "plt.legend()\n",
        "\n",
        "plt.subplot(1, 2, 2)\n",
        "plt.plot(val_accuracies, label='Validation Accuracy')\n",
        "plt.title('Validation Accuracy')\n",
        "plt.xlabel('Epoch')\n",
        "plt.ylabel('Accuracy (%)')\n",
        "plt.legend()\n",
        "\n",
        "plt.show()"
      ],
      "metadata": {
        "colab": {
          "base_uri": "https://localhost:8080/",
          "height": 410
        },
        "id": "v-6Toob5uSZh",
        "outputId": "34f27e3a-ce2f-480f-ab06-8ae198cfa2c5"
      },
      "execution_count": 37,
      "outputs": [
        {
          "output_type": "display_data",
          "data": {
            "text/plain": [
              "<Figure size 1200x400 with 2 Axes>"
            ],
            "image/png": "[encoded data removed]"
          },
          "metadata": {}
        }
      ]
    },
    {
      "cell_type": "markdown",
      "metadata": {
        "id": "YcqG7WGtPnCz"
      },
      "source": [
        "## Итоговая оценка\n",
        "\n",
        "Часть кода, которую вы реализовали для оценки модели на валидационной выборке, можно использовать для финальной проверки, указав нужный loader."
      ]
    },
    {
      "cell_type": "code",
      "execution_count": 38,
      "metadata": {
        "id": "iXZ7EfU7Pvtz",
        "colab": {
          "base_uri": "https://localhost:8080/"
        },
        "outputId": "dd48855d-2b1a-461b-a002-a37fc64da2bb"
      },
      "outputs": [
        {
          "output_type": "stream",
          "name": "stdout",
          "text": [
            "Точность (accuracy) 74.3%\n"
          ]
        }
      ],
      "source": [
        "with torch.no_grad():\n",
        "    model.eval()\n",
        "    correct = 0\n",
        "    total = 0\n",
        "    for images, labels in test_loader:\n",
        "      # Ваш код\n",
        "      outputs = model(images)\n",
        "      _, predicted = torch.max(outputs.data, 1)\n",
        "      total += labels.size(0)\n",
        "      correct += (predicted == labels).sum().item()\n",
        "\n",
        "    accuracy = 100 * correct / total\n",
        "    val_accuracies.append(accuracy)\n",
        "\n",
        "    print(f'Точность (accuracy) {accuracy}%')"
      ]
    },
    {
      "cell_type": "markdown",
      "metadata": {
        "id": "r5oB2n8VyNnT"
      },
      "source": [
        "**Точность работы модели на тестовой выборке**\n",
        "\n",
        "Ваш ответ: 74.3%"
      ]
    }
  ],
  "metadata": {
    "colab": {
      "provenance": [],
      "gpuType": "T4"
    },
    "kernelspec": {
      "display_name": "Python 3",
      "name": "python3"
    },
    "language_info": {
      "name": "python"
    },
    "accelerator": "GPU"
  },
  "nbformat": 4,
  "nbformat_minor": 0
}